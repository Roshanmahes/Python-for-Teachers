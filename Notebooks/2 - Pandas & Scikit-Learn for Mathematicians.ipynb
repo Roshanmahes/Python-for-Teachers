{
 "cells": [
  {
   "cell_type": "markdown",
   "metadata": {},
   "source": [
    "# 2. Introduction to Pandas & Scikit-Learn for Mathematicians"
   ]
  },
  {
   "cell_type": "markdown",
   "metadata": {
    "toc": true
   },
   "source": [
    "<h1>Table of Contents<span class=\"tocSkip\"></span></h1>\n",
    "<div class=\"toc\"><ul class=\"toc-item\"><li><span><a href=\"#2.-Introduction-to-Pandas-&amp;-Scikit-Learn-for-Mathematicians\" data-toc-modified-id=\"2.-Introduction-to-Pandas-&amp;-Scikit-Learn-for-Mathematicians-1\">2. Introduction to Pandas &amp; Scikit-Learn for Mathematicians</a></span><ul class=\"toc-item\"><li><span><a href=\"#2.1-Introduction-to-Pandas\" data-toc-modified-id=\"2.1-Introduction-to-Pandas-1.1\">2.1 Introduction to Pandas</a></span><ul class=\"toc-item\"><li><ul class=\"toc-item\"><li><span><a href=\"#🔴-Homework:-Add-a-column-to-our-data-frame,-with-the-value-True-if-the-person-is-a-student,-and-False-otherwise.\" data-toc-modified-id=\"🔴-Homework:-Add-a-column-to-our-data-frame,-with-the-value-True-if-the-person-is-a-student,-and-False-otherwise.-1.1.0.1\">🔴 <em>Homework: Add a column to our data frame, with the value <code>True</code> if the person is a student, and <code>False</code> otherwise.</em></a></span></li></ul></li></ul></li><li><span><a href=\"#2.2-Introduction-to-Machine-Learning\" data-toc-modified-id=\"2.2-Introduction-to-Machine-Learning-1.2\">2.2 Introduction to Machine Learning</a></span><ul class=\"toc-item\"><li><ul class=\"toc-item\"><li><span><a href=\"#1.-Supervised-Learning:-learning-from-labeled-data\" data-toc-modified-id=\"1.-Supervised-Learning:-learning-from-labeled-data-1.2.0.1\">1. <em>Supervised Learning:</em> learning from labeled data</a></span></li><li><span><a href=\"#2.-Unsupervised-Learning:-learning-from-unlabeled-data\" data-toc-modified-id=\"2.-Unsupervised-Learning:-learning-from-unlabeled-data-1.2.0.2\">2. <em>Unsupervised Learning:</em> learning from unlabeled data</a></span></li><li><span><a href=\"#3.-Reinforcement-Learning:-learning-by-'doing'-with-delayed-reward\" data-toc-modified-id=\"3.-Reinforcement-Learning:-learning-by-'doing'-with-delayed-reward-1.2.0.3\">3. <em>Reinforcement Learning:</em> learning by 'doing' with delayed reward</a></span></li></ul></li></ul></li><li><span><a href=\"#2.3-Machine-Learning-with-Scikit-Learn\" data-toc-modified-id=\"2.3-Machine-Learning-with-Scikit-Learn-1.3\">2.3 Machine Learning with Scikit-Learn</a></span><ul class=\"toc-item\"><li><span><a href=\"#Example-1:-Linear-Regression\" data-toc-modified-id=\"Example-1:-Linear-Regression-1.3.1\">Example 1: Linear Regression</a></span></li><li><span><a href=\"#Example-2:-Clustering\" data-toc-modified-id=\"Example-2:-Clustering-1.3.2\">Example 2: Clustering</a></span></li><li><span><a href=\"#Want-to-know-more-about-Scikit-Learn-or-Machine-Learning?-Check-out-'Google-Drive'.\" data-toc-modified-id=\"Want-to-know-more-about-Scikit-Learn-or-Machine-Learning?-Check-out-'Google-Drive'.-1.3.3\">Want to know more about Scikit-Learn or Machine Learning? Check out 'Google Drive'.</a></span></li><li><span><a href=\"#🔴-Next-Week:\" data-toc-modified-id=\"🔴-Next-Week:-1.3.4\">🔴 <em>Next Week:</em></a></span></li></ul></li></ul></li></ul></div>"
   ]
  },
  {
   "cell_type": "markdown",
   "metadata": {},
   "source": [
    "Next week? Choose among:\n",
    "\n",
    "- Plotting/Data Visualization: `matplotlib`, `plotly`, `bokeh`\n",
    "- Symbolic Mathematics: `sympy`\n",
    "- Machine Learning 2: `scikit-learn`, `keras`, `tensorflow`\n",
    "- Stochastics/statistics: `random`, `scipy.statistics` , `statsmodels`\n",
    "- SAGE\n",
    "- Web Framework: `django`, `flask`\n",
    "- Other: ___________?\n",
    "\n"
   ]
  },
  {
   "cell_type": "markdown",
   "metadata": {},
   "source": [
    "## 2.1 Introduction to Pandas\n",
    "\n",
    "`pandas` is a fast, powerful, flexible and easy to use open source data analysis and manipulation tool, built on top of the Python programming language."
   ]
  },
  {
   "cell_type": "code",
   "execution_count": 13,
   "metadata": {
    "ExecuteTime": {
     "end_time": "2020-06-21T14:02:15.549078Z",
     "start_time": "2020-06-21T14:02:11.922097Z"
    },
    "hide_input": false
   },
   "outputs": [
    {
     "name": "stdout",
     "output_type": "stream",
     "text": [
      "Requirement already satisfied: pandas in c:\\programdata\\anaconda3\\lib\\site-packages (0.23.4)\n",
      "Requirement already satisfied: python-dateutil>=2.5.0 in c:\\programdata\\anaconda3\\lib\\site-packages (from pandas) (2.7.5)\n",
      "Requirement already satisfied: pytz>=2011k in c:\\programdata\\anaconda3\\lib\\site-packages (from pandas) (2018.7)\n",
      "Requirement already satisfied: numpy>=1.9.0 in c:\\programdata\\anaconda3\\lib\\site-packages (from pandas) (1.15.4)\n",
      "Requirement already satisfied: six>=1.5 in c:\\programdata\\anaconda3\\lib\\site-packages (from python-dateutil>=2.5.0->pandas) (1.12.0)\n"
     ]
    }
   ],
   "source": [
    "!pip install pandas\n",
    "import pandas as pd"
   ]
  },
  {
   "cell_type": "markdown",
   "metadata": {},
   "source": [
    "The full documentation of this package can be found by typing `help(pandas)`."
   ]
  },
  {
   "cell_type": "code",
   "execution_count": 2,
   "metadata": {},
   "outputs": [
    {
     "name": "stdout",
     "output_type": "stream",
     "text": [
      "Help on package pandas:\n",
      "\n",
      "NAME\n",
      "    pandas\n",
      "\n",
      "DESCRIPTION\n",
      "    pandas - a powerful data analysis and manipulation library for Python\n",
      "    =====================================================================\n",
      "    \n",
      "    **pandas** is a Python package providing fast, flexible, and expressive data\n",
      "    structures designed to make working with \"relational\" or \"labeled\" data both\n",
      "    easy and intuitive. It aims to be the fundamental high-level building block for\n",
      "    doing practical, **real world** data analysis in Python. Additionally, it has\n",
      "    the broader goal of becoming **the most powerful and flexible open source data\n",
      "    analysis / manipulation tool available in any language**. It is already well on\n",
      "    its way toward this goal.\n",
      "    \n",
      "    Main Features\n",
      "    -------------\n",
      "    Here are just a few of the things that pandas does well:\n",
      "    \n",
      "      - Easy handling of missing data in floating point as well as non-floating\n",
      "        point data.\n",
      "      - Size mutability: columns can be inserted and deleted from DataFrame and\n",
      "        higher dimensional objects\n",
      "      - Automatic and explicit data alignment: objects can be explicitly aligned\n",
      "        to a set of labels, or the user can simply ignore the labels and let\n",
      "        `Series`, `DataFrame`, etc. automatically align the data for you in\n",
      "        computations.\n",
      "      - Powerful, flexible group by functionality to perform split-apply-combine\n",
      "        operations on data sets, for both aggregating and transforming data.\n",
      "      - Make it easy to convert ragged, differently-indexed data in other Python\n",
      "        and NumPy data structures into DataFrame objects.\n",
      "      - Intelligent label-based slicing, fancy indexing, and subsetting of large\n",
      "        data sets.\n",
      "      - Intuitive merging and joining data sets.\n",
      "      - Flexible reshaping and pivoting of data sets.\n",
      "      - Hierarchical labeling of axes (possible to have multiple labels per tick).\n",
      "      - Robust IO tools for loading data from flat files (CSV and delimited),\n",
      "        Excel files, databases, and saving/loading data from the ultrafast HDF5\n",
      "        format.\n",
      "      - Time series-specific functionality: date range generation and frequency\n",
      "        conversion, moving window statistics, moving window linear regressions,\n",
      "        date shifting and lagging, etc.\n",
      "\n",
      "PACKAGE CONTENTS\n",
      "    _config (package)\n",
      "    _libs (package)\n",
      "    _typing\n",
      "    _version\n",
      "    api (package)\n",
      "    arrays (package)\n",
      "    compat (package)\n",
      "    conftest\n",
      "    core (package)\n",
      "    errors (package)\n",
      "    io (package)\n",
      "    plotting (package)\n",
      "    testing\n",
      "    tests (package)\n",
      "    tseries (package)\n",
      "    util (package)\n",
      "\n",
      "SUBMODULES\n",
      "    _hashtable\n",
      "    _lib\n",
      "    _tslib\n",
      "    offsets\n",
      "\n",
      "FUNCTIONS\n",
      "    __getattr__(name)\n",
      "\n",
      "DATA\n",
      "    IndexSlice = <pandas.core.indexing._IndexSlice object>\n",
      "    NaT = NaT\n",
      "    __docformat__ = 'restructuredtext'\n",
      "    __git_version__ = '171c71611886aab8549a8620c5b0071a129ad685'\n",
      "    describe_option = <pandas._config.config.CallableDynamicDoc object>\n",
      "    get_option = <pandas._config.config.CallableDynamicDoc object>\n",
      "    options = <pandas._config.config.DictWrapper object>\n",
      "    reset_option = <pandas._config.config.CallableDynamicDoc object>\n",
      "    set_option = <pandas._config.config.CallableDynamicDoc object>\n",
      "\n",
      "VERSION\n",
      "    0.25.1\n",
      "\n",
      "FILE\n",
      "    c:\\users\\rosha\\anaconda3\\lib\\site-packages\\pandas\\__init__.py\n",
      "\n",
      "\n"
     ]
    }
   ],
   "source": [
    "help(pd)"
   ]
  },
  {
   "cell_type": "markdown",
   "metadata": {},
   "source": [
    "Sometimes it is more convenient to read the documentation online: https://pandas.pydata.org/docs/user_guide/index.html."
   ]
  },
  {
   "cell_type": "code",
   "execution_count": 3,
   "metadata": {},
   "outputs": [
    {
     "data": {
      "image/jpeg": "[encoded data removed]",
      "text/html": [
       "\n",
       "        <iframe\n",
       "            width=\"400\"\n",
       "            height=\"300\"\n",
       "            src=\"https://www.youtube.com/embed/ZyhVh-qRZPA\"\n",
       "            frameborder=\"0\"\n",
       "            allowfullscreen\n",
       "        ></iframe>\n",
       "        "
      ],
      "text/plain": [
       "<IPython.lib.display.YouTubeVideo at 0x16fb9f97b48>"
      ]
     },
     "execution_count": 3,
     "metadata": {},
     "output_type": "execute_result"
    }
   ],
   "source": [
    "from IPython.display import YouTubeVideo\n",
    "YouTubeVideo('ZyhVh-qRZPA')"
   ]
  },
  {
   "cell_type": "markdown",
   "metadata": {},
   "source": [
    "We can create a `pandas` data frame (i.e., table) as follows:"
   ]
  },
  {
   "cell_type": "code",
   "execution_count": 4,
   "metadata": {},
   "outputs": [
    {
     "data": {
      "text/html": [
       "<div>\n",
       "<style scoped>\n",
       "    .dataframe tbody tr th:only-of-type {\n",
       "        vertical-align: middle;\n",
       "    }\n",
       "\n",
       "    .dataframe tbody tr th {\n",
       "        vertical-align: top;\n",
       "    }\n",
       "\n",
       "    .dataframe thead th {\n",
       "        text-align: right;\n",
       "    }\n",
       "</style>\n",
       "<table border=\"1\" class=\"dataframe\">\n",
       "  <thead>\n",
       "    <tr style=\"text-align: right;\">\n",
       "      <th></th>\n",
       "      <th>name</th>\n",
       "      <th>score 1</th>\n",
       "      <th>score 2</th>\n",
       "    </tr>\n",
       "  </thead>\n",
       "  <tbody>\n",
       "    <tr>\n",
       "      <td>0</td>\n",
       "      <td>Chris</td>\n",
       "      <td>3</td>\n",
       "      <td>5</td>\n",
       "    </tr>\n",
       "    <tr>\n",
       "      <td>1</td>\n",
       "      <td>David</td>\n",
       "      <td>4</td>\n",
       "      <td>5</td>\n",
       "    </tr>\n",
       "    <tr>\n",
       "      <td>2</td>\n",
       "      <td>Nicos</td>\n",
       "      <td>14</td>\n",
       "      <td>5</td>\n",
       "    </tr>\n",
       "    <tr>\n",
       "      <td>3</td>\n",
       "      <td>Peter</td>\n",
       "      <td>16</td>\n",
       "      <td>5</td>\n",
       "    </tr>\n",
       "  </tbody>\n",
       "</table>\n",
       "</div>"
      ],
      "text/plain": [
       "    name  score 1  score 2\n",
       "0  Chris        3        5\n",
       "1  David        4        5\n",
       "2  Nicos       14        5\n",
       "3  Peter       16        5"
      ]
     },
     "execution_count": 4,
     "metadata": {},
     "output_type": "execute_result"
    }
   ],
   "source": [
    "df = pd.DataFrame({'name': ['Chris', 'David', 'Nicos', 'Peter'],\n",
    "                   'score 1': [3, 4, 14, 16],\n",
    "                   'score 2': 5})\n",
    "df"
   ]
  },
  {
   "cell_type": "code",
   "execution_count": 8,
   "metadata": {},
   "outputs": [
    {
     "data": {
      "text/plain": [
       "[['Chris', 3, 5], ['David', 4, 5], ['Nicos', 14, 5], ['Peter', 16, 5]]"
      ]
     },
     "execution_count": 8,
     "metadata": {},
     "output_type": "execute_result"
    }
   ],
   "source": [
    "df.values.tolist()"
   ]
  },
  {
   "cell_type": "markdown",
   "metadata": {},
   "source": [
    "Let's run some simple commands:"
   ]
  },
  {
   "cell_type": "code",
   "execution_count": 12,
   "metadata": {},
   "outputs": [
    {
     "data": {
      "text/plain": [
       "(4, 3)"
      ]
     },
     "execution_count": 12,
     "metadata": {},
     "output_type": "execute_result"
    }
   ],
   "source": [
    "df.shape"
   ]
  },
  {
   "cell_type": "code",
   "execution_count": 10,
   "metadata": {},
   "outputs": [
    {
     "name": "stdout",
     "output_type": "stream",
     "text": [
      "<class 'pandas.core.frame.DataFrame'>\n",
      "RangeIndex: 4 entries, 0 to 3\n",
      "Data columns (total 3 columns):\n",
      "name       4 non-null object\n",
      "score 1    4 non-null int64\n",
      "score 2    4 non-null int64\n",
      "dtypes: int64(2), object(1)\n",
      "memory usage: 224.0+ bytes\n"
     ]
    }
   ],
   "source": [
    "df.info()"
   ]
  },
  {
   "cell_type": "code",
   "execution_count": 15,
   "metadata": {},
   "outputs": [
    {
     "data": {
      "text/plain": [
       "0    Chris\n",
       "1    David\n",
       "2    Nicos\n",
       "3    Peter\n",
       "Name: name, dtype: object"
      ]
     },
     "execution_count": 15,
     "metadata": {},
     "output_type": "execute_result"
    }
   ],
   "source": [
    "df['name'] # df.name"
   ]
  },
  {
   "cell_type": "code",
   "execution_count": 16,
   "metadata": {},
   "outputs": [
    {
     "data": {
      "text/plain": [
       "'Nicos'"
      ]
     },
     "execution_count": 16,
     "metadata": {},
     "output_type": "execute_result"
    }
   ],
   "source": [
    "df['name'][2]"
   ]
  },
  {
   "cell_type": "markdown",
   "metadata": {},
   "source": [
    "We can also read some data from e.g. an Excel-file:"
   ]
  },
  {
   "cell_type": "code",
   "execution_count": 26,
   "metadata": {},
   "outputs": [
    {
     "data": {
      "text/html": [
       "<div>\n",
       "<style scoped>\n",
       "    .dataframe tbody tr th:only-of-type {\n",
       "        vertical-align: middle;\n",
       "    }\n",
       "\n",
       "    .dataframe tbody tr th {\n",
       "        vertical-align: top;\n",
       "    }\n",
       "\n",
       "    .dataframe thead th {\n",
       "        text-align: right;\n",
       "    }\n",
       "</style>\n",
       "<table border=\"1\" class=\"dataframe\">\n",
       "  <thead>\n",
       "    <tr style=\"text-align: right;\">\n",
       "      <th></th>\n",
       "      <th>Profile Picture</th>\n",
       "      <th>Name</th>\n",
       "      <th>SIS ID</th>\n",
       "      <th>Section</th>\n",
       "      <th>Role</th>\n",
       "      <th>Administrative Links</th>\n",
       "    </tr>\n",
       "  </thead>\n",
       "  <tbody>\n",
       "    <tr>\n",
       "      <td>0</td>\n",
       "      <td>Arnoud den Boer</td>\n",
       "      <td>Arnoud den Boer</td>\n",
       "      <td>adboer1</td>\n",
       "      <td>Python voor docenten</td>\n",
       "      <td>TA</td>\n",
       "      <td>Manage Arnoud den Boer</td>\n",
       "    </tr>\n",
       "    <tr>\n",
       "      <td>1</td>\n",
       "      <td>David de Boer</td>\n",
       "      <td>David de Boer</td>\n",
       "      <td>dboer</td>\n",
       "      <td>Python voor docenten</td>\n",
       "      <td>TA</td>\n",
       "      <td>Manage David de Boer</td>\n",
       "    </tr>\n",
       "    <tr>\n",
       "      <td>2</td>\n",
       "      <td>Emma Brakkee</td>\n",
       "      <td>Emma Brakkee</td>\n",
       "      <td>ebrakke</td>\n",
       "      <td>Python voor docenten</td>\n",
       "      <td>TA</td>\n",
       "      <td>Manage Emma Brakkee</td>\n",
       "    </tr>\n",
       "    <tr>\n",
       "      <td>3</td>\n",
       "      <td>Jan Brandts</td>\n",
       "      <td>Jan Brandts</td>\n",
       "      <td>jbrandt3</td>\n",
       "      <td>Python voor docenten</td>\n",
       "      <td>TA</td>\n",
       "      <td>Manage Jan Brandts</td>\n",
       "    </tr>\n",
       "    <tr>\n",
       "      <td>4</td>\n",
       "      <td>Miranda Cheng</td>\n",
       "      <td>Miranda Cheng</td>\n",
       "      <td>ccheng1</td>\n",
       "      <td>Python voor docenten</td>\n",
       "      <td>TA</td>\n",
       "      <td>Manage Miranda Cheng</td>\n",
       "    </tr>\n",
       "    <tr>\n",
       "      <td>5</td>\n",
       "      <td>Jan-Pieter Dorsman</td>\n",
       "      <td>Jan-Pieter Dorsman</td>\n",
       "      <td>jdorsma1</td>\n",
       "      <td>Python voor docenten</td>\n",
       "      <td>TA</td>\n",
       "      <td>Manage Jan-Pieter Dorsman</td>\n",
       "    </tr>\n",
       "    <tr>\n",
       "      <td>6</td>\n",
       "      <td>Lorenzo Guerini</td>\n",
       "      <td>Lorenzo Guerini</td>\n",
       "      <td>lguerin1</td>\n",
       "      <td>Python voor docenten</td>\n",
       "      <td>TA</td>\n",
       "      <td>Manage Lorenzo Guerini</td>\n",
       "    </tr>\n",
       "    <tr>\n",
       "      <td>7</td>\n",
       "      <td>André Heck</td>\n",
       "      <td>André Heck</td>\n",
       "      <td>aheck1</td>\n",
       "      <td>Python voor docenten</td>\n",
       "      <td>TA</td>\n",
       "      <td>Manage André Heck</td>\n",
       "    </tr>\n",
       "    <tr>\n",
       "      <td>8</td>\n",
       "      <td>Mariska Heemskerk</td>\n",
       "      <td>Mariska Heemskerk pending</td>\n",
       "      <td>jheemsk1</td>\n",
       "      <td>Python voor docenten</td>\n",
       "      <td>TA</td>\n",
       "      <td>Manage Mariska Heemskerk</td>\n",
       "    </tr>\n",
       "    <tr>\n",
       "      <td>9</td>\n",
       "      <td>Jaap de Jonge</td>\n",
       "      <td>Jaap de Jonge</td>\n",
       "      <td>cdjonge1</td>\n",
       "      <td>Python voor docenten</td>\n",
       "      <td>TA</td>\n",
       "      <td>Manage Jaap de Jonge</td>\n",
       "    </tr>\n",
       "    <tr>\n",
       "      <td>10</td>\n",
       "      <td>Sven Karbach</td>\n",
       "      <td>Sven Karbach</td>\n",
       "      <td>skarbac</td>\n",
       "      <td>Python voor docenten</td>\n",
       "      <td>TA</td>\n",
       "      <td>Manage Sven Karbach</td>\n",
       "    </tr>\n",
       "    <tr>\n",
       "      <td>11</td>\n",
       "      <td>Arno Kret</td>\n",
       "      <td>Arno Kret</td>\n",
       "      <td>akret1</td>\n",
       "      <td>Python voor docenten</td>\n",
       "      <td>TA</td>\n",
       "      <td>Manage Arno Kret</td>\n",
       "    </tr>\n",
       "    <tr>\n",
       "      <td>12</td>\n",
       "      <td>Roshan Mahes</td>\n",
       "      <td>Roshan Mahes</td>\n",
       "      <td>10973710</td>\n",
       "      <td>Python voor docenten</td>\n",
       "      <td>Teacher</td>\n",
       "      <td>Manage Roshan Mahes</td>\n",
       "    </tr>\n",
       "    <tr>\n",
       "      <td>13</td>\n",
       "      <td>Diletta Martinelli</td>\n",
       "      <td>Diletta Martinelli</td>\n",
       "      <td>dmartin</td>\n",
       "      <td>Python voor docenten</td>\n",
       "      <td>TA</td>\n",
       "      <td>Manage Diletta Martinelli</td>\n",
       "    </tr>\n",
       "    <tr>\n",
       "      <td>14</td>\n",
       "      <td>Sindo Nunez Queija</td>\n",
       "      <td>Sindo Nunez Queija</td>\n",
       "      <td>rnunezq1</td>\n",
       "      <td>Python voor docenten</td>\n",
       "      <td>TA</td>\n",
       "      <td>Manage Sindo Nunez Queija</td>\n",
       "    </tr>\n",
       "    <tr>\n",
       "      <td>15</td>\n",
       "      <td>Gerrit Oomens</td>\n",
       "      <td>Gerrit Oomens</td>\n",
       "      <td>goomens1</td>\n",
       "      <td>Python voor docenten</td>\n",
       "      <td>TA</td>\n",
       "      <td>Manage Gerrit Oomens</td>\n",
       "    </tr>\n",
       "    <tr>\n",
       "      <td>16</td>\n",
       "      <td>Han Peters</td>\n",
       "      <td>Han Peters</td>\n",
       "      <td>hpeters2</td>\n",
       "      <td>Python voor docenten</td>\n",
       "      <td>TA</td>\n",
       "      <td>Manage Han Peters</td>\n",
       "    </tr>\n",
       "    <tr>\n",
       "      <td>17</td>\n",
       "      <td>Hessel Bouke Posthuma</td>\n",
       "      <td>Hessel Bouke Posthuma</td>\n",
       "      <td>hposthu1</td>\n",
       "      <td>Python voor docenten</td>\n",
       "      <td>TA</td>\n",
       "      <td>Manage Hessel Bouke Posthuma</td>\n",
       "    </tr>\n",
       "    <tr>\n",
       "      <td>18</td>\n",
       "      <td>Majken Roelfszema</td>\n",
       "      <td>Majken Roelfszema</td>\n",
       "      <td>mroelfs</td>\n",
       "      <td>Python voor docenten</td>\n",
       "      <td>TA</td>\n",
       "      <td>Manage Majken Roelfszema</td>\n",
       "    </tr>\n",
       "    <tr>\n",
       "      <td>19</td>\n",
       "      <td>Marjan Sjerps</td>\n",
       "      <td>Marjan Sjerps</td>\n",
       "      <td>msjerps1</td>\n",
       "      <td>Python voor docenten</td>\n",
       "      <td>TA</td>\n",
       "      <td>Manage Marjan Sjerps</td>\n",
       "    </tr>\n",
       "    <tr>\n",
       "      <td>20</td>\n",
       "      <td>Peter Spreij</td>\n",
       "      <td>Peter Spreij</td>\n",
       "      <td>pspreij1</td>\n",
       "      <td>Python voor docenten</td>\n",
       "      <td>TA</td>\n",
       "      <td>Manage Peter Spreij</td>\n",
       "    </tr>\n",
       "    <tr>\n",
       "      <td>21</td>\n",
       "      <td>Nicos Starreveld</td>\n",
       "      <td>Nicos Starreveld</td>\n",
       "      <td>nstarre1</td>\n",
       "      <td>Python voor docenten</td>\n",
       "      <td>TA</td>\n",
       "      <td>Manage Nicos Starreveld</td>\n",
       "    </tr>\n",
       "    <tr>\n",
       "      <td>22</td>\n",
       "      <td>Chris Stolk</td>\n",
       "      <td>Chris Stolk</td>\n",
       "      <td>cstolk1</td>\n",
       "      <td>Python voor docenten</td>\n",
       "      <td>TA</td>\n",
       "      <td>Manage Chris Stolk</td>\n",
       "    </tr>\n",
       "    <tr>\n",
       "      <td>23</td>\n",
       "      <td>Kees Temme</td>\n",
       "      <td>Kees Temme</td>\n",
       "      <td>ctemme1</td>\n",
       "      <td>Python voor docenten</td>\n",
       "      <td>TA</td>\n",
       "      <td>Manage Kees Temme</td>\n",
       "    </tr>\n",
       "    <tr>\n",
       "      <td>24</td>\n",
       "      <td>Mees de Vries</td>\n",
       "      <td>Mees de Vries</td>\n",
       "      <td>mdvries7</td>\n",
       "      <td>Python voor docenten</td>\n",
       "      <td>TA</td>\n",
       "      <td>Manage Mees de Vries</td>\n",
       "    </tr>\n",
       "    <tr>\n",
       "      <td>25</td>\n",
       "      <td>Freek Witteveen</td>\n",
       "      <td>Freek Witteveen</td>\n",
       "      <td>fwittev</td>\n",
       "      <td>Python voor docenten</td>\n",
       "      <td>TA</td>\n",
       "      <td>Manage Freek Witteveen</td>\n",
       "    </tr>\n",
       "    <tr>\n",
       "      <td>26</td>\n",
       "      <td>Chris Zaal</td>\n",
       "      <td>Chris Zaal</td>\n",
       "      <td>czaal1</td>\n",
       "      <td>Python voor docenten</td>\n",
       "      <td>Teacher</td>\n",
       "      <td>NaN</td>\n",
       "    </tr>\n",
       "  </tbody>\n",
       "</table>\n",
       "</div>"
      ],
      "text/plain": [
       "          Profile Picture                       Name    SIS ID  \\\n",
       "0         Arnoud den Boer            Arnoud den Boer   adboer1   \n",
       "1           David de Boer              David de Boer     dboer   \n",
       "2            Emma Brakkee               Emma Brakkee   ebrakke   \n",
       "3             Jan Brandts                Jan Brandts  jbrandt3   \n",
       "4           Miranda Cheng              Miranda Cheng   ccheng1   \n",
       "5      Jan-Pieter Dorsman         Jan-Pieter Dorsman  jdorsma1   \n",
       "6         Lorenzo Guerini            Lorenzo Guerini  lguerin1   \n",
       "7              André Heck                 André Heck    aheck1   \n",
       "8       Mariska Heemskerk  Mariska Heemskerk pending  jheemsk1   \n",
       "9           Jaap de Jonge              Jaap de Jonge  cdjonge1   \n",
       "10           Sven Karbach               Sven Karbach   skarbac   \n",
       "11              Arno Kret                  Arno Kret    akret1   \n",
       "12           Roshan Mahes               Roshan Mahes  10973710   \n",
       "13     Diletta Martinelli         Diletta Martinelli   dmartin   \n",
       "14     Sindo Nunez Queija         Sindo Nunez Queija  rnunezq1   \n",
       "15          Gerrit Oomens              Gerrit Oomens  goomens1   \n",
       "16             Han Peters                 Han Peters  hpeters2   \n",
       "17  Hessel Bouke Posthuma      Hessel Bouke Posthuma  hposthu1   \n",
       "18      Majken Roelfszema          Majken Roelfszema   mroelfs   \n",
       "19          Marjan Sjerps              Marjan Sjerps  msjerps1   \n",
       "20           Peter Spreij               Peter Spreij  pspreij1   \n",
       "21       Nicos Starreveld           Nicos Starreveld  nstarre1   \n",
       "22            Chris Stolk                Chris Stolk   cstolk1   \n",
       "23             Kees Temme                 Kees Temme   ctemme1   \n",
       "24          Mees de Vries              Mees de Vries  mdvries7   \n",
       "25        Freek Witteveen            Freek Witteveen   fwittev   \n",
       "26             Chris Zaal                 Chris Zaal    czaal1   \n",
       "\n",
       "                 Section     Role          Administrative Links  \n",
       "0   Python voor docenten       TA        Manage Arnoud den Boer  \n",
       "1   Python voor docenten       TA          Manage David de Boer  \n",
       "2   Python voor docenten       TA           Manage Emma Brakkee  \n",
       "3   Python voor docenten       TA            Manage Jan Brandts  \n",
       "4   Python voor docenten       TA          Manage Miranda Cheng  \n",
       "5   Python voor docenten       TA     Manage Jan-Pieter Dorsman  \n",
       "6   Python voor docenten       TA        Manage Lorenzo Guerini  \n",
       "7   Python voor docenten       TA             Manage André Heck  \n",
       "8   Python voor docenten       TA      Manage Mariska Heemskerk  \n",
       "9   Python voor docenten       TA          Manage Jaap de Jonge  \n",
       "10  Python voor docenten       TA           Manage Sven Karbach  \n",
       "11  Python voor docenten       TA              Manage Arno Kret  \n",
       "12  Python voor docenten  Teacher           Manage Roshan Mahes  \n",
       "13  Python voor docenten       TA     Manage Diletta Martinelli  \n",
       "14  Python voor docenten       TA     Manage Sindo Nunez Queija  \n",
       "15  Python voor docenten       TA          Manage Gerrit Oomens  \n",
       "16  Python voor docenten       TA             Manage Han Peters  \n",
       "17  Python voor docenten       TA  Manage Hessel Bouke Posthuma  \n",
       "18  Python voor docenten       TA      Manage Majken Roelfszema  \n",
       "19  Python voor docenten       TA          Manage Marjan Sjerps  \n",
       "20  Python voor docenten       TA           Manage Peter Spreij  \n",
       "21  Python voor docenten       TA       Manage Nicos Starreveld  \n",
       "22  Python voor docenten       TA            Manage Chris Stolk  \n",
       "23  Python voor docenten       TA             Manage Kees Temme  \n",
       "24  Python voor docenten       TA          Manage Mees de Vries  \n",
       "25  Python voor docenten       TA        Manage Freek Witteveen  \n",
       "26  Python voor docenten  Teacher                           NaN  "
      ]
     },
     "execution_count": 26,
     "metadata": {},
     "output_type": "execute_result"
    }
   ],
   "source": [
    "df = pd.read_excel('resources/users.xlsx')\n",
    "df"
   ]
  },
  {
   "cell_type": "markdown",
   "metadata": {},
   "source": [
    "Often, it is important to clean up our data:"
   ]
  },
  {
   "cell_type": "code",
   "execution_count": 83,
   "metadata": {
    "code_folding": []
   },
   "outputs": [
    {
     "data": {
      "text/html": [
       "<div>\n",
       "<style scoped>\n",
       "    .dataframe tbody tr th:only-of-type {\n",
       "        vertical-align: middle;\n",
       "    }\n",
       "\n",
       "    .dataframe tbody tr th {\n",
       "        vertical-align: top;\n",
       "    }\n",
       "\n",
       "    .dataframe thead th {\n",
       "        text-align: right;\n",
       "    }\n",
       "</style>\n",
       "<table border=\"1\" class=\"dataframe\">\n",
       "  <thead>\n",
       "    <tr style=\"text-align: right;\">\n",
       "      <th></th>\n",
       "      <th>Name</th>\n",
       "      <th>SIS ID</th>\n",
       "      <th>Role</th>\n",
       "      <th>Week</th>\n",
       "      <th>Week2</th>\n",
       "    </tr>\n",
       "  </thead>\n",
       "  <tbody>\n",
       "    <tr>\n",
       "      <td>0</td>\n",
       "      <td>Arnoud den Boer</td>\n",
       "      <td>adboer1</td>\n",
       "      <td>TA</td>\n",
       "      <td>2</td>\n",
       "      <td>2.0</td>\n",
       "    </tr>\n",
       "    <tr>\n",
       "      <td>1</td>\n",
       "      <td>David de Boer</td>\n",
       "      <td>dboer</td>\n",
       "      <td>TA</td>\n",
       "      <td>2</td>\n",
       "      <td>2.0</td>\n",
       "    </tr>\n",
       "    <tr>\n",
       "      <td>2</td>\n",
       "      <td>Emma Brakkee</td>\n",
       "      <td>ebrakke</td>\n",
       "      <td>TA</td>\n",
       "      <td>2</td>\n",
       "      <td>2.0</td>\n",
       "    </tr>\n",
       "    <tr>\n",
       "      <td>3</td>\n",
       "      <td>Jan Brandts</td>\n",
       "      <td>jbrandt3</td>\n",
       "      <td>TA</td>\n",
       "      <td>2</td>\n",
       "      <td>2.0</td>\n",
       "    </tr>\n",
       "    <tr>\n",
       "      <td>4</td>\n",
       "      <td>Miranda Cheng</td>\n",
       "      <td>ccheng1</td>\n",
       "      <td>TA</td>\n",
       "      <td>2</td>\n",
       "      <td>2.0</td>\n",
       "    </tr>\n",
       "    <tr>\n",
       "      <td>5</td>\n",
       "      <td>Jan-Pieter Dorsman</td>\n",
       "      <td>jdorsma1</td>\n",
       "      <td>TA</td>\n",
       "      <td>2</td>\n",
       "      <td>2.0</td>\n",
       "    </tr>\n",
       "    <tr>\n",
       "      <td>6</td>\n",
       "      <td>Lorenzo Guerini</td>\n",
       "      <td>lguerin1</td>\n",
       "      <td>TA</td>\n",
       "      <td>2</td>\n",
       "      <td>2.0</td>\n",
       "    </tr>\n",
       "    <tr>\n",
       "      <td>7</td>\n",
       "      <td>André Heck</td>\n",
       "      <td>aheck1</td>\n",
       "      <td>TA</td>\n",
       "      <td>2</td>\n",
       "      <td>2.0</td>\n",
       "    </tr>\n",
       "    <tr>\n",
       "      <td>8</td>\n",
       "      <td>Mariska Heemskerk pending</td>\n",
       "      <td>jheemsk1</td>\n",
       "      <td>TA</td>\n",
       "      <td>2</td>\n",
       "      <td>2.0</td>\n",
       "    </tr>\n",
       "    <tr>\n",
       "      <td>9</td>\n",
       "      <td>Jaap de Jonge</td>\n",
       "      <td>cdjonge1</td>\n",
       "      <td>TA</td>\n",
       "      <td>2</td>\n",
       "      <td>2.0</td>\n",
       "    </tr>\n",
       "    <tr>\n",
       "      <td>10</td>\n",
       "      <td>Sven Karbach</td>\n",
       "      <td>skarbac</td>\n",
       "      <td>TA</td>\n",
       "      <td>2</td>\n",
       "      <td>2.0</td>\n",
       "    </tr>\n",
       "    <tr>\n",
       "      <td>11</td>\n",
       "      <td>Arno Kret</td>\n",
       "      <td>akret1</td>\n",
       "      <td>TA</td>\n",
       "      <td>2</td>\n",
       "      <td>2.0</td>\n",
       "    </tr>\n",
       "    <tr>\n",
       "      <td>12</td>\n",
       "      <td>Roshan Mahes</td>\n",
       "      <td>10973710</td>\n",
       "      <td>Teacher</td>\n",
       "      <td>2</td>\n",
       "      <td>2.0</td>\n",
       "    </tr>\n",
       "    <tr>\n",
       "      <td>13</td>\n",
       "      <td>Diletta Martinelli</td>\n",
       "      <td>dmartin</td>\n",
       "      <td>TA</td>\n",
       "      <td>2</td>\n",
       "      <td>2.0</td>\n",
       "    </tr>\n",
       "    <tr>\n",
       "      <td>14</td>\n",
       "      <td>Sindo Nunez Queija</td>\n",
       "      <td>rnunezq1</td>\n",
       "      <td>TA</td>\n",
       "      <td>2</td>\n",
       "      <td>2.0</td>\n",
       "    </tr>\n",
       "    <tr>\n",
       "      <td>15</td>\n",
       "      <td>Gerrit Oomens</td>\n",
       "      <td>goomens1</td>\n",
       "      <td>TA</td>\n",
       "      <td>2</td>\n",
       "      <td>2.0</td>\n",
       "    </tr>\n",
       "    <tr>\n",
       "      <td>16</td>\n",
       "      <td>Han Peters</td>\n",
       "      <td>hpeters2</td>\n",
       "      <td>TA</td>\n",
       "      <td>2</td>\n",
       "      <td>2.0</td>\n",
       "    </tr>\n",
       "    <tr>\n",
       "      <td>17</td>\n",
       "      <td>Hessel Bouke Posthuma</td>\n",
       "      <td>hposthu1</td>\n",
       "      <td>TA</td>\n",
       "      <td>2</td>\n",
       "      <td>2.0</td>\n",
       "    </tr>\n",
       "    <tr>\n",
       "      <td>18</td>\n",
       "      <td>Majken Roelfszema</td>\n",
       "      <td>mroelfs</td>\n",
       "      <td>TA</td>\n",
       "      <td>2</td>\n",
       "      <td>2.0</td>\n",
       "    </tr>\n",
       "    <tr>\n",
       "      <td>19</td>\n",
       "      <td>Marjan Sjerps</td>\n",
       "      <td>msjerps1</td>\n",
       "      <td>TA</td>\n",
       "      <td>2</td>\n",
       "      <td>2.0</td>\n",
       "    </tr>\n",
       "    <tr>\n",
       "      <td>20</td>\n",
       "      <td>Peter Spreij</td>\n",
       "      <td>pspreij1</td>\n",
       "      <td>TA</td>\n",
       "      <td>2</td>\n",
       "      <td>2.0</td>\n",
       "    </tr>\n",
       "    <tr>\n",
       "      <td>21</td>\n",
       "      <td>Nicos Starreveld</td>\n",
       "      <td>nstarre1</td>\n",
       "      <td>TA</td>\n",
       "      <td>2</td>\n",
       "      <td>2.0</td>\n",
       "    </tr>\n",
       "    <tr>\n",
       "      <td>22</td>\n",
       "      <td>Chris Stolk</td>\n",
       "      <td>cstolk1</td>\n",
       "      <td>TA</td>\n",
       "      <td>2</td>\n",
       "      <td>2.0</td>\n",
       "    </tr>\n",
       "    <tr>\n",
       "      <td>23</td>\n",
       "      <td>Kees Temme</td>\n",
       "      <td>ctemme1</td>\n",
       "      <td>TA</td>\n",
       "      <td>2</td>\n",
       "      <td>2.0</td>\n",
       "    </tr>\n",
       "    <tr>\n",
       "      <td>24</td>\n",
       "      <td>Mees de Vries</td>\n",
       "      <td>mdvries7</td>\n",
       "      <td>TA</td>\n",
       "      <td>2</td>\n",
       "      <td>2.0</td>\n",
       "    </tr>\n",
       "    <tr>\n",
       "      <td>25</td>\n",
       "      <td>Freek Witteveen</td>\n",
       "      <td>fwittev</td>\n",
       "      <td>TA</td>\n",
       "      <td>2</td>\n",
       "      <td>2.0</td>\n",
       "    </tr>\n",
       "    <tr>\n",
       "      <td>27</td>\n",
       "      <td>Test</td>\n",
       "      <td>test1</td>\n",
       "      <td>NaN</td>\n",
       "      <td>2</td>\n",
       "      <td>2.0</td>\n",
       "    </tr>\n",
       "    <tr>\n",
       "      <td>28</td>\n",
       "      <td>Test</td>\n",
       "      <td>test1</td>\n",
       "      <td>NaN</td>\n",
       "      <td>2</td>\n",
       "      <td>2.0</td>\n",
       "    </tr>\n",
       "    <tr>\n",
       "      <td>29</td>\n",
       "      <td>Test</td>\n",
       "      <td>test1</td>\n",
       "      <td>NaN</td>\n",
       "      <td>2</td>\n",
       "      <td>NaN</td>\n",
       "    </tr>\n",
       "  </tbody>\n",
       "</table>\n",
       "</div>"
      ],
      "text/plain": [
       "                         Name    SIS ID     Role  Week  Week2\n",
       "0             Arnoud den Boer   adboer1       TA     2    2.0\n",
       "1               David de Boer     dboer       TA     2    2.0\n",
       "2                Emma Brakkee   ebrakke       TA     2    2.0\n",
       "3                 Jan Brandts  jbrandt3       TA     2    2.0\n",
       "4               Miranda Cheng   ccheng1       TA     2    2.0\n",
       "5          Jan-Pieter Dorsman  jdorsma1       TA     2    2.0\n",
       "6             Lorenzo Guerini  lguerin1       TA     2    2.0\n",
       "7                  André Heck    aheck1       TA     2    2.0\n",
       "8   Mariska Heemskerk pending  jheemsk1       TA     2    2.0\n",
       "9               Jaap de Jonge  cdjonge1       TA     2    2.0\n",
       "10               Sven Karbach   skarbac       TA     2    2.0\n",
       "11                  Arno Kret    akret1       TA     2    2.0\n",
       "12               Roshan Mahes  10973710  Teacher     2    2.0\n",
       "13         Diletta Martinelli   dmartin       TA     2    2.0\n",
       "14         Sindo Nunez Queija  rnunezq1       TA     2    2.0\n",
       "15              Gerrit Oomens  goomens1       TA     2    2.0\n",
       "16                 Han Peters  hpeters2       TA     2    2.0\n",
       "17      Hessel Bouke Posthuma  hposthu1       TA     2    2.0\n",
       "18          Majken Roelfszema   mroelfs       TA     2    2.0\n",
       "19              Marjan Sjerps  msjerps1       TA     2    2.0\n",
       "20               Peter Spreij  pspreij1       TA     2    2.0\n",
       "21           Nicos Starreveld  nstarre1       TA     2    2.0\n",
       "22                Chris Stolk   cstolk1       TA     2    2.0\n",
       "23                 Kees Temme   ctemme1       TA     2    2.0\n",
       "24              Mees de Vries  mdvries7       TA     2    2.0\n",
       "25            Freek Witteveen   fwittev       TA     2    2.0\n",
       "27                       Test     test1      NaN     2    2.0\n",
       "28                       Test     test1      NaN     2    2.0\n",
       "29                       Test     test1      NaN     2    NaN"
      ]
     },
     "execution_count": 83,
     "metadata": {},
     "output_type": "execute_result"
    }
   ],
   "source": [
    "try:\n",
    "    df = df.drop(['Profile Picture', 'Section', 'Administrative Links'], axis=1)\n",
    "    # df = df[['Name','SIS ID','Role']]\n",
    "except:\n",
    "    True\n",
    "\n",
    "df"
   ]
  },
  {
   "cell_type": "markdown",
   "metadata": {},
   "source": [
    "We can add missing rows and columns:"
   ]
  },
  {
   "cell_type": "code",
   "execution_count": 39,
   "metadata": {},
   "outputs": [
    {
     "data": {
      "text/html": [
       "<div>\n",
       "<style scoped>\n",
       "    .dataframe tbody tr th:only-of-type {\n",
       "        vertical-align: middle;\n",
       "    }\n",
       "\n",
       "    .dataframe tbody tr th {\n",
       "        vertical-align: top;\n",
       "    }\n",
       "\n",
       "    .dataframe thead th {\n",
       "        text-align: right;\n",
       "    }\n",
       "</style>\n",
       "<table border=\"1\" class=\"dataframe\">\n",
       "  <thead>\n",
       "    <tr style=\"text-align: right;\">\n",
       "      <th></th>\n",
       "      <th>Name</th>\n",
       "      <th>SIS ID</th>\n",
       "      <th>Role</th>\n",
       "      <th>Week</th>\n",
       "      <th>Week2</th>\n",
       "    </tr>\n",
       "  </thead>\n",
       "  <tbody>\n",
       "    <tr>\n",
       "      <td>0</td>\n",
       "      <td>Arnoud den Boer</td>\n",
       "      <td>adboer1</td>\n",
       "      <td>TA</td>\n",
       "      <td>2</td>\n",
       "      <td>2.0</td>\n",
       "    </tr>\n",
       "    <tr>\n",
       "      <td>1</td>\n",
       "      <td>David de Boer</td>\n",
       "      <td>dboer</td>\n",
       "      <td>TA</td>\n",
       "      <td>2</td>\n",
       "      <td>2.0</td>\n",
       "    </tr>\n",
       "    <tr>\n",
       "      <td>2</td>\n",
       "      <td>Emma Brakkee</td>\n",
       "      <td>ebrakke</td>\n",
       "      <td>TA</td>\n",
       "      <td>2</td>\n",
       "      <td>2.0</td>\n",
       "    </tr>\n",
       "    <tr>\n",
       "      <td>3</td>\n",
       "      <td>Jan Brandts</td>\n",
       "      <td>jbrandt3</td>\n",
       "      <td>TA</td>\n",
       "      <td>2</td>\n",
       "      <td>2.0</td>\n",
       "    </tr>\n",
       "    <tr>\n",
       "      <td>4</td>\n",
       "      <td>Miranda Cheng</td>\n",
       "      <td>ccheng1</td>\n",
       "      <td>TA</td>\n",
       "      <td>2</td>\n",
       "      <td>2.0</td>\n",
       "    </tr>\n",
       "    <tr>\n",
       "      <td>5</td>\n",
       "      <td>Jan-Pieter Dorsman</td>\n",
       "      <td>jdorsma1</td>\n",
       "      <td>TA</td>\n",
       "      <td>2</td>\n",
       "      <td>2.0</td>\n",
       "    </tr>\n",
       "    <tr>\n",
       "      <td>6</td>\n",
       "      <td>Lorenzo Guerini</td>\n",
       "      <td>lguerin1</td>\n",
       "      <td>TA</td>\n",
       "      <td>2</td>\n",
       "      <td>2.0</td>\n",
       "    </tr>\n",
       "    <tr>\n",
       "      <td>7</td>\n",
       "      <td>André Heck</td>\n",
       "      <td>aheck1</td>\n",
       "      <td>TA</td>\n",
       "      <td>2</td>\n",
       "      <td>2.0</td>\n",
       "    </tr>\n",
       "    <tr>\n",
       "      <td>8</td>\n",
       "      <td>Mariska Heemskerk pending</td>\n",
       "      <td>jheemsk1</td>\n",
       "      <td>TA</td>\n",
       "      <td>2</td>\n",
       "      <td>2.0</td>\n",
       "    </tr>\n",
       "    <tr>\n",
       "      <td>9</td>\n",
       "      <td>Jaap de Jonge</td>\n",
       "      <td>cdjonge1</td>\n",
       "      <td>TA</td>\n",
       "      <td>2</td>\n",
       "      <td>2.0</td>\n",
       "    </tr>\n",
       "    <tr>\n",
       "      <td>10</td>\n",
       "      <td>Sven Karbach</td>\n",
       "      <td>skarbac</td>\n",
       "      <td>TA</td>\n",
       "      <td>2</td>\n",
       "      <td>2.0</td>\n",
       "    </tr>\n",
       "    <tr>\n",
       "      <td>11</td>\n",
       "      <td>Arno Kret</td>\n",
       "      <td>akret1</td>\n",
       "      <td>TA</td>\n",
       "      <td>2</td>\n",
       "      <td>2.0</td>\n",
       "    </tr>\n",
       "    <tr>\n",
       "      <td>12</td>\n",
       "      <td>Roshan Mahes</td>\n",
       "      <td>10973710</td>\n",
       "      <td>Teacher</td>\n",
       "      <td>2</td>\n",
       "      <td>2.0</td>\n",
       "    </tr>\n",
       "    <tr>\n",
       "      <td>13</td>\n",
       "      <td>Diletta Martinelli</td>\n",
       "      <td>dmartin</td>\n",
       "      <td>TA</td>\n",
       "      <td>2</td>\n",
       "      <td>2.0</td>\n",
       "    </tr>\n",
       "    <tr>\n",
       "      <td>14</td>\n",
       "      <td>Sindo Nunez Queija</td>\n",
       "      <td>rnunezq1</td>\n",
       "      <td>TA</td>\n",
       "      <td>2</td>\n",
       "      <td>2.0</td>\n",
       "    </tr>\n",
       "    <tr>\n",
       "      <td>15</td>\n",
       "      <td>Gerrit Oomens</td>\n",
       "      <td>goomens1</td>\n",
       "      <td>TA</td>\n",
       "      <td>2</td>\n",
       "      <td>2.0</td>\n",
       "    </tr>\n",
       "    <tr>\n",
       "      <td>16</td>\n",
       "      <td>Han Peters</td>\n",
       "      <td>hpeters2</td>\n",
       "      <td>TA</td>\n",
       "      <td>2</td>\n",
       "      <td>2.0</td>\n",
       "    </tr>\n",
       "    <tr>\n",
       "      <td>17</td>\n",
       "      <td>Hessel Bouke Posthuma</td>\n",
       "      <td>hposthu1</td>\n",
       "      <td>TA</td>\n",
       "      <td>2</td>\n",
       "      <td>2.0</td>\n",
       "    </tr>\n",
       "    <tr>\n",
       "      <td>18</td>\n",
       "      <td>Majken Roelfszema</td>\n",
       "      <td>mroelfs</td>\n",
       "      <td>TA</td>\n",
       "      <td>2</td>\n",
       "      <td>2.0</td>\n",
       "    </tr>\n",
       "    <tr>\n",
       "      <td>19</td>\n",
       "      <td>Marjan Sjerps</td>\n",
       "      <td>msjerps1</td>\n",
       "      <td>TA</td>\n",
       "      <td>2</td>\n",
       "      <td>2.0</td>\n",
       "    </tr>\n",
       "    <tr>\n",
       "      <td>20</td>\n",
       "      <td>Peter Spreij</td>\n",
       "      <td>pspreij1</td>\n",
       "      <td>TA</td>\n",
       "      <td>2</td>\n",
       "      <td>2.0</td>\n",
       "    </tr>\n",
       "    <tr>\n",
       "      <td>21</td>\n",
       "      <td>Nicos Starreveld</td>\n",
       "      <td>nstarre1</td>\n",
       "      <td>TA</td>\n",
       "      <td>2</td>\n",
       "      <td>2.0</td>\n",
       "    </tr>\n",
       "    <tr>\n",
       "      <td>22</td>\n",
       "      <td>Chris Stolk</td>\n",
       "      <td>cstolk1</td>\n",
       "      <td>TA</td>\n",
       "      <td>2</td>\n",
       "      <td>2.0</td>\n",
       "    </tr>\n",
       "    <tr>\n",
       "      <td>23</td>\n",
       "      <td>Kees Temme</td>\n",
       "      <td>ctemme1</td>\n",
       "      <td>TA</td>\n",
       "      <td>2</td>\n",
       "      <td>2.0</td>\n",
       "    </tr>\n",
       "    <tr>\n",
       "      <td>24</td>\n",
       "      <td>Mees de Vries</td>\n",
       "      <td>mdvries7</td>\n",
       "      <td>TA</td>\n",
       "      <td>2</td>\n",
       "      <td>2.0</td>\n",
       "    </tr>\n",
       "    <tr>\n",
       "      <td>25</td>\n",
       "      <td>Freek Witteveen</td>\n",
       "      <td>fwittev</td>\n",
       "      <td>TA</td>\n",
       "      <td>2</td>\n",
       "      <td>2.0</td>\n",
       "    </tr>\n",
       "    <tr>\n",
       "      <td>26</td>\n",
       "      <td>Chris Zaal</td>\n",
       "      <td>czaal1</td>\n",
       "      <td>Teacher</td>\n",
       "      <td>2</td>\n",
       "      <td>2.0</td>\n",
       "    </tr>\n",
       "    <tr>\n",
       "      <td>27</td>\n",
       "      <td>Test</td>\n",
       "      <td>test1</td>\n",
       "      <td>NaN</td>\n",
       "      <td>2</td>\n",
       "      <td>2.0</td>\n",
       "    </tr>\n",
       "    <tr>\n",
       "      <td>28</td>\n",
       "      <td>Test</td>\n",
       "      <td>test1</td>\n",
       "      <td>NaN</td>\n",
       "      <td>2</td>\n",
       "      <td>2.0</td>\n",
       "    </tr>\n",
       "    <tr>\n",
       "      <td>29</td>\n",
       "      <td>Test</td>\n",
       "      <td>test1</td>\n",
       "      <td>NaN</td>\n",
       "      <td>2</td>\n",
       "      <td>NaN</td>\n",
       "    </tr>\n",
       "  </tbody>\n",
       "</table>\n",
       "</div>"
      ],
      "text/plain": [
       "                         Name    SIS ID     Role  Week  Week2\n",
       "0             Arnoud den Boer   adboer1       TA     2    2.0\n",
       "1               David de Boer     dboer       TA     2    2.0\n",
       "2                Emma Brakkee   ebrakke       TA     2    2.0\n",
       "3                 Jan Brandts  jbrandt3       TA     2    2.0\n",
       "4               Miranda Cheng   ccheng1       TA     2    2.0\n",
       "5          Jan-Pieter Dorsman  jdorsma1       TA     2    2.0\n",
       "6             Lorenzo Guerini  lguerin1       TA     2    2.0\n",
       "7                  André Heck    aheck1       TA     2    2.0\n",
       "8   Mariska Heemskerk pending  jheemsk1       TA     2    2.0\n",
       "9               Jaap de Jonge  cdjonge1       TA     2    2.0\n",
       "10               Sven Karbach   skarbac       TA     2    2.0\n",
       "11                  Arno Kret    akret1       TA     2    2.0\n",
       "12               Roshan Mahes  10973710  Teacher     2    2.0\n",
       "13         Diletta Martinelli   dmartin       TA     2    2.0\n",
       "14         Sindo Nunez Queija  rnunezq1       TA     2    2.0\n",
       "15              Gerrit Oomens  goomens1       TA     2    2.0\n",
       "16                 Han Peters  hpeters2       TA     2    2.0\n",
       "17      Hessel Bouke Posthuma  hposthu1       TA     2    2.0\n",
       "18          Majken Roelfszema   mroelfs       TA     2    2.0\n",
       "19              Marjan Sjerps  msjerps1       TA     2    2.0\n",
       "20               Peter Spreij  pspreij1       TA     2    2.0\n",
       "21           Nicos Starreveld  nstarre1       TA     2    2.0\n",
       "22                Chris Stolk   cstolk1       TA     2    2.0\n",
       "23                 Kees Temme   ctemme1       TA     2    2.0\n",
       "24              Mees de Vries  mdvries7       TA     2    2.0\n",
       "25            Freek Witteveen   fwittev       TA     2    2.0\n",
       "26                 Chris Zaal    czaal1  Teacher     2    2.0\n",
       "27                       Test     test1      NaN     2    2.0\n",
       "28                       Test     test1      NaN     2    2.0\n",
       "29                       Test     test1      NaN     2    NaN"
      ]
     },
     "execution_count": 39,
     "metadata": {},
     "output_type": "execute_result"
    }
   ],
   "source": [
    "df = df.append({'Name':'Test', 'SIS ID':'test1'}, ignore_index=True)\n",
    "df['Week'] = 2\n",
    "df"
   ]
  },
  {
   "cell_type": "code",
   "execution_count": 36,
   "metadata": {},
   "outputs": [
    {
     "data": {
      "text/plain": [
       "Name      Chris Zaal\n",
       "SIS ID        czaal1\n",
       "Role         Teacher\n",
       "Week               2\n",
       "Name: 26, dtype: object"
      ]
     },
     "execution_count": 36,
     "metadata": {},
     "output_type": "execute_result"
    }
   ],
   "source": [
    "df.loc[26]"
   ]
  },
  {
   "cell_type": "markdown",
   "metadata": {},
   "source": [
    "It is time to extract some information from the data:"
   ]
  },
  {
   "cell_type": "code",
   "execution_count": 33,
   "metadata": {},
   "outputs": [
    {
     "data": {
      "text/plain": [
       "0      adboer1\n",
       "1        dboer\n",
       "2      ebrakke\n",
       "3     jbrandt3\n",
       "4      ccheng1\n",
       "5     jdorsma1\n",
       "6     lguerin1\n",
       "7       aheck1\n",
       "8     jheemsk1\n",
       "9     cdjonge1\n",
       "10     skarbac\n",
       "11      akret1\n",
       "12    10973710\n",
       "13     dmartin\n",
       "14    rnunezq1\n",
       "15    goomens1\n",
       "16    hpeters2\n",
       "17    hposthu1\n",
       "18     mroelfs\n",
       "19    msjerps1\n",
       "20    pspreij1\n",
       "21    nstarre1\n",
       "22     cstolk1\n",
       "23     ctemme1\n",
       "24    mdvries7\n",
       "25     fwittev\n",
       "26      czaal1\n",
       "27       test1\n",
       "Name: SIS ID, dtype: object"
      ]
     },
     "execution_count": 33,
     "metadata": {},
     "output_type": "execute_result"
    }
   ],
   "source": [
    "df[\"SIS ID\"]"
   ]
  },
  {
   "cell_type": "code",
   "execution_count": 31,
   "metadata": {},
   "outputs": [
    {
     "data": {
      "text/plain": [
       "'Arno Kret'"
      ]
     },
     "execution_count": 31,
     "metadata": {},
     "output_type": "execute_result"
    }
   ],
   "source": [
    "df.loc[11][\"Name\"]"
   ]
  },
  {
   "cell_type": "code",
   "execution_count": 81,
   "metadata": {},
   "outputs": [
    {
     "name": "stdout",
     "output_type": "stream",
     "text": [
      "(0, Name      Arnoud den Boer\n",
      "SIS ID            adboer1\n",
      "Role                   TA\n",
      "Week                    2\n",
      "Week2                   2\n",
      "Name: 0, dtype: object)\n",
      "(1, Name      David de Boer\n",
      "SIS ID            dboer\n",
      "Role                 TA\n",
      "Week                  2\n",
      "Week2                 2\n",
      "Name: 1, dtype: object)\n",
      "(2, Name      Emma Brakkee\n",
      "SIS ID         ebrakke\n",
      "Role                TA\n",
      "Week                 2\n",
      "Week2                2\n",
      "Name: 2, dtype: object)\n",
      "(3, Name      Jan Brandts\n",
      "SIS ID       jbrandt3\n",
      "Role               TA\n",
      "Week                2\n",
      "Week2               2\n",
      "Name: 3, dtype: object)\n",
      "(4, Name      Miranda Cheng\n",
      "SIS ID          ccheng1\n",
      "Role                 TA\n",
      "Week                  2\n",
      "Week2                 2\n",
      "Name: 4, dtype: object)\n",
      "(5, Name      Jan-Pieter Dorsman\n",
      "SIS ID              jdorsma1\n",
      "Role                      TA\n",
      "Week                       2\n",
      "Week2                      2\n",
      "Name: 5, dtype: object)\n",
      "(6, Name      Lorenzo Guerini\n",
      "SIS ID           lguerin1\n",
      "Role                   TA\n",
      "Week                    2\n",
      "Week2                   2\n",
      "Name: 6, dtype: object)\n",
      "(7, Name      André Heck\n",
      "SIS ID        aheck1\n",
      "Role              TA\n",
      "Week               2\n",
      "Week2              2\n",
      "Name: 7, dtype: object)\n",
      "(8, Name      Mariska Heemskerk pending\n",
      "SIS ID                     jheemsk1\n",
      "Role                             TA\n",
      "Week                              2\n",
      "Week2                             2\n",
      "Name: 8, dtype: object)\n",
      "(9, Name      Jaap de Jonge\n",
      "SIS ID         cdjonge1\n",
      "Role                 TA\n",
      "Week                  2\n",
      "Week2                 2\n",
      "Name: 9, dtype: object)\n",
      "(10, Name      Sven Karbach\n",
      "SIS ID         skarbac\n",
      "Role                TA\n",
      "Week                 2\n",
      "Week2                2\n",
      "Name: 10, dtype: object)\n",
      "(11, Name      Arno Kret\n",
      "SIS ID       akret1\n",
      "Role             TA\n",
      "Week              2\n",
      "Week2             2\n",
      "Name: 11, dtype: object)\n",
      "(12, Name      Roshan Mahes\n",
      "SIS ID        10973710\n",
      "Role           Teacher\n",
      "Week                 2\n",
      "Week2                2\n",
      "Name: 12, dtype: object)\n",
      "Roshan Mahes is actually a student.\n",
      "(13, Name      Diletta Martinelli\n",
      "SIS ID               dmartin\n",
      "Role                      TA\n",
      "Week                       2\n",
      "Week2                      2\n",
      "Name: 13, dtype: object)\n",
      "(14, Name      Sindo Nunez Queija\n",
      "SIS ID              rnunezq1\n",
      "Role                      TA\n",
      "Week                       2\n",
      "Week2                      2\n",
      "Name: 14, dtype: object)\n",
      "(15, Name      Gerrit Oomens\n",
      "SIS ID         goomens1\n",
      "Role                 TA\n",
      "Week                  2\n",
      "Week2                 2\n",
      "Name: 15, dtype: object)\n",
      "(16, Name      Han Peters\n",
      "SIS ID      hpeters2\n",
      "Role              TA\n",
      "Week               2\n",
      "Week2              2\n",
      "Name: 16, dtype: object)\n",
      "(17, Name      Hessel Bouke Posthuma\n",
      "SIS ID                 hposthu1\n",
      "Role                         TA\n",
      "Week                          2\n",
      "Week2                         2\n",
      "Name: 17, dtype: object)\n",
      "(18, Name      Majken Roelfszema\n",
      "SIS ID              mroelfs\n",
      "Role                     TA\n",
      "Week                      2\n",
      "Week2                     2\n",
      "Name: 18, dtype: object)\n",
      "(19, Name      Marjan Sjerps\n",
      "SIS ID         msjerps1\n",
      "Role                 TA\n",
      "Week                  2\n",
      "Week2                 2\n",
      "Name: 19, dtype: object)\n",
      "(20, Name      Peter Spreij\n",
      "SIS ID        pspreij1\n",
      "Role                TA\n",
      "Week                 2\n",
      "Week2                2\n",
      "Name: 20, dtype: object)\n",
      "(21, Name      Nicos Starreveld\n",
      "SIS ID            nstarre1\n",
      "Role                    TA\n",
      "Week                     2\n",
      "Week2                    2\n",
      "Name: 21, dtype: object)\n",
      "(22, Name      Chris Stolk\n",
      "SIS ID        cstolk1\n",
      "Role               TA\n",
      "Week                2\n",
      "Week2               2\n",
      "Name: 22, dtype: object)\n",
      "(23, Name      Kees Temme\n",
      "SIS ID       ctemme1\n",
      "Role              TA\n",
      "Week               2\n",
      "Week2              2\n",
      "Name: 23, dtype: object)\n",
      "(24, Name      Mees de Vries\n",
      "SIS ID         mdvries7\n",
      "Role                 TA\n",
      "Week                  2\n",
      "Week2                 2\n",
      "Name: 24, dtype: object)\n",
      "(25, Name      Freek Witteveen\n",
      "SIS ID            fwittev\n",
      "Role                   TA\n",
      "Week                    2\n",
      "Week2                   2\n",
      "Name: 25, dtype: object)\n",
      "(26, Name      Chris Zaal\n",
      "SIS ID        czaal1\n",
      "Role         Teacher\n",
      "Week               2\n",
      "Week2              2\n",
      "Name: 26, dtype: object)\n",
      "(27, Name       Test\n",
      "SIS ID    test1\n",
      "Role        NaN\n",
      "Week          2\n",
      "Week2         2\n",
      "Name: 27, dtype: object)\n",
      "(28, Name       Test\n",
      "SIS ID    test1\n",
      "Role        NaN\n",
      "Week          2\n",
      "Week2         2\n",
      "Name: 28, dtype: object)\n",
      "(29, Name       Test\n",
      "SIS ID    test1\n",
      "Role        NaN\n",
      "Week          2\n",
      "Week2       NaN\n",
      "Name: 29, dtype: object)\n"
     ]
    }
   ],
   "source": [
    "def is_number(s):\n",
    "    \"\"\"\n",
    "    Returns True if s can be converted to a number.\n",
    "    \"\"\"\n",
    "    \n",
    "    try:\n",
    "        float(s)\n",
    "        return True\n",
    "    except ValueError:\n",
    "        return False\n",
    "\n",
    "# print all people with a student id\n",
    "for row in df.iterrows():\n",
    "    print(row)\n",
    "    if is_number(row[1][\"SIS ID\"]):\n",
    "        print(row[1][\"Name\"], \"is actually a student.\")"
   ]
  },
  {
   "cell_type": "markdown",
   "metadata": {},
   "source": [
    "#### 🔴 *Homework: Add a column to our data frame, with the value `True` if the person is a student, and `False` otherwise.*"
   ]
  },
  {
   "cell_type": "code",
   "execution_count": 41,
   "metadata": {},
   "outputs": [
    {
     "data": {
      "text/plain": [
       "(30, 5)"
      ]
     },
     "execution_count": 41,
     "metadata": {},
     "output_type": "execute_result"
    }
   ],
   "source": [
    "df.shape"
   ]
  },
  {
   "cell_type": "code",
   "execution_count": 42,
   "metadata": {},
   "outputs": [
    {
     "name": "stdout",
     "output_type": "stream",
     "text": [
      "Roshan Mahes is a teacher of this course.\n",
      "Chris Zaal is a teacher of this course.\n"
     ]
    }
   ],
   "source": [
    "rows, cols = df.shape\n",
    "\n",
    "for i in range(rows):\n",
    "    if df.loc[i][\"Role\"] == \"Teacher\":\n",
    "        print(df.loc[i][\"Name\"], \"is a teacher of this course.\")\n"
   ]
  },
  {
   "cell_type": "code",
   "execution_count": 43,
   "metadata": {},
   "outputs": [
    {
     "data": {
      "text/plain": [
       "Role\n",
       "TA         25\n",
       "Teacher     2\n",
       "Name: Name, dtype: int64"
      ]
     },
     "execution_count": 43,
     "metadata": {},
     "output_type": "execute_result"
    }
   ],
   "source": [
    "df.groupby('Role')['Name'].nunique()"
   ]
  },
  {
   "cell_type": "markdown",
   "metadata": {},
   "source": [
    "_Where to go from here? Check out the Pandas cheat sheet, and play with some data._"
   ]
  },
  {
   "cell_type": "code",
   "execution_count": 44,
   "metadata": {},
   "outputs": [
    {
     "data": {
      "text/html": [
       "\n",
       "        <iframe\n",
       "            width=\"950\"\n",
       "            height=\"700\"\n",
       "            src=\"./resources/pandas.pdf\"\n",
       "            frameborder=\"0\"\n",
       "            allowfullscreen\n",
       "        ></iframe>\n",
       "        "
      ],
      "text/plain": [
       "<IPython.lib.display.IFrame at 0x16fba4801c8>"
      ]
     },
     "execution_count": 44,
     "metadata": {},
     "output_type": "execute_result"
    }
   ],
   "source": [
    "# does not work in Google Chrome\n",
    "from IPython.display import IFrame\n",
    "IFrame(\"./resources/pandas.pdf\", width=950, height=700)"
   ]
  },
  {
   "cell_type": "markdown",
   "metadata": {},
   "source": [
    "## 2.2 Introduction to Machine Learning\n",
    "\n",
    "What is machine learning exactly?\n",
    "\n",
    "> Machine Learning is the field of study that gives computers  \n",
    "the ability to learn without being explicitly programmed.  \n",
    "_-- Arthur Samuel (1959)_\n",
    "\n",
    "There are three types of (machine) learning:\n",
    "#### 1. _Supervised Learning:_ learning from labeled data  \n",
    "The majority of practical machine learning uses supervised learning. Supervised learning is where you have input variables $X$ and an output variable $Y$ and you use an algorithm to learn the mapping function from the input to the output:\n",
    "\\begin{align*}\n",
    "Y = f(X).\n",
    "\\end{align*}\n",
    "\n",
    "The goal is to approximate the mapping function so well that when you have new input data $X$ that you can predict the output variables $Y$ for that data. It is called supervised learning because the process of an algorithm learning from the training dataset can be thought of as a teacher supervising the learning process. We know the correct answers, the algorithm iteratively makes predictions on the training data and is corrected by the teacher. Learning stops when the algorithm achieves an acceptable level of performance.\n",
    "\n",
    "Supervised learning problems can be further grouped into regression and classification problems.\n",
    "\n",
    "- _Classification:_ A classification problem is when the output variable is a category, such as “red” or “blue” or “disease” and “no disease”;\n",
    "- _Regression:_ A regression problem is when the output variable is a real value, such as “dollars” or “weight”.\n",
    "\n",
    "#### 2. _Unsupervised Learning:_ learning from unlabeled data\n",
    "Unsupervised learning is where you only have input data $X$ and no corresponding output variables.\n",
    "\n",
    "The goal for unsupervised learning is to model the underlying structure or distribution in the data in order to learn more about the data. These are called unsupervised learning because unlike supervised learning above there is no correct answers and there is no teacher. Algorithms are left to their own devises to discover and present the interesting structure in the data.\n",
    "\n",
    "Unsupervised learning problems can be further grouped into clustering and association problems.\n",
    "- _Clustering:_ A clustering problem is where you want to discover the inherent groupings in the data, such as grouping customers by purchasing behavior;\n",
    "- _Association:_ An association rule learning problem is where you want to discover rules that describe large portions of your data, such as people that buy $X$ also tend to buy $Y$.\n",
    "\n",
    "\n",
    "#### 3. _Reinforcement Learning:_ learning by 'doing' with delayed reward\n",
    "Reinforcement learning describes a class of problems where an agent operates in an environment and must _learn_ to operate using feedback. Reinforcement learning is learning what to do — how to map situations to actions — so as to maximize a numerical reward signal. The learner is not told which actions to take, but instead must discover which actions yield the most reward by trying them.\n",
    "\n",
    "The use of an environment means that there is no fixed training dataset, rather a goal or set of goals that an agent is required to achieve, actions they may perform, and feedback about performance toward the goal.\n",
    "\n",
    "<img src=\"resources/machine_learning.png\" alt=\"drawing\" width=\"750\"/>"
   ]
  },
  {
   "cell_type": "markdown",
   "metadata": {},
   "source": [
    "Today we will only discuss:\n",
    "- _supervised learning:_ linear regression, classification\n",
    "- _unsupervised learning:_ principle component analysis compression (clustering)"
   ]
  },
  {
   "cell_type": "markdown",
   "metadata": {},
   "source": [
    "## 2.3 Machine Learning with Scikit-Learn\n",
    "\n",
    "Scikit-learn is an open source Python library that\n",
    "implements a range of machine learning,\n",
    "preprocessing, cross-validation and visualization\n",
    "algorithms using a unified interface. More information about the algorithms can be found here: https://scikit-learn.org/stable/tutorial/machine_learning_map/index.html."
   ]
  },
  {
   "cell_type": "code",
   "execution_count": 45,
   "metadata": {},
   "outputs": [],
   "source": [
    "import sklearn"
   ]
  },
  {
   "cell_type": "code",
   "execution_count": 46,
   "metadata": {},
   "outputs": [
    {
     "name": "stdout",
     "output_type": "stream",
     "text": [
      "Help on package sklearn:\n",
      "\n",
      "NAME\n",
      "    sklearn\n",
      "\n",
      "DESCRIPTION\n",
      "    Machine learning module for Python\n",
      "    ==================================\n",
      "    \n",
      "    sklearn is a Python module integrating classical machine\n",
      "    learning algorithms in the tightly-knit world of scientific Python\n",
      "    packages (numpy, scipy, matplotlib).\n",
      "    \n",
      "    It aims to provide simple and efficient solutions to learning problems\n",
      "    that are accessible to everybody and reusable in various contexts:\n",
      "    machine-learning as a versatile tool for science and engineering.\n",
      "    \n",
      "    See http://scikit-learn.org for complete documentation.\n",
      "\n",
      "PACKAGE CONTENTS\n",
      "    __check_build (package)\n",
      "    _build_utils (package)\n",
      "    _config\n",
      "    _isotonic\n",
      "    base\n",
      "    calibration\n",
      "    cluster (package)\n",
      "    compose (package)\n",
      "    conftest\n",
      "    covariance (package)\n",
      "    cross_decomposition (package)\n",
      "    datasets (package)\n",
      "    decomposition (package)\n",
      "    discriminant_analysis\n",
      "    dummy\n",
      "    ensemble (package)\n",
      "    exceptions\n",
      "    experimental (package)\n",
      "    externals (package)\n",
      "    feature_extraction (package)\n",
      "    feature_selection (package)\n",
      "    gaussian_process (package)\n",
      "    impute (package)\n",
      "    inspection (package)\n",
      "    isotonic\n",
      "    kernel_approximation\n",
      "    kernel_ridge\n",
      "    linear_model (package)\n",
      "    manifold (package)\n",
      "    metrics (package)\n",
      "    mixture (package)\n",
      "    model_selection (package)\n",
      "    multiclass\n",
      "    multioutput\n",
      "    naive_bayes\n",
      "    neighbors (package)\n",
      "    neural_network (package)\n",
      "    pipeline\n",
      "    preprocessing (package)\n",
      "    random_projection\n",
      "    semi_supervised (package)\n",
      "    setup\n",
      "    svm (package)\n",
      "    tests (package)\n",
      "    tree (package)\n",
      "    utils (package)\n",
      "\n",
      "FUNCTIONS\n",
      "    clone(estimator, safe=True)\n",
      "        Constructs a new estimator with the same parameters.\n",
      "        \n",
      "        Clone does a deep copy of the model in an estimator\n",
      "        without actually copying attached data. It yields a new estimator\n",
      "        with the same parameters that has not been fit on any data.\n",
      "        \n",
      "        Parameters\n",
      "        ----------\n",
      "        estimator : estimator object, or list, tuple or set of objects\n",
      "            The estimator or group of estimators to be cloned\n",
      "        \n",
      "        safe : boolean, optional\n",
      "            If safe is false, clone will fall back to a deep copy on objects\n",
      "            that are not estimators.\n",
      "    \n",
      "    config_context(**new_config)\n",
      "        Context manager for global scikit-learn configuration\n",
      "        \n",
      "        Parameters\n",
      "        ----------\n",
      "        assume_finite : bool, optional\n",
      "            If True, validation for finiteness will be skipped,\n",
      "            saving time, but leading to potential crashes. If\n",
      "            False, validation for finiteness will be performed,\n",
      "            avoiding error.  Global default: False.\n",
      "        \n",
      "        working_memory : int, optional\n",
      "            If set, scikit-learn will attempt to limit the size of temporary arrays\n",
      "            to this number of MiB (per job when parallelised), often saving both\n",
      "            computation time and memory on expensive operations that can be\n",
      "            performed in chunks. Global default: 1024.\n",
      "        \n",
      "        Notes\n",
      "        -----\n",
      "        All settings, not just those presently modified, will be returned to\n",
      "        their previous values when the context manager is exited. This is not\n",
      "        thread-safe.\n",
      "        \n",
      "        Examples\n",
      "        --------\n",
      "        >>> import sklearn\n",
      "        >>> from sklearn.utils.validation import assert_all_finite\n",
      "        >>> with sklearn.config_context(assume_finite=True):\n",
      "        ...     assert_all_finite([float('nan')])\n",
      "        >>> with sklearn.config_context(assume_finite=True):\n",
      "        ...     with sklearn.config_context(assume_finite=False):\n",
      "        ...         assert_all_finite([float('nan')])\n",
      "        ... # doctest: +ELLIPSIS\n",
      "        Traceback (most recent call last):\n",
      "        ...\n",
      "        ValueError: Input contains NaN, ...\n",
      "        \n",
      "        See Also\n",
      "        --------\n",
      "        set_config: Set global scikit-learn configuration\n",
      "        get_config: Retrieve current values of the global configuration\n",
      "    \n",
      "    get_config()\n",
      "        Retrieve current values for configuration set by :func:`set_config`\n",
      "        \n",
      "        Returns\n",
      "        -------\n",
      "        config : dict\n",
      "            Keys are parameter names that can be passed to :func:`set_config`.\n",
      "        \n",
      "        See Also\n",
      "        --------\n",
      "        config_context: Context manager for global scikit-learn configuration\n",
      "        set_config: Set global scikit-learn configuration\n",
      "    \n",
      "    set_config(assume_finite=None, working_memory=None, print_changed_only=None)\n",
      "        Set global scikit-learn configuration\n",
      "        \n",
      "        .. versionadded:: 0.19\n",
      "        \n",
      "        Parameters\n",
      "        ----------\n",
      "        assume_finite : bool, optional\n",
      "            If True, validation for finiteness will be skipped,\n",
      "            saving time, but leading to potential crashes. If\n",
      "            False, validation for finiteness will be performed,\n",
      "            avoiding error.  Global default: False.\n",
      "        \n",
      "            .. versionadded:: 0.19\n",
      "        \n",
      "        working_memory : int, optional\n",
      "            If set, scikit-learn will attempt to limit the size of temporary arrays\n",
      "            to this number of MiB (per job when parallelised), often saving both\n",
      "            computation time and memory on expensive operations that can be\n",
      "            performed in chunks. Global default: 1024.\n",
      "        \n",
      "            .. versionadded:: 0.20\n",
      "        \n",
      "        print_changed_only : bool, optional\n",
      "            If True, only the parameters that were set to non-default\n",
      "            values will be printed when printing an estimator. For example,\n",
      "            ``print(SVC())`` while True will only print 'SVC()' while the default\n",
      "            behaviour would be to print 'SVC(C=1.0, cache_size=200, ...)' with\n",
      "            all the non-changed parameters.\n",
      "        \n",
      "            .. versionadded:: 0.21\n",
      "        \n",
      "        See Also\n",
      "        --------\n",
      "        config_context: Context manager for global scikit-learn configuration\n",
      "        get_config: Retrieve current values of the global configuration\n",
      "    \n",
      "    show_versions()\n",
      "        Print useful debugging information\n",
      "\n",
      "DATA\n",
      "    __SKLEARN_SETUP__ = False\n",
      "    __all__ = ['calibration', 'cluster', 'covariance', 'cross_decompositio...\n",
      "\n",
      "VERSION\n",
      "    0.21.3\n",
      "\n",
      "FILE\n",
      "    c:\\users\\rosha\\anaconda3\\lib\\site-packages\\sklearn\\__init__.py\n",
      "\n",
      "\n"
     ]
    }
   ],
   "source": [
    "help(sklearn)"
   ]
  },
  {
   "cell_type": "markdown",
   "metadata": {},
   "source": [
    "### Example 1: Linear Regression"
   ]
  },
  {
   "cell_type": "code",
   "execution_count": 47,
   "metadata": {},
   "outputs": [],
   "source": [
    "%matplotlib inline\n",
    "import matplotlib.pyplot as plt\n",
    "import numpy as np"
   ]
  },
  {
   "cell_type": "markdown",
   "metadata": {},
   "source": [
    "In regression we are trying to predict a continuous output variable. Let's do a simple toy example with one feature dimension (explanatory variable) and one target variable. We will create a dataset out of a linear curve with some noise:"
   ]
  },
  {
   "cell_type": "code",
   "execution_count": 48,
   "metadata": {},
   "outputs": [
    {
     "data": {
      "text/plain": [
       "[<matplotlib.lines.Line2D at 0x16fbadffcc8>]"
      ]
     },
     "execution_count": 48,
     "metadata": {},
     "output_type": "execute_result"
    },
    {
     "data": {
      "image/png": "[encoded data removed]",
      "text/plain": [
       "<Figure size 432x288 with 1 Axes>"
      ]
     },
     "metadata": {
      "needs_background": "light"
     },
     "output_type": "display_data"
    }
   ],
   "source": [
    "X = np.linspace(-3, 3, 100)\n",
    "Y = X + np.sin(4 * X) * np.random.normal(0, 1, len(X))\n",
    "plt.plot(X, Y, 'o')"
   ]
  },
  {
   "cell_type": "markdown",
   "metadata": {},
   "source": [
    "We start by splitting our dataset into a training (75%) and a test set (25%):"
   ]
  },
  {
   "cell_type": "code",
   "execution_count": 49,
   "metadata": {},
   "outputs": [],
   "source": [
    "from sklearn.model_selection import train_test_split\n",
    "\n",
    "X = X.reshape(len(X),1)\n",
    "X_train, X_test, Y_train, Y_test = train_test_split(X, Y, test_size=0.25, random_state=42)"
   ]
  },
  {
   "cell_type": "markdown",
   "metadata": {},
   "source": [
    "Next, we use the learning algorithm implemented in `LinearRegression` to fit a linear regression model to the training data:"
   ]
  },
  {
   "cell_type": "code",
   "execution_count": 50,
   "metadata": {},
   "outputs": [
    {
     "data": {
      "text/plain": [
       "LinearRegression(copy_X=True, fit_intercept=True, n_jobs=None, normalize=False)"
      ]
     },
     "execution_count": 50,
     "metadata": {},
     "output_type": "execute_result"
    }
   ],
   "source": [
    "from sklearn.linear_model import LinearRegression\n",
    "\n",
    "regressor = LinearRegression()\n",
    "regressor.fit(X_train, Y_train)"
   ]
  },
  {
   "cell_type": "markdown",
   "metadata": {},
   "source": [
    "After fitting to the training data, we paramerterized a linear regression model with the following values."
   ]
  },
  {
   "cell_type": "code",
   "execution_count": 51,
   "metadata": {},
   "outputs": [
    {
     "name": "stdout",
     "output_type": "stream",
     "text": [
      "Weight coefficients: 1.0313556934056292\n",
      "y-axis intercept: -0.0825946255850972\n"
     ]
    }
   ],
   "source": [
    "print('Weight coefficients:', regressor.coef_[0])\n",
    "print('y-axis intercept:', regressor.intercept_)"
   ]
  },
  {
   "cell_type": "markdown",
   "metadata": {},
   "source": [
    "Since our regression model is a linear one, the relationship between the target variable $y$ and the feature variable $x$ is defined as \n",
    "\n",
    "$$y = weight \\cdot x + \\text{intercept}.$$\n",
    "\n",
    "Plugging in the min and max values into thos equation, we can plot the regression fit to our training data:"
   ]
  },
  {
   "cell_type": "code",
   "execution_count": 52,
   "metadata": {},
   "outputs": [
    {
     "data": {
      "image/png": "[encoded data removed]",
      "text/plain": [
       "<Figure size 432x288 with 1 Axes>"
      ]
     },
     "metadata": {
      "needs_background": "light"
     },
     "output_type": "display_data"
    }
   ],
   "source": [
    "min_pt = X.min() * regressor.coef_[0] + regressor.intercept_\n",
    "max_pt = X.max() * regressor.coef_[0] + regressor.intercept_\n",
    "\n",
    "plt.plot([X.min(), X.max()], [min_pt, max_pt])\n",
    "plt.plot(X_train, Y_train, 'o');"
   ]
  },
  {
   "cell_type": "markdown",
   "metadata": {},
   "source": [
    "We use the `predict` method to predict the target variable. And we expect these predicted values to fall onto the line that we plotted previously:"
   ]
  },
  {
   "cell_type": "code",
   "execution_count": 53,
   "metadata": {},
   "outputs": [],
   "source": [
    "Y_pred_train = regressor.predict(X_train)"
   ]
  },
  {
   "cell_type": "code",
   "execution_count": 54,
   "metadata": {},
   "outputs": [
    {
     "data": {
      "text/plain": [
       "<matplotlib.legend.Legend at 0x16fbd26d8c8>"
      ]
     },
     "execution_count": 54,
     "metadata": {},
     "output_type": "execute_result"
    },
    {
     "data": {
      "image/png": "[encoded data removed]",
      "text/plain": [
       "<Figure size 432x288 with 1 Axes>"
      ]
     },
     "metadata": {
      "needs_background": "light"
     },
     "output_type": "display_data"
    }
   ],
   "source": [
    "plt.plot(X_train, Y_train, 'o', label='data')\n",
    "plt.plot(X_train, Y_pred_train, 'o', label='prediction')\n",
    "plt.plot([X.min(), X.max()], [min_pt, max_pt], label='fit')\n",
    "plt.legend(loc='best')"
   ]
  },
  {
   "cell_type": "markdown",
   "metadata": {},
   "source": [
    "As we can see in the plot above, the line is able to capture the general slope of the data quite well. Now let's try the test set:"
   ]
  },
  {
   "cell_type": "code",
   "execution_count": 55,
   "metadata": {},
   "outputs": [],
   "source": [
    "Y_pred_test = regressor.predict(X_test)"
   ]
  },
  {
   "cell_type": "code",
   "execution_count": 56,
   "metadata": {},
   "outputs": [
    {
     "data": {
      "image/png": "[encoded data removed]",
      "text/plain": [
       "<Figure size 432x288 with 1 Axes>"
      ]
     },
     "metadata": {
      "needs_background": "light"
     },
     "output_type": "display_data"
    }
   ],
   "source": [
    "plt.plot(X_test, Y_test, 'o', label=\"data\")\n",
    "plt.plot(X_test, Y_pred_test, 'o', label=\"prediction\")\n",
    "plt.plot([X.min(), X.max()], [min_pt, max_pt], label='fit')\n",
    "plt.legend(loc='best');"
   ]
  },
  {
   "cell_type": "markdown",
   "metadata": {},
   "source": [
    "Scikit-Learn provides an easy way to evaluate the prediction quantitatively using the `score` method. For regression tasks, this is the $R^2$ score."
   ]
  },
  {
   "cell_type": "code",
   "execution_count": 57,
   "metadata": {},
   "outputs": [
    {
     "name": "stdout",
     "output_type": "stream",
     "text": [
      "Help on method score in module sklearn.base:\n",
      "\n",
      "score(X, y, sample_weight=None) method of sklearn.linear_model.base.LinearRegression instance\n",
      "    Returns the coefficient of determination R^2 of the prediction.\n",
      "    \n",
      "    The coefficient R^2 is defined as (1 - u/v), where u is the residual\n",
      "    sum of squares ((y_true - y_pred) ** 2).sum() and v is the total\n",
      "    sum of squares ((y_true - y_true.mean()) ** 2).sum().\n",
      "    The best possible score is 1.0 and it can be negative (because the\n",
      "    model can be arbitrarily worse). A constant model that always\n",
      "    predicts the expected value of y, disregarding the input features,\n",
      "    would get a R^2 score of 0.0.\n",
      "    \n",
      "    Parameters\n",
      "    ----------\n",
      "    X : array-like, shape = (n_samples, n_features)\n",
      "        Test samples. For some estimators this may be a\n",
      "        precomputed kernel matrix instead, shape = (n_samples,\n",
      "        n_samples_fitted], where n_samples_fitted is the number of\n",
      "        samples used in the fitting for the estimator.\n",
      "    \n",
      "    y : array-like, shape = (n_samples) or (n_samples, n_outputs)\n",
      "        True values for X.\n",
      "    \n",
      "    sample_weight : array-like, shape = [n_samples], optional\n",
      "        Sample weights.\n",
      "    \n",
      "    Returns\n",
      "    -------\n",
      "    score : float\n",
      "        R^2 of self.predict(X) wrt. y.\n",
      "    \n",
      "    Notes\n",
      "    -----\n",
      "    The R2 score used when calling ``score`` on a regressor will use\n",
      "    ``multioutput='uniform_average'`` from version 0.23 to keep consistent\n",
      "    with `metrics.r2_score`. This will influence the ``score`` method of\n",
      "    all the multioutput regressors (except for\n",
      "    `multioutput.MultiOutputRegressor`). To specify the default value\n",
      "    manually and avoid the warning, please either call `metrics.r2_score`\n",
      "    directly or make a custom scorer with `metrics.make_scorer` (the\n",
      "    built-in scorer ``'r2'`` uses ``multioutput='uniform_average'``).\n",
      "\n"
     ]
    }
   ],
   "source": [
    "help(regressor.score)"
   ]
  },
  {
   "cell_type": "code",
   "execution_count": 58,
   "metadata": {},
   "outputs": [
    {
     "data": {
      "text/plain": [
       "0.7135879204569124"
      ]
     },
     "execution_count": 58,
     "metadata": {},
     "output_type": "execute_result"
    }
   ],
   "source": [
    "regressor.score(X_test, Y_test)"
   ]
  },
  {
   "cell_type": "markdown",
   "metadata": {},
   "source": [
    "### Example 2: Clustering"
   ]
  },
  {
   "cell_type": "markdown",
   "metadata": {},
   "source": [
    "We start by creating a simple, 2-dimensional, synthetic dataset:"
   ]
  },
  {
   "cell_type": "code",
   "execution_count": 67,
   "metadata": {},
   "outputs": [
    {
     "data": {
      "text/plain": [
       "<matplotlib.collections.PathCollection at 0x16fbd60dac8>"
      ]
     },
     "execution_count": 67,
     "metadata": {},
     "output_type": "execute_result"
    },
    {
     "data": {
      "image/png": "[encoded data removed]",
      "text/plain": [
       "<Figure size 432x288 with 1 Axes>"
      ]
     },
     "metadata": {
      "needs_background": "light"
     },
     "output_type": "display_data"
    }
   ],
   "source": [
    "from sklearn.datasets import make_blobs\n",
    "\n",
    "X, Y = make_blobs(random_state=102)\n",
    "plt.scatter(X[:,0], X[:,1])"
   ]
  },
  {
   "cell_type": "markdown",
   "metadata": {},
   "source": [
    "Now we will use one of the simplest clustering algorithms, _K-means clustering_. This is an iterative algorithm which searches for $K=3$ cluster centers such that the Euclidean distance from each point to its cluster is minimized."
   ]
  },
  {
   "cell_type": "code",
   "execution_count": 62,
   "metadata": {},
   "outputs": [
    {
     "data": {
      "text/plain": [
       "array([0, 2, 1, 0, 0, 1, 0, 1, 0, 1, 1, 0, 2, 2, 1, 1, 2, 0, 0, 2, 0, 2,\n",
       "       0, 1, 0, 0, 1, 1, 1, 0, 1, 1, 2, 0, 2, 1, 1, 0, 2, 2, 0, 2, 1, 2,\n",
       "       0, 2, 1, 2, 0, 1, 0, 0, 0, 0, 2, 2, 1, 2, 0, 2, 2, 2, 2, 1, 1, 2,\n",
       "       1, 2, 0, 2, 2, 2, 0, 2, 0, 0, 1, 1, 0, 2, 2, 1, 2, 2, 1, 1, 1, 2,\n",
       "       0, 0, 0, 0, 2, 0, 1, 1, 0, 1, 1, 1])"
      ]
     },
     "execution_count": 62,
     "metadata": {},
     "output_type": "execute_result"
    }
   ],
   "source": [
    "Y"
   ]
  },
  {
   "cell_type": "markdown",
   "metadata": {},
   "source": [
    "**Question:** what would you expect the output to look like?"
   ]
  },
  {
   "cell_type": "code",
   "execution_count": 76,
   "metadata": {},
   "outputs": [],
   "source": [
    "from sklearn.cluster import KMeans\n",
    "\n",
    "kmeans = KMeans(n_clusters=4, random_state=102)"
   ]
  },
  {
   "cell_type": "markdown",
   "metadata": {},
   "source": [
    "We can get the cluster labels either by calling fit and then accessing the \n",
    "``labels_`` attribute of the K means estimator, or by calling ``fit_predict``.\n",
    "Either way, the result contains the ID of the cluster that each point is assigned to."
   ]
  },
  {
   "cell_type": "code",
   "execution_count": 77,
   "metadata": {},
   "outputs": [
    {
     "data": {
      "text/plain": [
       "array([3, 1, 0, 3, 3, 0, 1, 0, 2, 0, 0, 2, 1, 1, 0, 0, 2, 3, 3, 1, 2, 2,\n",
       "       3, 0, 3, 3, 0, 0, 0, 3, 0, 0, 1, 3, 2, 0, 0, 3, 1, 2, 2, 1, 0, 1,\n",
       "       3, 2, 0, 2, 3, 0, 3, 3, 3, 3, 2, 1, 0, 1, 3, 1, 1, 3, 1, 0, 0, 1,\n",
       "       0, 1, 2, 1, 2, 2, 3, 1, 3, 3, 0, 0, 3, 2, 1, 0, 1, 1, 0, 0, 0, 1,\n",
       "       3, 2, 3, 2, 2, 2, 0, 0, 3, 0, 0, 0])"
      ]
     },
     "execution_count": 77,
     "metadata": {},
     "output_type": "execute_result"
    }
   ],
   "source": [
    "kmeans.fit_predict(X) #kmeans.labels_"
   ]
  },
  {
   "cell_type": "code",
   "execution_count": 78,
   "metadata": {},
   "outputs": [
    {
     "data": {
      "text/plain": [
       "<matplotlib.collections.PathCollection at 0x16fbde937c8>"
      ]
     },
     "execution_count": 78,
     "metadata": {},
     "output_type": "execute_result"
    },
    {
     "data": {
      "image/png": "[encoded data removed]",
      "text/plain": [
       "<Figure size 432x288 with 1 Axes>"
      ]
     },
     "metadata": {
      "needs_background": "light"
     },
     "output_type": "display_data"
    }
   ],
   "source": [
    "plt.scatter(X[:,0], X[:,1], c=kmeans.fit_predict(X))"
   ]
  },
  {
   "cell_type": "markdown",
   "metadata": {},
   "source": [
    "Compared to the true labels:"
   ]
  },
  {
   "cell_type": "code",
   "execution_count": 72,
   "metadata": {},
   "outputs": [
    {
     "data": {
      "text/plain": [
       "<matplotlib.collections.PathCollection at 0x16fbddac648>"
      ]
     },
     "execution_count": 72,
     "metadata": {},
     "output_type": "execute_result"
    },
    {
     "data": {
      "image/png": "[encoded data removed]",
      "text/plain": [
       "<Figure size 432x288 with 1 Axes>"
      ]
     },
     "metadata": {
      "needs_background": "light"
     },
     "output_type": "display_data"
    }
   ],
   "source": [
    "plt.scatter(X[:,0], X[:,1], c=-Y)"
   ]
  },
  {
   "cell_type": "markdown",
   "metadata": {},
   "source": [
    "### Want to know more about Scikit-Learn or Machine Learning? Check out 'Google Drive'."
   ]
  },
  {
   "cell_type": "markdown",
   "metadata": {},
   "source": [
    "### 🔴 *Next Week:*"
   ]
  },
  {
   "cell_type": "code",
   "execution_count": null,
   "metadata": {},
   "outputs": [],
   "source": []
  }
 ],
 "metadata": {
  "kernelspec": {
   "display_name": "Python 3",
   "language": "python",
   "name": "python3"
  },
  "language_info": {
   "codemirror_mode": {
    "name": "ipython",
    "version": 3
   },
   "file_extension": ".py",
   "mimetype": "text/x-python",
   "name": "python",
   "nbconvert_exporter": "python",
   "pygments_lexer": "ipython3",
   "version": "3.7.3"
  },
  "latex_envs": {
   "LaTeX_envs_menu_present": true,
   "autoclose": false,
   "autocomplete": true,
   "bibliofile": "biblio.bib",
   "cite_by": "apalike",
   "current_citInitial": 1,
   "eqLabelWithNumbers": true,
   "eqNumInitial": 1,
   "hotkeys": {
    "equation": "Ctrl-E",
    "itemize": "Ctrl-I"
   },
   "labels_anchors": false,
   "latex_user_defs": false,
   "report_style_numbering": false,
   "user_envs_cfg": false
  },
  "toc": {
   "base_numbering": 1,
   "nav_menu": {},
   "number_sections": false,
   "sideBar": true,
   "skip_h1_title": false,
   "title_cell": "Table of Contents",
   "title_sidebar": "Contents",
   "toc_cell": true,
   "toc_position": {
    "height": "calc(100% - 180px)",
    "left": "10px",
    "top": "150px",
    "width": "337.007px"
   },
   "toc_section_display": true,
   "toc_window_display": true
  },
  "varInspector": {
   "cols": {
    "lenName": 16,
    "lenType": 16,
    "lenVar": 40
   },
   "kernels_config": {
    "python": {
     "delete_cmd_postfix": "",
     "delete_cmd_prefix": "del ",
     "library": "var_list.py",
     "varRefreshCmd": "print(var_dic_list())"
    },
    "r": {
     "delete_cmd_postfix": ") ",
     "delete_cmd_prefix": "rm(",
     "library": "var_list.r",
     "varRefreshCmd": "cat(var_dic_list()) "
    }
   },
   "types_to_exclude": [
    "module",
    "function",
    "builtin_function_or_method",
    "instance",
    "_Feature"
   ],
   "window_display": false
  }
 },
 "nbformat": 4,
 "nbformat_minor": 4
}
