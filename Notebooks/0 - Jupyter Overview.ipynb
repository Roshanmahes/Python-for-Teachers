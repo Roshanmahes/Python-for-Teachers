{
 "cells": [
  {
   "cell_type": "markdown",
   "metadata": {
    "colab_type": "text",
    "id": "RV1s1RFcnUv5"
   },
   "source": [
    "# Jupyter Overview\n",
    "\n",
    "A demo of what can be done in Jupyter, and how. With references to documentation pages.<br>\n",
    "Chris Zaal, Thursday May 14th, 2020"
   ]
  },
  {
   "cell_type": "markdown",
   "metadata": {
    "colab_type": "text",
    "id": "5AXiwV8qnUv7"
   },
   "source": [
    "## Quick start\n",
    "\n",
    "Watch this Jupyter tutorial by Corey Schafer: https://www.youtube.com/watch?v=HW29067qVWk "
   ]
  },
  {
   "cell_type": "markdown",
   "metadata": {
    "colab_type": "text",
    "id": "z6LITRUenUv9"
   },
   "source": [
    "## Jupyter Help (menu bar)\n",
    "\n",
    "* do the User Interface Tour  (via the Help in the menu-bar, takes 1 minute)\n",
    "* have a look at the Keyboard Shortcuts  (via the Help in the menu-bar)\n",
    "* check the link for Notebook Help  (via the Help in the menu-bar)\n",
    "* and the one on Markdown  (the Jupyter Markdown language comes from Github)"
   ]
  },
  {
   "cell_type": "markdown",
   "metadata": {
    "colab_type": "text",
    "id": "ZBWgwHIunUv-"
   },
   "source": [
    "## Elementary\n",
    "\n",
    "- type Python code in a cell, run with [shift][enter] and you'll get a new cell below\n",
    "- change the mode of a cell to \"Markdown\" with the pull down menu in the tool bar, hit [shift][enter] to view\n",
    "- to edit a mark down cell, double click\n",
    "- cut, move or copy cells with buttons in the tool bar\n",
    "- save the notebook regularly (with the leftmost button in the toolbar or [ctrl][s])"
   ]
  },
  {
   "cell_type": "markdown",
   "metadata": {
    "colab_type": "text",
    "id": "5TQe8FbNnUv_"
   },
   "source": [
    "## Markdown\n",
    "\n",
    "In a markdown cell you can enter lots of stuff:\n",
    "\n",
    "- headers (marked bij #, ##, ###, ####, #####, ######)\n",
    "- ordered or unordered lists (mark a line by \"-\" of by \"*\")\n",
    "- code of cite (mark by \">\")\n",
    "- url's (the url of an internet image renders the image)\n",
    "- html code (i.e. `<br>` to break a line)\n",
    "- latex code (gets rendered by MathJax)\n",
    "- Python code (use indentation)"
   ]
  },
  {
   "cell_type": "markdown",
   "metadata": {
    "colab_type": "text",
    "id": "MJVrOl-InUwA"
   },
   "source": [
    "## Getting help on Python\n",
    "\n",
    "A question mark before a Python function returns the docstring of that function (opens in a new frame)"
   ]
  },
  {
   "cell_type": "code",
   "execution_count": 0,
   "metadata": {
    "colab": {},
    "colab_type": "code",
    "id": "Ynb-hHwmnUwB"
   },
   "outputs": [],
   "source": [
    "help(print)     # \"\"?print\" also works, outputs to a separate frame"
   ]
  },
  {
   "cell_type": "markdown",
   "metadata": {
    "colab_type": "text",
    "id": "6VqMaSI_nUwH"
   },
   "source": [
    "## Keyboard Navigation\n",
    "\n",
    "The modal user interface of the IPython Notebook has been optimized for efficient keyboard usage. This is made possible by having two different sets of keyboard shortcuts: one set that is active in edit mode and another in command mode.\n",
    "\n",
    "The most important keyboard shortcuts are Enter, which enters edit mode, and Esc, which enters command mode.\n",
    "\n",
    "In edit mode, most of the keyboard is dedicated to typing into the cell's editor. Thus, in edit mode there are relatively few shortcuts. In command mode, the entire keyboard is available for shortcuts, so there are many more. The Help->Keyboard Shortcuts dialog lists the available shortcuts.\n",
    "\n",
    "We recommend learning the command mode shortcuts in the following rough order:\n",
    "\n",
    "- Basic navigation: enter, shift-enter, up/k, down/j\n",
    "- Saving the notebook: s\n",
    "- Cell types: y, m, 1-6, t\n",
    "- Cell creation: a, b\n",
    "- Cell editing: x, c, v, d, z, shift+=\n",
    "- Kernel operations: i, ."
   ]
  },
  {
   "cell_type": "markdown",
   "metadata": {
    "colab_type": "text",
    "id": "BxpxXlSJnUwI"
   },
   "source": [
    "## Autosaving your notebook"
   ]
  },
  {
   "cell_type": "code",
   "execution_count": 0,
   "metadata": {
    "colab": {},
    "colab_type": "code",
    "id": "UfdUFaKlnUwJ",
    "outputId": "d53156c1-e2a9-4969-f4cb-97253ade68ca"
   },
   "outputs": [
    {
     "data": {
      "application/javascript": [
       "IPython.notebook.set_autosave_interval(120000)"
      ]
     },
     "metadata": {
      "tags": []
     },
     "output_type": "display_data"
    },
    {
     "name": "stdout",
     "output_type": "stream",
     "text": [
      "Autosaving every 120 seconds\n"
     ]
    }
   ],
   "source": [
    "%autosave 120   "
   ]
  },
  {
   "cell_type": "markdown",
   "metadata": {
    "colab_type": "text",
    "id": "V323NPp0nUwX"
   },
   "source": [
    "## Opening Jupyter Notebooks from Google Drive  \n",
    "\n",
    "From a Google Drive Folder you can open a Jupyter notebook (.ipynb) online:\n",
    "\n",
    "- click the file\n",
    "- go to the top of the screen \"Open with\"\n",
    "- pull down menu > Connect more apps\n",
    "- search voor \"Google colaboratory\"\n",
    "- with this app the notebook runs online (driven by an online Python server)\n",
    "\n",
    "In GitHub it is even more easy: clicking a Jupyter notebook there make the notebook run online, immediately."
   ]
  },
  {
   "cell_type": "markdown",
   "metadata": {
    "colab_type": "text",
    "id": "A55cZh8XnUwa"
   },
   "source": [
    "## Embedding internet pictures\n",
    "\n",
    "- embed an internet picture in a markdown cell via the html img tag `<img src=\"\">`\n",
    "- to make it clickable, wrap the img tag in a html anchor tag `<a href=\"\"><img src=\"\"></a>`\n",
    "- see the bookcover example below (which shows that you can enter any html-code in a markdown cell)\n",
    "- inline links can also be made via markdown tags, but this doesn't work for images (?):\n",
    "\n",
    "> This site was built using `[GitHub Pages](https://pages.github.com/)`."
   ]
  },
  {
   "cell_type": "markdown",
   "metadata": {
    "colab_type": "text",
    "id": "Eac2UaxmnUwd"
   },
   "source": [
    "<a href=\"https://greenteapress.com/wp/think-python-2e/\"><img src=\"https://encrypted-tbn1.gstatic.com/images?q=tbn:ANd9GcThquwa8avs8Z1yUcPB_jqLqMzsmx8EByWjfGgWihOz-Hxrhqd7\" align=\"left\" width=\"350\"></a>"
   ]
  },
  {
   "cell_type": "markdown",
   "metadata": {
    "colab_type": "text",
    "id": "-XE65LHHnUwf"
   },
   "source": [
    "## Embedding Youtube video's"
   ]
  },
  {
   "cell_type": "markdown",
   "metadata": {
    "colab_type": "raw",
    "id": "m16HJlzXnUwi"
   },
   "source": [
    "_Recommended Youtube dimensions: 426 x 240 (240p), 640 x 360 (360p), 854 x 480 (480p), 1280 x 720 (720p), 1920 x 1080 (1080p), 2560 x 1440 (1440p) and 3840 x 2160 (2160p). Minimum dimension is 426 x 240. Max dimension is 3840 x 2160. Aspect ratio is 16:9 (auto adds pillarboxing if 4:3)._"
   ]
  },
  {
   "cell_type": "code",
   "execution_count": 0,
   "metadata": {
    "colab": {},
    "colab_type": "code",
    "id": "kb2aZnmFnUwk",
    "outputId": "7fc45248-19bd-471a-ba59-0694ca2cce35"
   },
   "outputs": [
    {
     "data": {
      "image/jpeg": "[encoded data removed]",
      "text/html": [
       "\n",
       "        <iframe\n",
       "            width=\"854\"\n",
       "            height=\"480\"\n",
       "            src=\"https://www.youtube.com/embed/HW29067qVWk\"\n",
       "            frameborder=\"0\"\n",
       "            allowfullscreen\n",
       "        ></iframe>\n",
       "        "
      ],
      "text/plain": [
       "<IPython.lib.display.YouTubeVideo at 0x10cf57b90>"
      ]
     },
     "execution_count": 3,
     "metadata": {
      "tags": []
     },
     "output_type": "execute_result"
    }
   ],
   "source": [
    "from IPython.display import YouTubeVideo\n",
    "# Corey Schafer, Jupyter Tutorial \n",
    "YouTubeVideo('HW29067qVWk', width=854, height=480)"
   ]
  },
  {
   "cell_type": "markdown",
   "metadata": {
    "colab_type": "text",
    "id": "lT4ZauZGnUws"
   },
   "source": [
    "## More display options\n",
    "\n",
    "IPython.display has more options: you can display audio, images, pdf, html (for embedding websites) and lots more. <br> See the following link (embedded below): https://ipython.readthedocs.io/en/stable/api/generated/IPython.display.html"
   ]
  },
  {
   "cell_type": "code",
   "execution_count": 0,
   "metadata": {
    "colab": {},
    "colab_type": "code",
    "id": "l4e3dKRlnUwt",
    "outputId": "57f5c85d-2474-451d-80b0-789a92b9bec9"
   },
   "outputs": [
    {
     "data": {
      "text/html": [
       "\n",
       "        <iframe\n",
       "            width=\"1000\"\n",
       "            height=\"400\"\n",
       "            src=\"https://ipython.readthedocs.io/en/stable/api/generated/IPython.display.html\"\n",
       "            frameborder=\"0\"\n",
       "            allowfullscreen\n",
       "        ></iframe>\n",
       "        "
      ],
      "text/plain": [
       "<IPython.lib.display.IFrame at 0x10d936a90>"
      ]
     },
     "execution_count": 42,
     "metadata": {
      "tags": []
     },
     "output_type": "execute_result"
    }
   ],
   "source": [
    "from IPython.display import IFrame\n",
    "IFrame('https://ipython.readthedocs.io/en/stable/api/generated/IPython.display.html', width=1000, height=400)"
   ]
  },
  {
   "cell_type": "markdown",
   "metadata": {
    "colab_type": "text",
    "id": "Ve7SWvxOnUw0"
   },
   "source": [
    "## Line magics and cell magics (maybe not so useful for mathematics)\n",
    "\n",
    "These so called magical commands you encounter for instance in the Jupyter tuorial above of Corey Shafer. We don't seem much room for applying these in the field of mathematics. Magic commands seem more appropriate for developers, computer scientists, whizzkids and magicians. Nonetheless we give it a try. "
   ]
  },
  {
   "cell_type": "code",
   "execution_count": 0,
   "metadata": {
    "colab": {},
    "colab_type": "code",
    "id": "PcQlJt1VnUw2",
    "outputId": "84723ea1-1434-4382-d1bf-4078c85032c9"
   },
   "outputs": [
    {
     "data": {
      "application/json": {
       "cell": {
        "!": "OSMagics",
        "HTML": "Other",
        "SVG": "Other",
        "bash": "Other",
        "capture": "ExecutionMagics",
        "debug": "ExecutionMagics",
        "file": "Other",
        "html": "DisplayMagics",
        "javascript": "DisplayMagics",
        "js": "DisplayMagics",
        "latex": "DisplayMagics",
        "markdown": "DisplayMagics",
        "perl": "Other",
        "prun": "ExecutionMagics",
        "pypy": "Other",
        "python": "Other",
        "python2": "Other",
        "python3": "Other",
        "ruby": "Other",
        "script": "ScriptMagics",
        "sh": "Other",
        "svg": "DisplayMagics",
        "sx": "OSMagics",
        "system": "OSMagics",
        "time": "ExecutionMagics",
        "timeit": "ExecutionMagics",
        "writefile": "OSMagics"
       },
       "line": {
        "alias": "OSMagics",
        "alias_magic": "BasicMagics",
        "autoawait": "AsyncMagics",
        "autocall": "AutoMagics",
        "automagic": "AutoMagics",
        "autosave": "KernelMagics",
        "bookmark": "OSMagics",
        "cat": "Other",
        "cd": "OSMagics",
        "clear": "KernelMagics",
        "colors": "BasicMagics",
        "conda": "PackagingMagics",
        "config": "ConfigMagics",
        "connect_info": "KernelMagics",
        "cp": "Other",
        "debug": "ExecutionMagics",
        "dhist": "OSMagics",
        "dirs": "OSMagics",
        "doctest_mode": "BasicMagics",
        "ed": "Other",
        "edit": "KernelMagics",
        "env": "OSMagics",
        "gui": "BasicMagics",
        "hist": "Other",
        "history": "HistoryMagics",
        "killbgscripts": "ScriptMagics",
        "ldir": "Other",
        "less": "KernelMagics",
        "lf": "Other",
        "lk": "Other",
        "ll": "Other",
        "load": "CodeMagics",
        "load_ext": "ExtensionMagics",
        "loadpy": "CodeMagics",
        "logoff": "LoggingMagics",
        "logon": "LoggingMagics",
        "logstart": "LoggingMagics",
        "logstate": "LoggingMagics",
        "logstop": "LoggingMagics",
        "ls": "Other",
        "lsmagic": "BasicMagics",
        "lx": "Other",
        "macro": "ExecutionMagics",
        "magic": "BasicMagics",
        "man": "KernelMagics",
        "matplotlib": "PylabMagics",
        "mkdir": "Other",
        "more": "KernelMagics",
        "mv": "Other",
        "notebook": "BasicMagics",
        "page": "BasicMagics",
        "pastebin": "CodeMagics",
        "pdb": "ExecutionMagics",
        "pdef": "NamespaceMagics",
        "pdoc": "NamespaceMagics",
        "pfile": "NamespaceMagics",
        "pinfo": "NamespaceMagics",
        "pinfo2": "NamespaceMagics",
        "pip": "PackagingMagics",
        "popd": "OSMagics",
        "pprint": "BasicMagics",
        "precision": "BasicMagics",
        "prun": "ExecutionMagics",
        "psearch": "NamespaceMagics",
        "psource": "NamespaceMagics",
        "pushd": "OSMagics",
        "pwd": "OSMagics",
        "pycat": "OSMagics",
        "pylab": "PylabMagics",
        "qtconsole": "KernelMagics",
        "quickref": "BasicMagics",
        "recall": "HistoryMagics",
        "rehashx": "OSMagics",
        "reload_ext": "ExtensionMagics",
        "rep": "Other",
        "rerun": "HistoryMagics",
        "reset": "NamespaceMagics",
        "reset_selective": "NamespaceMagics",
        "rm": "Other",
        "rmdir": "Other",
        "run": "ExecutionMagics",
        "save": "CodeMagics",
        "sc": "OSMagics",
        "set_env": "OSMagics",
        "store": "StoreMagics",
        "sx": "OSMagics",
        "system": "OSMagics",
        "tb": "ExecutionMagics",
        "time": "ExecutionMagics",
        "timeit": "ExecutionMagics",
        "unalias": "OSMagics",
        "unload_ext": "ExtensionMagics",
        "who": "NamespaceMagics",
        "who_ls": "NamespaceMagics",
        "whos": "NamespaceMagics",
        "xdel": "NamespaceMagics",
        "xmode": "BasicMagics"
       }
      },
      "text/plain": [
       "Available line magics:\n",
       "%alias  %alias_magic  %autoawait  %autocall  %automagic  %autosave  %bookmark  %cat  %cd  %clear  %colors  %conda  %config  %connect_info  %cp  %debug  %dhist  %dirs  %doctest_mode  %ed  %edit  %env  %gui  %hist  %history  %killbgscripts  %ldir  %less  %lf  %lk  %ll  %load  %load_ext  %loadpy  %logoff  %logon  %logstart  %logstate  %logstop  %ls  %lsmagic  %lx  %macro  %magic  %man  %matplotlib  %mkdir  %more  %mv  %notebook  %page  %pastebin  %pdb  %pdef  %pdoc  %pfile  %pinfo  %pinfo2  %pip  %popd  %pprint  %precision  %prun  %psearch  %psource  %pushd  %pwd  %pycat  %pylab  %qtconsole  %quickref  %recall  %rehashx  %reload_ext  %rep  %rerun  %reset  %reset_selective  %rm  %rmdir  %run  %save  %sc  %set_env  %store  %sx  %system  %tb  %time  %timeit  %unalias  %unload_ext  %who  %who_ls  %whos  %xdel  %xmode\n",
       "\n",
       "Available cell magics:\n",
       "%%!  %%HTML  %%SVG  %%bash  %%capture  %%debug  %%file  %%html  %%javascript  %%js  %%latex  %%markdown  %%perl  %%prun  %%pypy  %%python  %%python2  %%python3  %%ruby  %%script  %%sh  %%svg  %%sx  %%system  %%time  %%timeit  %%writefile\n",
       "\n",
       "Automagic is ON, % prefix IS NOT needed for line magics."
      ]
     },
     "execution_count": 4,
     "metadata": {
      "tags": []
     },
     "output_type": "execute_result"
    }
   ],
   "source": [
    "%lsmagic    # note that \"lsmagic\" also works, since Automagic is ON"
   ]
  },
  {
   "cell_type": "code",
   "execution_count": 0,
   "metadata": {
    "colab": {},
    "colab_type": "code",
    "id": "xM1BG6lgnUw-"
   },
   "outputs": [],
   "source": [
    "%magic      # gives the full docstring of magic commands, run it yourself (it opens a seperate frame)"
   ]
  },
  {
   "cell_type": "code",
   "execution_count": 0,
   "metadata": {
    "colab": {},
    "colab_type": "code",
    "id": "fH23PYQlnUxE"
   },
   "outputs": [],
   "source": [
    "%quickref   # iPython quick reference (opens in a seperate frame)"
   ]
  },
  {
   "cell_type": "markdown",
   "metadata": {
    "colab_type": "text",
    "id": "TJEv47XRnUxR"
   },
   "source": [
    "### Unix commands"
   ]
  },
  {
   "cell_type": "code",
   "execution_count": 0,
   "metadata": {
    "colab": {},
    "colab_type": "code",
    "id": "_vwkUFlenUxU",
    "outputId": "4ea9ed0e-804a-48e9-9003-068657659dd5"
   },
   "outputs": [
    {
     "data": {
      "text/plain": [
       "'/Users/chris/PermWerk/Programmeren/Python'"
      ]
     },
     "execution_count": 6,
     "metadata": {
      "tags": []
     },
     "output_type": "execute_result"
    }
   ],
   "source": [
    "%pwd        # prints the working directory, \"!pwd\" does the same"
   ]
  },
  {
   "cell_type": "code",
   "execution_count": 0,
   "metadata": {
    "colab": {},
    "colab_type": "code",
    "id": "VcESD9ZunUxj",
    "outputId": "1614189d-84ee-476a-baf8-71e27f6b2b3b"
   },
   "outputs": [
    {
     "name": "stdout",
     "output_type": "stream",
     "text": [
      "2ewereldoorlog.txt           herfstij.txt\r\n",
      "JupyterCheatSheet.ipynb      julesverne.txt\r\n",
      "\u001b[34mJupyterExamples\u001b[m\u001b[m/             maxhavelaar.txt\r\n",
      "\u001b[34mOld\u001b[m\u001b[m/                         nescio.txt\r\n",
      "Sieve of Eratosthenes.ipynb  nl_2ewereldoorlog.txt\r\n",
      "ThinkPythonExercises.ipynb   pietjebell.txt\r\n",
      "elinevere.txt                woordenlijst.txt\r\n"
     ]
    }
   ],
   "source": [
    "%ls         # lists the working directory, \"!ls\" does the same"
   ]
  },
  {
   "cell_type": "code",
   "execution_count": 0,
   "metadata": {
    "colab": {},
    "colab_type": "code",
    "id": "cDG4Zs8VnUxw",
    "outputId": "18ee8d6b-5c74-45b0-82aa-8fe81a9d65c8"
   },
   "outputs": [
    {
     "name": "stdout",
     "output_type": "stream",
     "text": [
      "total 14656\r\n",
      "drwxr-xr-x@ 18 chris  staff      576 May 14 10:20 \u001b[34m.\u001b[m\u001b[m/\r\n",
      "drwxr-xr-x@  6 chris  staff      192 Jan 17  2018 \u001b[34m..\u001b[m\u001b[m/\r\n",
      "-rw-r--r--@  1 chris  staff     6148 May  2 18:13 .DS_Store\r\n",
      "drwxr-xr-x   5 chris  staff      160 May 13 12:44 \u001b[34m.ipynb_checkpoints\u001b[m\u001b[m/\r\n",
      "-rw-r--r--@  1 chris  staff   438642 May  2 17:00 2ewereldoorlog.txt\r\n",
      "-rw-r--r--@  1 chris  staff   144041 May 14 10:20 JupyterCheatSheet.ipynb\r\n",
      "drwxr-xr-x  11 chris  staff      352 Apr 30 13:37 \u001b[34mJupyterExamples\u001b[m\u001b[m/\r\n",
      "drwxr-xr-x  23 chris  staff      736 Apr 28 19:36 \u001b[34mOld\u001b[m\u001b[m/\r\n",
      "-rw-r--r--   1 chris  staff    21217 May 11 22:55 Sieve of Eratosthenes.ipynb\r\n",
      "-rw-r--r--   1 chris  staff   452818 May 13 23:49 ThinkPythonExercises.ipynb\r\n",
      "-rw-r--r--@  1 chris  staff  1098343 May  5 00:49 elinevere.txt\r\n",
      "-rw-r--r--@  1 chris  staff   945926 May  5 00:49 herfstij.txt\r\n",
      "-rw-r--r--@  1 chris  staff   438995 May  5 00:51 julesverne.txt\r\n",
      "-rw-r--r--@  1 chris  staff   776690 May  5 00:50 maxhavelaar.txt\r\n",
      "-rw-r--r--@  1 chris  staff   206968 May  5 00:50 nescio.txt\r\n",
      "-rw-r--r--@  1 chris  staff   145255 May  2 18:43 nl_2ewereldoorlog.txt\r\n",
      "-rw-r--r--@  1 chris  staff   263445 May  5 00:48 pietjebell.txt\r\n",
      "-rw-r--r--@  1 chris  staff  2533955 Apr 30 18:13 woordenlijst.txt\r\n"
     ]
    }
   ],
   "source": [
    "%ls -la"
   ]
  },
  {
   "cell_type": "markdown",
   "metadata": {
    "colab_type": "text",
    "id": "c0LSnKMHnUx6"
   },
   "source": [
    "### Timeit"
   ]
  },
  {
   "cell_type": "code",
   "execution_count": 0,
   "metadata": {
    "colab": {},
    "colab_type": "code",
    "id": "1YP8qFonnUx9"
   },
   "outputs": [],
   "source": [
    "def fibonacci(n):\n",
    "    \"\"\"Recursive fibonacci, very inefficient.\"\"\"\n",
    "    if n == 0:\n",
    "        return 0\n",
    "    elif n == 1:\n",
    "        return 1\n",
    "    else:\n",
    "        return fibonacci(n-1) + fibonacci(n-2)\n"
   ]
  },
  {
   "cell_type": "markdown",
   "metadata": {
    "colab_type": "text",
    "id": "UtPhnCFWnUyG"
   },
   "source": [
    "Timing examples below. <br> Note that timeit decides by itself how many loops it chooses to do."
   ]
  },
  {
   "cell_type": "code",
   "execution_count": 0,
   "metadata": {
    "colab": {},
    "colab_type": "code",
    "id": "9wmf7-1znUyH",
    "outputId": "93162ebe-01d6-4523-e23f-1bc0227a3ccd"
   },
   "outputs": [
    {
     "name": "stdout",
     "output_type": "stream",
     "text": [
      "CPU times: user 439 µs, sys: 1e+03 ns, total: 440 µs\n",
      "Wall time: 443 µs\n"
     ]
    },
    {
     "data": {
      "text/plain": [
       "610"
      ]
     },
     "execution_count": 28,
     "metadata": {
      "tags": []
     },
     "output_type": "execute_result"
    }
   ],
   "source": [
    "%time fibonacci(15)        # times a single statement"
   ]
  },
  {
   "cell_type": "code",
   "execution_count": 0,
   "metadata": {
    "colab": {},
    "colab_type": "code",
    "id": "1_nFf1pbnUyN",
    "outputId": "f36f827c-a164-41fe-9187-a15f6d097fd1"
   },
   "outputs": [
    {
     "name": "stdout",
     "output_type": "stream",
     "text": [
      "3.16 µs ± 548 ns per loop (mean ± std. dev. of 7 runs, 100000 loops each)\n",
      "33.8 µs ± 749 ns per loop (mean ± std. dev. of 7 runs, 10000 loops each)\n",
      "489 µs ± 174 µs per loop (mean ± std. dev. of 7 runs, 1000 loops each)\n",
      "4.6 ms ± 881 µs per loop (mean ± std. dev. of 7 runs, 100 loops each)\n",
      "50.6 ms ± 4.24 ms per loop (mean ± std. dev. of 7 runs, 10 loops each)\n",
      "520 ms ± 17.4 ms per loop (mean ± std. dev. of 7 runs, 1 loop each)\n"
     ]
    }
   ],
   "source": [
    "for i in range(5,35,5):    # timeit times several run of a single statement\n",
    "    %timeit fibonacci(i)   # \"timeit\" also works, since Automagic is ON\n",
    "    "
   ]
  },
  {
   "cell_type": "code",
   "execution_count": 0,
   "metadata": {
    "colab": {},
    "colab_type": "code",
    "id": "fZ6vInqbnUyU",
    "outputId": "d92d57db-8a04-4d29-bae5-d77fd0d069e4"
   },
   "outputs": [
    {
     "name": "stdout",
     "output_type": "stream",
     "text": [
      " "
     ]
    }
   ],
   "source": [
    "%prun fibonacci(15)        # detailed analysis of the specific number of function calls (opens a new window)"
   ]
  },
  {
   "cell_type": "markdown",
   "metadata": {
    "colab_type": "text",
    "id": "xtoxCbv-nUya"
   },
   "source": [
    "### LaTeX with cell magics"
   ]
  },
  {
   "cell_type": "code",
   "execution_count": 0,
   "metadata": {
    "colab": {},
    "colab_type": "code",
    "id": "3M2UQtWynUyb",
    "outputId": "773b8f81-4233-4171-fa5c-6ce371c9f940"
   },
   "outputs": [
    {
     "data": {
      "text/latex": [
       "\n",
       "[Last theorem of Fermat] For $n\\geq3$ the equation\n",
       "$$\n",
       "x^n + y^n = z^n\n",
       "$$\n",
       "has no integer solutions with $xyz \\ne 0$. \n"
      ],
      "text/plain": [
       "<IPython.core.display.Latex object>"
      ]
     },
     "metadata": {
      "tags": []
     },
     "output_type": "display_data"
    }
   ],
   "source": [
    "%%latex\n",
    "\n",
    "[Last theorem of Fermat] For $n\\geq3$ the equation\n",
    "$$\n",
    "x^n + y^n = z^n\n",
    "$$\n",
    "has no integer solutions with $xyz \\ne 0$. "
   ]
  },
  {
   "cell_type": "markdown",
   "metadata": {
    "colab_type": "text",
    "id": "N6fYJU7gnUyi"
   },
   "source": [
    "*This seems a bit stupid.<br> The same code in a markdown cell renders much better, see below.*"
   ]
  },
  {
   "cell_type": "markdown",
   "metadata": {
    "colab_type": "text",
    "id": "S6vnP2A9nUyj"
   },
   "source": [
    "[Last theorem of Fermat] For $n\\geq3$ the equation\n",
    "$$\n",
    "x^n + y^n = z^n\n",
    "$$\n",
    "has no integer solutions with $xyz \\ne 0$. "
   ]
  },
  {
   "cell_type": "markdown",
   "metadata": {
    "colab_type": "text",
    "id": "9LjdpslonUyk"
   },
   "source": [
    "## Running files\n",
    "\n",
    "With `%run filename.py` you can run external Python code."
   ]
  },
  {
   "cell_type": "markdown",
   "metadata": {
    "colab_type": "text",
    "id": "3izFzi28nUyk"
   },
   "source": [
    "## Tutorials on cell and line magics"
   ]
  },
  {
   "cell_type": "code",
   "execution_count": 0,
   "metadata": {
    "colab": {},
    "colab_type": "code",
    "id": "JT8dp7cinUyl",
    "outputId": "5090cf24-50d6-44fa-aaf9-d68d8b6c37c2"
   },
   "outputs": [
    {
     "data": {
      "image/jpeg": "[encoded data removed]",
      "text/html": [
       "\n",
       "        <iframe\n",
       "            width=\"426\"\n",
       "            height=\"240\"\n",
       "            src=\"https://www.youtube.com/embed/zlRJLWEUX7c\"\n",
       "            frameborder=\"0\"\n",
       "            allowfullscreen\n",
       "        ></iframe>\n",
       "        "
      ],
      "text/plain": [
       "<IPython.lib.display.YouTubeVideo at 0x10d89c410>"
      ]
     },
     "execution_count": 13,
     "metadata": {
      "tags": []
     },
     "output_type": "execute_result"
    }
   ],
   "source": [
    "from IPython.display import YouTubeVideo\n",
    "YouTubeVideo('zlRJLWEUX7c', width=426, height=240)"
   ]
  },
  {
   "cell_type": "code",
   "execution_count": 0,
   "metadata": {
    "colab": {},
    "colab_type": "code",
    "id": "JXODL3OKnUyo",
    "outputId": "9bb51352-df05-42cd-8f91-10be73a4e0b9",
    "scrolled": true
   },
   "outputs": [
    {
     "data": {
      "image/jpeg": "[encoded data removed]",
      "text/html": [
       "\n",
       "        <iframe\n",
       "            width=\"426\"\n",
       "            height=\"240\"\n",
       "            src=\"https://www.youtube.com/embed/zxkdO07L29Q\"\n",
       "            frameborder=\"0\"\n",
       "            allowfullscreen\n",
       "        ></iframe>\n",
       "        "
      ],
      "text/plain": [
       "<IPython.lib.display.YouTubeVideo at 0x10d89cad0>"
      ]
     },
     "execution_count": 14,
     "metadata": {
      "tags": []
     },
     "output_type": "execute_result"
    }
   ],
   "source": [
    "from IPython.display import YouTubeVideo\n",
    "YouTubeVideo('zxkdO07L29Q', width=426, height=240)"
   ]
  }
 ],
 "metadata": {
  "colab": {
   "name": "JupyterOverview.ipynb",
   "provenance": []
  },
  "kernelspec": {
   "display_name": "Python 3",
   "language": "python",
   "name": "python3"
  },
  "language_info": {
   "codemirror_mode": {
    "name": "ipython",
    "version": 3
   },
   "file_extension": ".py",
   "mimetype": "text/x-python",
   "name": "python",
   "nbconvert_exporter": "python",
   "pygments_lexer": "ipython3",
   "version": "3.7.7"
  }
 },
 "nbformat": 4,
 "nbformat_minor": 1
}
