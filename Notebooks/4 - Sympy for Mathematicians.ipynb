{
 "cells": [
  {
   "cell_type": "markdown",
   "metadata": {
    "colab_type": "text",
    "id": "lBUp-9E4461m"
   },
   "source": [
    "# 4. Introduction to Sympy for Mathematicians"
   ]
  },
  {
   "cell_type": "markdown",
   "metadata": {
    "colab_type": "text",
    "id": "fMqd_xIs461p"
   },
   "source": [
    "## Table of Contents\n",
    "- __Introduction to Sympy__\n",
    "- __Plots__\n",
    "- __Polynomials__\n",
    "- Series\n",
    "    - Taylor Series\n",
    "    - Summing Series\n",
    "- Linear Algebra\n",
    "- Differential Equations\n",
    "- __Limits, Derivatives, Integrals__\n",
    "    - __Limits__\n",
    "    - __Derivatives__\n",
    "    - __Integrals__\n",
    "\n",
    "Next week? Choose among:\n",
    "\n",
    "- Stochastics/statistics: `random`, `scipy.statistics` , `statsmodels`\n",
    "- Machine Learning 2/Deep Learning: `scikit-learn`, `keras`, `tensorflow`\n",
    "- SAGE\n",
    "- Other: ___________?\n",
    "\n"
   ]
  },
  {
   "cell_type": "markdown",
   "metadata": {
    "colab_type": "text",
    "id": "vBnrDiWi461q"
   },
   "source": [
    "## 4.1 Introduction to SymPy\n",
    "\n",
    "`sympy` is a package for symbolic calculations in Python, similar to *Wolfram Alpha/Mathematica*. It works with expressions containing symbols. Its core symbolic capabilities include:\n",
    "\n",
    "- Elementary algebra\n",
    "- Pattern matching and substitution\n",
    "- Symbolic transformations and simplifications\n",
    "- All the common mathematical functions and many special ones\n",
    "- Calculus: limits, derivatives, integrals, Taylor series, and so on\n",
    "- Solving many kinds of equations, including differential equations\n",
    "- Linear algebra\n",
    "- Polynomials\n",
    "- Infinite sums and products\n",
    "- Planar geometry\n",
    "- Physical constants and units\n",
    "- Numeric computation in arbitrary precision"
   ]
  },
  {
   "cell_type": "markdown",
   "metadata": {
    "colab_type": "text",
    "id": "X96xOixT461s"
   },
   "source": [
    "Today we will import everything contained in the package:"
   ]
  },
  {
   "cell_type": "code",
   "execution_count": 10,
   "metadata": {
    "colab": {},
    "colab_type": "code",
    "id": "_p9w_ZcX461u"
   },
   "outputs": [],
   "source": [
    "# import sympy as sym\n",
    "from sympy import *\n",
    "init_printing()"
   ]
  },
  {
   "cell_type": "markdown",
   "metadata": {
    "colab_type": "text",
    "id": "MTlp0j604615"
   },
   "source": [
    "SymPy is also available at http://live.sympy.org, an online Python shell, with `sympy` already imported, which\n",
    "allows you to perform simple calculations. The full documentation of this package can be found here: https://docs.sympy.org/latest/index.html. We can also watch a YouTube video:"
   ]
  },
  {
   "cell_type": "code",
   "execution_count": 11,
   "metadata": {
    "colab": {},
    "colab_type": "code",
    "id": "DMIn5Vvg4617"
   },
   "outputs": [
    {
     "data": {
      "image/jpeg": "[encoded data removed]",
      "text/html": [
       "\n",
       "        <iframe\n",
       "            width=\"533\"\n",
       "            height=\"300\"\n",
       "            src=\"https://www.youtube.com/embed/kx2GzBeGPco\"\n",
       "            frameborder=\"0\"\n",
       "            allowfullscreen\n",
       "        ></iframe>\n",
       "        "
      ],
      "text/plain": [
       "<IPython.lib.display.YouTubeVideo at 0x20cf2030108>"
      ]
     },
     "execution_count": 11,
     "metadata": {},
     "output_type": "execute_result"
    }
   ],
   "source": [
    "from IPython.display import YouTubeVideo\n",
    "YouTubeVideo('kx2GzBeGPco', width=533, height=300)"
   ]
  },
  {
   "cell_type": "markdown",
   "metadata": {
    "colab_type": "text",
    "id": "3P7mfGHr462D"
   },
   "source": [
    "Symbols are basic bricks used to construct expressions.\n",
    "Each symbol has a name used for printing expressions. Objects of the class `Symbol` should be created and assigned to Python variables in order to be used in expressions. The symbol name and the name of the variable to which this symbol is assigned are two independent things, and one may write `abc=Symbol('xyz')`. But then one has to write `abc` in input expressions, while `SymPy` will write `xyz` in output ones, producing unnecessary confusion. The Python variable name should better be the same as the symbol name.\n",
    "\n",
    "In languages specifically designed for symbolic calculations, such as *Mathematica*, if a variable to which nothing has been assigned is used, it automatically means a symbol with the same name. Python has not been designed for symbolic calculations. If you use a variable to which nothing has been assigned, you will get an error message. Symbol objects have to be created explicitly."
   ]
  },
  {
   "cell_type": "code",
   "execution_count": 12,
   "metadata": {
    "colab": {},
    "colab_type": "code",
    "id": "vlW5vzei462G"
   },
   "outputs": [
    {
     "data": {
      "image/png": "[encoded data removed]",
      "text/latex": [
       "$\\displaystyle x$"
      ],
      "text/plain": [
       "x"
      ]
     },
     "execution_count": 12,
     "metadata": {},
     "output_type": "execute_result"
    }
   ],
   "source": [
    "x = Symbol('x')\n",
    "x"
   ]
  },
  {
   "cell_type": "code",
   "execution_count": 9,
   "metadata": {
    "colab": {},
    "colab_type": "code",
    "id": "3CFmdy8C462N"
   },
   "outputs": [
    {
     "data": {
      "image/png": "[encoded data removed]",
      "text/latex": [
       "$\\displaystyle x^{2} - 1$"
      ],
      "text/plain": [
       " 2    \n",
       "x  - 1"
      ]
     },
     "execution_count": 9,
     "metadata": {},
     "output_type": "execute_result"
    }
   ],
   "source": [
    "a = x**2-1\n",
    "a"
   ]
  },
  {
   "cell_type": "markdown",
   "metadata": {
    "colab_type": "text",
    "id": "uGyaDn9M462U"
   },
   "source": [
    "However, we can also use the command `sympify`, then we don't need to define $x$ manually:"
   ]
  },
  {
   "cell_type": "code",
   "execution_count": 5,
   "metadata": {
    "colab": {},
    "colab_type": "code",
    "id": "oN7D5u1d462V"
   },
   "outputs": [
    {
     "data": {
      "text/latex": [
       "$\\displaystyle x^{2} - 1$"
      ],
      "text/plain": [
       "x**2 - 1"
      ]
     },
     "execution_count": 5,
     "metadata": {},
     "output_type": "execute_result"
    }
   ],
   "source": [
    "sympify('x^2 - 1')"
   ]
  },
  {
   "cell_type": "markdown",
   "metadata": {
    "colab_type": "text",
    "id": "aiNxRHHY462c"
   },
   "source": [
    "Internally expressions are trees. The function `srepr` returns a string representing this tree."
   ]
  },
  {
   "cell_type": "code",
   "execution_count": 13,
   "metadata": {
    "colab": {},
    "colab_type": "code",
    "id": "OrciN1i3462d"
   },
   "outputs": [
    {
     "data": {
      "text/plain": [
       "\"Add(Pow(Symbol('x'), Integer(2)), Integer(-1))\""
      ]
     },
     "execution_count": 13,
     "metadata": {},
     "output_type": "execute_result"
    }
   ],
   "source": [
    "srepr(a)"
   ]
  },
  {
   "cell_type": "markdown",
   "metadata": {
    "colab_type": "text",
    "id": "EGZ5WncR462k"
   },
   "source": [
    "One may use the functions `Add`, `Mul`, `Pow`, etc. instead of the binary operations `+`, `*`, `**`, etc."
   ]
  },
  {
   "cell_type": "code",
   "execution_count": 14,
   "metadata": {
    "colab": {},
    "colab_type": "code",
    "id": "HC9TlW6P462m"
   },
   "outputs": [
    {
     "data": {
      "image/png": "[encoded data removed]",
      "text/latex": [
       "$\\displaystyle x^{2} - 1$"
      ],
      "text/plain": [
       " 2    \n",
       "x  - 1"
      ]
     },
     "execution_count": 14,
     "metadata": {},
     "output_type": "execute_result"
    }
   ],
   "source": [
    "Add(Pow(Symbol('x'), Integer(2)), Integer(-1))"
   ]
  },
  {
   "cell_type": "markdown",
   "metadata": {
    "colab_type": "text",
    "id": "wiiKPODz462s"
   },
   "source": [
    "Some packages are available that provide Greek letters:"
   ]
  },
  {
   "cell_type": "code",
   "execution_count": 15,
   "metadata": {
    "colab": {},
    "colab_type": "code",
    "id": "V8-RWsmp462t"
   },
   "outputs": [
    {
     "data": {
      "image/png": "[encoded data removed]",
      "text/latex": [
       "$\\displaystyle \\frac{\\beta^{\\alpha} e^{- \\beta x} x^{\\alpha - 1}}{\\Gamma{\\left(\\alpha \\right)}}$"
      ],
      "text/plain": [
       " α  -β⋅x  α - 1\n",
       "β ⋅e    ⋅x     \n",
       "───────────────\n",
       "      Γ(α)     "
      ]
     },
     "execution_count": 15,
     "metadata": {},
     "output_type": "execute_result"
    }
   ],
   "source": [
    "from sympy.abc import _clash2\n",
    "\n",
    "f = sympify('beta^alpha * x^(alpha - 1) * e^(-beta * x)/ Gamma(alpha)', locals=_clash2)\n",
    "f"
   ]
  },
  {
   "cell_type": "code",
   "execution_count": 16,
   "metadata": {
    "colab": {},
    "colab_type": "code",
    "id": "vqMj8jlq462z"
   },
   "outputs": [
    {
     "data": {
      "text/plain": [
       "\"Mul(Pow(Symbol('beta'), Symbol('alpha')), Pow(Symbol('e'), Mul(Integer(-1), Symbol('beta'), Symbol('x'))), Pow(Symbol('x'), Add(Symbol('alpha'), Integer(-1))), Pow(Function('Gamma')(Symbol('alpha')), Integer(-1)))\""
      ]
     },
     "execution_count": 16,
     "metadata": {},
     "output_type": "execute_result"
    }
   ],
   "source": [
    "srepr(f)"
   ]
  },
  {
   "cell_type": "markdown",
   "metadata": {
    "colab_type": "text",
    "id": "ggDFFON-4624"
   },
   "source": [
    "Several symbols can be defined at once. The string is split at spaces."
   ]
  },
  {
   "cell_type": "code",
   "execution_count": 17,
   "metadata": {
    "colab": {},
    "colab_type": "code",
    "id": "pKDQW6T24625"
   },
   "outputs": [],
   "source": [
    "y,z = symbols('y z')"
   ]
  },
  {
   "cell_type": "markdown",
   "metadata": {
    "colab_type": "text",
    "id": "VjTIB4Cf462-"
   },
   "source": [
    "Let's substitute $y+1$ for $x$."
   ]
  },
  {
   "cell_type": "code",
   "execution_count": 18,
   "metadata": {
    "colab": {},
    "colab_type": "code",
    "id": "fknCSmAj462-"
   },
   "outputs": [
    {
     "data": {
      "image/png": "[encoded data removed]",
      "text/latex": [
       "$\\displaystyle \\left(y + 1\\right)^{2} - 1$"
      ],
      "text/plain": [
       "       2    \n",
       "(y + 1)  - 1"
      ]
     },
     "execution_count": 18,
     "metadata": {},
     "output_type": "execute_result"
    }
   ],
   "source": [
    "b = a.subs(x,y+1)\n",
    "b"
   ]
  },
  {
   "cell_type": "markdown",
   "metadata": {
    "colab_type": "text",
    "id": "hUdqZ7ZZ463B"
   },
   "source": [
    "`sympy` automatically applies simplifications of elementary functions which are correct everywhere."
   ]
  },
  {
   "cell_type": "code",
   "execution_count": 19,
   "metadata": {
    "colab": {},
    "colab_type": "code",
    "id": "rbQhkLCT463C"
   },
   "outputs": [
    {
     "data": {
      "image/png": "[encoded data removed]",
      "text/latex": [
       "$\\displaystyle \\cos{\\left(x \\right)}$"
      ],
      "text/plain": [
       "cos(x)"
      ]
     },
     "execution_count": 19,
     "metadata": {},
     "output_type": "execute_result"
    }
   ],
   "source": [
    "cos(-x)"
   ]
  },
  {
   "cell_type": "code",
   "execution_count": 20,
   "metadata": {
    "colab": {},
    "colab_type": "code",
    "id": "CMYmrxXv463G"
   },
   "outputs": [
    {
     "data": {
      "image/png": "[encoded data removed]",
      "text/latex": [
       "$\\displaystyle \\frac{\\sqrt{2}}{2}$"
      ],
      "text/plain": [
       "√2\n",
       "──\n",
       "2 "
      ]
     },
     "execution_count": 20,
     "metadata": {},
     "output_type": "execute_result"
    }
   ],
   "source": [
    "cos(pi/4)"
   ]
  },
  {
   "cell_type": "markdown",
   "metadata": {
    "colab_type": "text",
    "id": "6PNhiwsU463J"
   },
   "source": [
    "The method `rewrite` tries to rewrite an expression in terms of a given function."
   ]
  },
  {
   "cell_type": "code",
   "execution_count": 21,
   "metadata": {
    "colab": {},
    "colab_type": "code",
    "id": "tkzRAz45463J"
   },
   "outputs": [
    {
     "data": {
      "image/png": "[encoded data removed]",
      "text/latex": [
       "$\\displaystyle \\frac{e^{i x}}{2} + \\frac{e^{- i x}}{2}$"
      ],
      "text/plain": [
       " ⅈ⋅x    -ⅈ⋅x\n",
       "ℯ      ℯ    \n",
       "──── + ─────\n",
       " 2       2  "
      ]
     },
     "execution_count": 21,
     "metadata": {},
     "output_type": "execute_result"
    }
   ],
   "source": [
    "cos(x).rewrite(exp)"
   ]
  },
  {
   "cell_type": "markdown",
   "metadata": {
    "colab_type": "text",
    "id": "M27NHS6N463M"
   },
   "source": [
    "Be careful that some functions cannot always be simplified by default:"
   ]
  },
  {
   "cell_type": "code",
   "execution_count": 22,
   "metadata": {
    "colab": {},
    "colab_type": "code",
    "id": "pgygBMkv463M"
   },
   "outputs": [
    {
     "data": {
      "image/png": "[encoded data removed]",
      "text/latex": [
       "$\\displaystyle \\left( x^{2}, \\  \\sqrt{x^{4}}\\right)$"
      ],
      "text/plain": [
       "⎛       ____⎞\n",
       "⎜ 2    ╱  4 ⎟\n",
       "⎝x , ╲╱  x  ⎠"
      ]
     },
     "execution_count": 22,
     "metadata": {},
     "output_type": "execute_result"
    }
   ],
   "source": [
    "sqrt(x)**4, sqrt(x**4)"
   ]
  },
  {
   "cell_type": "markdown",
   "metadata": {
    "colab_type": "text",
    "id": "Eoekju1c463P"
   },
   "source": [
    "Why not $x^2$? Try $x=i$."
   ]
  },
  {
   "cell_type": "code",
   "execution_count": 23,
   "metadata": {
    "colab": {},
    "colab_type": "code",
    "id": "s2MJLR-2463P"
   },
   "outputs": [
    {
     "data": {
      "image/png": "[encoded data removed]",
      "text/latex": [
       "$\\displaystyle x^{2}$"
      ],
      "text/plain": [
       " 2\n",
       "x "
      ]
     },
     "execution_count": 23,
     "metadata": {},
     "output_type": "execute_result"
    }
   ],
   "source": [
    "x = symbols('x',real=True)\n",
    "sqrt(x**4)"
   ]
  },
  {
   "cell_type": "markdown",
   "metadata": {
    "colab_type": "text",
    "id": "m9LifYZm463S"
   },
   "source": [
    "## 4.2 Plots"
   ]
  },
  {
   "cell_type": "markdown",
   "metadata": {
    "colab_type": "text",
    "id": "WVi0nGQq463S"
   },
   "source": [
    "Let's plot `a = x**2-1` and `b = a.subs(x,y+1)`. To do this, we first change the variable $y$ to $x$:"
   ]
  },
  {
   "cell_type": "code",
   "execution_count": 24,
   "metadata": {
    "colab": {},
    "colab_type": "code",
    "id": "nNp2fgAr463S"
   },
   "outputs": [
    {
     "data": {
      "image/png": "[encoded data removed]",
      "text/latex": [
       "$\\displaystyle \\left(x + 1\\right)^{2} - 1$"
      ],
      "text/plain": [
       "       2    \n",
       "(x + 1)  - 1"
      ]
     },
     "execution_count": 24,
     "metadata": {},
     "output_type": "execute_result"
    }
   ],
   "source": [
    "a = x**2-1\n",
    "b = b.subs(y,x)\n",
    "b"
   ]
  },
  {
   "cell_type": "markdown",
   "metadata": {
    "colab_type": "text",
    "id": "_LqKuRX7463V"
   },
   "source": [
    "`sympy` uses `matplotlib`. However, it distributes $x$ points adaptively, not uniformly."
   ]
  },
  {
   "cell_type": "code",
   "execution_count": 18,
   "metadata": {
    "colab": {},
    "colab_type": "code",
    "id": "2smYIYAc463V"
   },
   "outputs": [],
   "source": [
    "%matplotlib inline"
   ]
  },
  {
   "cell_type": "code",
   "execution_count": 25,
   "metadata": {
    "colab": {},
    "colab_type": "code",
    "id": "22ps7N2k463b"
   },
   "outputs": [
    {
     "data": {
      "image/png": "[encoded data removed]",
      "text/plain": [
       "<Figure size 432x288 with 1 Axes>"
      ]
     },
     "metadata": {
      "needs_background": "light"
     },
     "output_type": "display_data"
    }
   ],
   "source": [
    "p = plot(a, b, show=False)\n",
    "p[1].line_color = \"r\"\n",
    "p.legend = True\n",
    "p.show()"
   ]
  },
  {
   "cell_type": "markdown",
   "metadata": {
    "colab_type": "text",
    "id": "MSBWM_Ep463d"
   },
   "source": [
    "We can also create plots in which functions are defined implicitly:"
   ]
  },
  {
   "cell_type": "code",
   "execution_count": 26,
   "metadata": {
    "colab": {},
    "colab_type": "code",
    "id": "C_MQEuG2463d"
   },
   "outputs": [
    {
     "data": {
      "image/png": "[encoded data removed]",
      "text/latex": [
       "$\\displaystyle x^{2} = y$"
      ],
      "text/plain": [
       " 2    \n",
       "x  = y"
      ]
     },
     "execution_count": 26,
     "metadata": {},
     "output_type": "execute_result"
    }
   ],
   "source": [
    "equation = Eq(x**2,y)\n",
    "equation"
   ]
  },
  {
   "cell_type": "code",
   "execution_count": 27,
   "metadata": {
    "colab": {},
    "colab_type": "code",
    "id": "GLZr92CG463g"
   },
   "outputs": [
    {
     "data": {
      "image/png": "[encoded data removed]",
      "text/plain": [
       "<Figure size 432x288 with 1 Axes>"
      ]
     },
     "metadata": {
      "needs_background": "light"
     },
     "output_type": "display_data"
    },
    {
     "data": {
      "text/plain": [
       "<sympy.plotting.plot.Plot at 0x20cf3d50608>"
      ]
     },
     "execution_count": 27,
     "metadata": {},
     "output_type": "execute_result"
    }
   ],
   "source": [
    "plot_implicit(equation,(x,-1,1),(y,0,1))"
   ]
  },
  {
   "cell_type": "code",
   "execution_count": 28,
   "metadata": {
    "colab": {},
    "colab_type": "code",
    "id": "wuh9ZV8t463i"
   },
   "outputs": [
    {
     "data": {
      "image/png": "[encoded data removed]",
      "text/plain": [
       "<Figure size 432x288 with 1 Axes>"
      ]
     },
     "metadata": {
      "needs_background": "light"
     },
     "output_type": "display_data"
    },
    {
     "data": {
      "text/plain": [
       "<sympy.plotting.plot.Plot at 0x20cf20e0b88>"
      ]
     },
     "execution_count": 28,
     "metadata": {},
     "output_type": "execute_result"
    }
   ],
   "source": [
    "plot_implicit(x**2+y**2>1,(x,-1,1),(y,-1,1))"
   ]
  },
  {
   "cell_type": "markdown",
   "metadata": {
    "colab_type": "text",
    "id": "LFwmjYQr463r"
   },
   "source": [
    "Some additional plotting functions can be imported from `sympy.plotting`."
   ]
  },
  {
   "cell_type": "code",
   "execution_count": 29,
   "metadata": {
    "colab": {},
    "colab_type": "code",
    "id": "8CBlYUUY463r"
   },
   "outputs": [],
   "source": [
    "from sympy.plotting import plot_parametric, plot3d, plot3d_parametric_line, plot3d_parametric_surface"
   ]
  },
  {
   "cell_type": "code",
   "execution_count": 30,
   "metadata": {
    "colab": {},
    "colab_type": "code",
    "id": "qkv9wy_T463v"
   },
   "outputs": [
    {
     "data": {
      "image/png": "[encoded data removed]",
      "text/plain": [
       "<Figure size 432x288 with 1 Axes>"
      ]
     },
     "metadata": {
      "needs_background": "light"
     },
     "output_type": "display_data"
    },
    {
     "data": {
      "text/plain": [
       "<sympy.plotting.plot.Plot at 0x20cf34e7248>"
      ]
     },
     "execution_count": 30,
     "metadata": {},
     "output_type": "execute_result"
    }
   ],
   "source": [
    "t = Symbol('t')\n",
    "plot_parametric(sin(2*t),cos(3*t),(t,0,2*pi),\n",
    "                title='Lissajous',xlabel='x',ylabel='y')"
   ]
  },
  {
   "cell_type": "markdown",
   "metadata": {
    "colab_type": "text",
    "id": "wRbpM6Tk4630"
   },
   "source": [
    "We can also create some 3d plots using `matplotlib` via `sympy`:"
   ]
  },
  {
   "cell_type": "code",
   "execution_count": 36,
   "metadata": {
    "colab": {},
    "colab_type": "code",
    "id": "j6CkXnbL4631"
   },
   "outputs": [],
   "source": [
    "# show plots in new window\n",
    "%matplotlib qt"
   ]
  },
  {
   "cell_type": "markdown",
   "metadata": {
    "colab_type": "text",
    "id": "J_C6TI0P4637"
   },
   "source": [
    "First we plot the surface $f(x,y) = x^2 + y^2$:"
   ]
  },
  {
   "cell_type": "code",
   "execution_count": 37,
   "metadata": {
    "colab": {},
    "colab_type": "code",
    "id": "R5EXd9t14638"
   },
   "outputs": [
    {
     "data": {
      "text/plain": [
       "<sympy.plotting.plot.Plot at 0x20cf7d1c5c8>"
      ]
     },
     "execution_count": 37,
     "metadata": {},
     "output_type": "execute_result"
    }
   ],
   "source": [
    "plot3d(x**2+y**2,(x,-2,2),(y,-2,2))"
   ]
  },
  {
   "cell_type": "markdown",
   "metadata": {
    "colab_type": "text",
    "id": "9FsgIzzd464C"
   },
   "source": [
    "Now a parametric space curve - a spiral."
   ]
  },
  {
   "cell_type": "code",
   "execution_count": 34,
   "metadata": {
    "colab": {},
    "colab_type": "code",
    "id": "hiFxK-0I464D"
   },
   "outputs": [
    {
     "data": {
      "text/plain": [
       "<sympy.plotting.plot.Plot at 0x20cf859c708>"
      ]
     },
     "execution_count": 34,
     "metadata": {},
     "output_type": "execute_result"
    }
   ],
   "source": [
    "plot3d_parametric_line(cos(t),sin(t),0.1*t,(t,0,4*pi))"
   ]
  },
  {
   "cell_type": "markdown",
   "metadata": {
    "colab_type": "text",
    "id": "h506VW8q464I"
   },
   "source": [
    "And finally a torus:"
   ]
  },
  {
   "cell_type": "code",
   "execution_count": 38,
   "metadata": {
    "colab": {},
    "colab_type": "code",
    "id": "ntaRkit7464J"
   },
   "outputs": [
    {
     "data": {
      "text/plain": [
       "<sympy.plotting.plot.Plot at 0x20cf7ea4f08>"
      ]
     },
     "execution_count": 38,
     "metadata": {},
     "output_type": "execute_result"
    }
   ],
   "source": [
    "u,v = symbols('u v')\n",
    "a = .5\n",
    "plot3d_parametric_surface((1+a*cos(u))*cos(v),(1+a*cos(u))*sin(v),a*sin(u),(u,0,2*pi),(v,0,2*pi))"
   ]
  },
  {
   "cell_type": "markdown",
   "metadata": {
    "colab_type": "text",
    "id": "etA0OXdV464O"
   },
   "source": [
    "## 4.3 Polynomials\n",
    "\n",
    "`SymPy` does not expand brackets automatically. The function `expand` is used for this."
   ]
  },
  {
   "cell_type": "code",
   "execution_count": 39,
   "metadata": {
    "colab": {},
    "colab_type": "code",
    "id": "3QnChASb464P"
   },
   "outputs": [
    {
     "data": {
      "image/png": "[encoded data removed]",
      "text/latex": [
       "$\\displaystyle \\left(x + y - z\\right)^{6}$"
      ],
      "text/plain": [
       "           6\n",
       "(x + y - z) "
      ]
     },
     "execution_count": 39,
     "metadata": {},
     "output_type": "execute_result"
    }
   ],
   "source": [
    "a = (x+y-z)**6\n",
    "a"
   ]
  },
  {
   "cell_type": "code",
   "execution_count": 40,
   "metadata": {
    "colab": {},
    "colab_type": "code",
    "id": "Cspa68Ol464U"
   },
   "outputs": [
    {
     "data": {
      "image/png": "[encoded data removed]",
      "text/latex": [
       "$\\displaystyle x^{6} + 6 x^{5} y - 6 x^{5} z + 15 x^{4} y^{2} - 30 x^{4} y z + 15 x^{4} z^{2} + 20 x^{3} y^{3} - 60 x^{3} y^{2} z + 60 x^{3} y z^{2} - 20 x^{3} z^{3} + 15 x^{2} y^{4} - 60 x^{2} y^{3} z + 90 x^{2} y^{2} z^{2} - 60 x^{2} y z^{3} + 15 x^{2} z^{4} + 6 x y^{5} - 30 x y^{4} z + 60 x y^{3} z^{2} - 60 x y^{2} z^{3} + 30 x y z^{4} - 6 x z^{5} + y^{6} - 6 y^{5} z + 15 y^{4} z^{2} - 20 y^{3} z^{3} + 15 y^{2} z^{4} - 6 y z^{5} + z^{6}$"
      ],
      "text/plain": [
       " 6      5        5         4  2       4           4  2       3  3       3  2  \n",
       "x  + 6⋅x ⋅y - 6⋅x ⋅z + 15⋅x ⋅y  - 30⋅x ⋅y⋅z + 15⋅x ⋅z  + 20⋅x ⋅y  - 60⋅x ⋅y ⋅z\n",
       "\n",
       "       3    2       3  3       2  4       2  3         2  2  2       2    3   \n",
       " + 60⋅x ⋅y⋅z  - 20⋅x ⋅z  + 15⋅x ⋅y  - 60⋅x ⋅y ⋅z + 90⋅x ⋅y ⋅z  - 60⋅x ⋅y⋅z  + \n",
       "\n",
       "    2  4        5         4           3  2         2  3           4        5  \n",
       "15⋅x ⋅z  + 6⋅x⋅y  - 30⋅x⋅y ⋅z + 60⋅x⋅y ⋅z  - 60⋅x⋅y ⋅z  + 30⋅x⋅y⋅z  - 6⋅x⋅z  +\n",
       "\n",
       "  6      5         4  2       3  3       2  4        5    6\n",
       " y  - 6⋅y ⋅z + 15⋅y ⋅z  - 20⋅y ⋅z  + 15⋅y ⋅z  - 6⋅y⋅z  + z "
      ]
     },
     "execution_count": 40,
     "metadata": {},
     "output_type": "execute_result"
    }
   ],
   "source": [
    "a = expand(a)\n",
    "a"
   ]
  },
  {
   "cell_type": "markdown",
   "metadata": {
    "colab_type": "text",
    "id": "DGDyah6z464X"
   },
   "source": [
    "Degree of the polynomial $a$ in $x$:"
   ]
  },
  {
   "cell_type": "code",
   "execution_count": 41,
   "metadata": {
    "colab": {},
    "colab_type": "code",
    "id": "oau3q2H9464X"
   },
   "outputs": [
    {
     "data": {
      "image/png": "[encoded data removed]",
      "text/latex": [
       "$\\displaystyle 6$"
      ],
      "text/plain": [
       "6"
      ]
     },
     "execution_count": 41,
     "metadata": {},
     "output_type": "execute_result"
    }
   ],
   "source": [
    "degree(a,x)"
   ]
  },
  {
   "cell_type": "markdown",
   "metadata": {
    "colab_type": "text",
    "id": "cR62SkV_464a"
   },
   "source": [
    "Roots of the polynomial $a$:"
   ]
  },
  {
   "cell_type": "code",
   "execution_count": 42,
   "metadata": {
    "colab": {},
    "colab_type": "code",
    "id": "gQL3jeBn464a"
   },
   "outputs": [
    {
     "data": {
      "image/png": "[encoded data removed]",
      "text/latex": [
       "$\\displaystyle \\left\\{ - y + z : 6\\right\\}$"
      ],
      "text/plain": [
       "{-y + z: 6}"
      ]
     },
     "execution_count": 42,
     "metadata": {},
     "output_type": "execute_result"
    }
   ],
   "source": [
    "roots(a,x)"
   ]
  },
  {
   "cell_type": "markdown",
   "metadata": {
    "colab_type": "text",
    "id": "YUVPvpgE464d"
   },
   "source": [
    "Let's collect terms with same power of $x$ together."
   ]
  },
  {
   "cell_type": "code",
   "execution_count": 43,
   "metadata": {
    "colab": {},
    "colab_type": "code",
    "id": "bLJIlu-F464f"
   },
   "outputs": [
    {
     "data": {
      "image/png": "[encoded data removed]",
      "text/latex": [
       "$\\displaystyle x^{6} - 6 x^{5} z + 15 x^{4} z^{2} - 20 x^{3} z^{3} + 15 x^{2} z^{4} - 6 x z^{5} + y^{6} + y^{5} \\left(6 x - 6 z\\right) + y^{4} \\left(15 x^{2} - 30 x z + 15 z^{2}\\right) + y^{3} \\left(20 x^{3} - 60 x^{2} z + 60 x z^{2} - 20 z^{3}\\right) + y^{2} \\left(15 x^{4} - 60 x^{3} z + 90 x^{2} z^{2} - 60 x z^{3} + 15 z^{4}\\right) + y \\left(6 x^{5} - 30 x^{4} z + 60 x^{3} z^{2} - 60 x^{2} z^{3} + 30 x z^{4} - 6 z^{5}\\right) + z^{6}$"
      ],
      "text/plain": [
       " 6      5         4  2       3  3       2  4        5    6    5               \n",
       "x  - 6⋅x ⋅z + 15⋅x ⋅z  - 20⋅x ⋅z  + 15⋅x ⋅z  - 6⋅x⋅z  + y  + y ⋅(6⋅x - 6⋅z) + \n",
       "\n",
       " 4 ⎛    2                2⎞    3 ⎛    3       2           2       3⎞    2 ⎛   \n",
       "y ⋅⎝15⋅x  - 30⋅x⋅z + 15⋅z ⎠ + y ⋅⎝20⋅x  - 60⋅x ⋅z + 60⋅x⋅z  - 20⋅z ⎠ + y ⋅⎝15⋅\n",
       "\n",
       " 4       3         2  2         3       4⎞     ⎛   5       4         3  2     \n",
       "x  - 60⋅x ⋅z + 90⋅x ⋅z  - 60⋅x⋅z  + 15⋅z ⎠ + y⋅⎝6⋅x  - 30⋅x ⋅z + 60⋅x ⋅z  - 60\n",
       "\n",
       "  2  3         4      5⎞    6\n",
       "⋅x ⋅z  + 30⋅x⋅z  - 6⋅z ⎠ + z "
      ]
     },
     "execution_count": 43,
     "metadata": {},
     "output_type": "execute_result"
    }
   ],
   "source": [
    "collect(a,y)"
   ]
  },
  {
   "cell_type": "markdown",
   "metadata": {
    "colab_type": "text",
    "id": "D6Tt2Wfe464k"
   },
   "source": [
    "Any polynomial with integer coefficients can be factorized into polynomials with integer coefficients (which cannot be factorized further). There exist efficient algorithms to do this."
   ]
  },
  {
   "cell_type": "code",
   "execution_count": 44,
   "metadata": {
    "colab": {},
    "colab_type": "code",
    "id": "d8b6RqJe464k"
   },
   "outputs": [
    {
     "data": {
      "image/png": "[encoded data removed]",
      "text/latex": [
       "$\\displaystyle \\left(x + y - z\\right)^{6}$"
      ],
      "text/plain": [
       "           6\n",
       "(x + y - z) "
      ]
     },
     "execution_count": 44,
     "metadata": {},
     "output_type": "execute_result"
    }
   ],
   "source": [
    "a = factor(a)\n",
    "a"
   ]
  },
  {
   "cell_type": "markdown",
   "metadata": {
    "colab_type": "text",
    "id": "gxyD2tQI464m"
   },
   "source": [
    "`sympy` does not automatically cancel ratios of polynomials by their greatest common divisor. The function `cancel` is used for this."
   ]
  },
  {
   "cell_type": "code",
   "execution_count": 45,
   "metadata": {
    "colab": {},
    "colab_type": "code",
    "id": "260tQzgq464o"
   },
   "outputs": [
    {
     "data": {
      "image/png": "[encoded data removed]",
      "text/latex": [
       "$\\displaystyle \\frac{x^{3} - y^{3}}{x^{2} - y^{2}}$"
      ],
      "text/plain": [
       " 3    3\n",
       "x  - y \n",
       "───────\n",
       " 2    2\n",
       "x  - y "
      ]
     },
     "execution_count": 45,
     "metadata": {},
     "output_type": "execute_result"
    }
   ],
   "source": [
    "a = (x**3-y**3)/(x**2-y**2)\n",
    "a"
   ]
  },
  {
   "cell_type": "code",
   "execution_count": 46,
   "metadata": {
    "colab": {},
    "colab_type": "code",
    "id": "f7fIxmKH464q"
   },
   "outputs": [
    {
     "data": {
      "image/png": "[encoded data removed]",
      "text/latex": [
       "$\\displaystyle \\frac{x^{2} + x y + y^{2}}{x + y}$"
      ],
      "text/plain": [
       " 2          2\n",
       "x  + x⋅y + y \n",
       "─────────────\n",
       "    x + y    "
      ]
     },
     "execution_count": 46,
     "metadata": {},
     "output_type": "execute_result"
    }
   ],
   "source": [
    "cancel(a)"
   ]
  },
  {
   "cell_type": "markdown",
   "metadata": {
    "colab_type": "text",
    "id": "iYqOZhWi464t"
   },
   "source": [
    "`sympy` does not automatically bring sums of rational expressions to common denominator. The function `together` is used for this."
   ]
  },
  {
   "cell_type": "code",
   "execution_count": 47,
   "metadata": {
    "colab": {},
    "colab_type": "code",
    "id": "0sBcfS1y464t"
   },
   "outputs": [
    {
     "data": {
      "image/png": "[encoded data removed]",
      "text/latex": [
       "$\\displaystyle \\frac{x}{x + y} + \\frac{y}{x - y}$"
      ],
      "text/plain": [
       "  x       y  \n",
       "───── + ─────\n",
       "x + y   x - y"
      ]
     },
     "execution_count": 47,
     "metadata": {},
     "output_type": "execute_result"
    }
   ],
   "source": [
    "a = y/(x-y)+x/(x+y)\n",
    "a"
   ]
  },
  {
   "cell_type": "code",
   "execution_count": 48,
   "metadata": {
    "colab": {},
    "colab_type": "code",
    "id": "ymzZZZoT464w"
   },
   "outputs": [
    {
     "data": {
      "image/png": "[encoded data removed]",
      "text/latex": [
       "$\\displaystyle \\frac{x \\left(x - y\\right) + y \\left(x + y\\right)}{\\left(x - y\\right) \\left(x + y\\right)}$"
      ],
      "text/plain": [
       "x⋅(x - y) + y⋅(x + y)\n",
       "─────────────────────\n",
       "   (x - y)⋅(x + y)   "
      ]
     },
     "execution_count": 48,
     "metadata": {},
     "output_type": "execute_result"
    }
   ],
   "source": [
    "together(a)"
   ]
  },
  {
   "cell_type": "markdown",
   "metadata": {
    "colab_type": "text",
    "id": "rLrh-ALW464y"
   },
   "source": [
    "The function `simplify` tries to rewrite an expression *in a simplest form*. This concept is not well defined (different forms may be considered simplest in different contexts), and there exists no algorithm for such simplification. The function `simplify` works heuristically, and it is not possible to guess in advance what simplifications it will try. It is very convenient in interactive sessions in order to check if it will succeed in rewriting an expression in some reasonably good form. But it is not desirable to use it in programs. There one should better use more specialized functions which perform well defined expression transformations."
   ]
  },
  {
   "cell_type": "code",
   "execution_count": 49,
   "metadata": {
    "colab": {},
    "colab_type": "code",
    "id": "Gl1r6jhZ464z"
   },
   "outputs": [
    {
     "data": {
      "image/png": "[encoded data removed]",
      "text/latex": [
       "$\\displaystyle \\frac{x^{2} + y^{2}}{x^{2} - y^{2}}$"
      ],
      "text/plain": [
       " 2    2\n",
       "x  + y \n",
       "───────\n",
       " 2    2\n",
       "x  - y "
      ]
     },
     "execution_count": 49,
     "metadata": {},
     "output_type": "execute_result"
    }
   ],
   "source": [
    "simplify(a)"
   ]
  },
  {
   "cell_type": "markdown",
   "metadata": {
    "colab_type": "text",
    "id": "5rbTPiUU4640"
   },
   "source": [
    "We can solve the equation $a = 0$ for $x$:"
   ]
  },
  {
   "cell_type": "code",
   "execution_count": 50,
   "metadata": {
    "colab": {},
    "colab_type": "code",
    "id": "eKHNyWzi4640"
   },
   "outputs": [
    {
     "data": {
      "image/png": "[encoded data removed]",
      "text/latex": [
       "$\\displaystyle i y$"
      ],
      "text/plain": [
       "ⅈ⋅y"
      ]
     },
     "execution_count": 50,
     "metadata": {},
     "output_type": "execute_result"
    }
   ],
   "source": [
    "solve(Eq(a,0),x)[1] # solve(Eq(a,0),x)"
   ]
  },
  {
   "cell_type": "markdown",
   "metadata": {
    "colab_type": "text",
    "id": "zzGzhfry4642"
   },
   "source": [
    "Partial fraction decomposition with respect to $x$:"
   ]
  },
  {
   "cell_type": "code",
   "execution_count": 51,
   "metadata": {
    "colab": {},
    "colab_type": "code",
    "id": "DUG8Le4e4642"
   },
   "outputs": [
    {
     "data": {
      "image/png": "[encoded data removed]",
      "text/latex": [
       "$\\displaystyle - \\frac{y}{x + y} + \\frac{y}{x - y} + 1$"
      ],
      "text/plain": [
       "    y       y      \n",
       "- ───── + ───── + 1\n",
       "  x + y   x - y    "
      ]
     },
     "execution_count": 51,
     "metadata": {},
     "output_type": "execute_result"
    }
   ],
   "source": [
    "apart(a,x)"
   ]
  },
  {
   "cell_type": "markdown",
   "metadata": {
    "colab_type": "text",
    "id": "1F2U12rd4644"
   },
   "source": [
    "Let's substitute some values for the symbols $x$ and $y$."
   ]
  },
  {
   "cell_type": "code",
   "execution_count": 52,
   "metadata": {
    "colab": {},
    "colab_type": "code",
    "id": "Q7XOY4Ci4645"
   },
   "outputs": [
    {
     "data": {
      "image/png": "[encoded data removed]",
      "text/latex": [
       "$\\displaystyle - \\frac{5}{3}$"
      ],
      "text/plain": [
       "-5/3"
      ]
     },
     "execution_count": 52,
     "metadata": {},
     "output_type": "execute_result"
    }
   ],
   "source": [
    "evaluation = a.subs({x:1,y:2})\n",
    "evaluation"
   ]
  },
  {
   "cell_type": "markdown",
   "metadata": {
    "colab_type": "text",
    "id": "fFyZHMFu4646"
   },
   "source": [
    "And how much is it numerically?"
   ]
  },
  {
   "cell_type": "code",
   "execution_count": 53,
   "metadata": {
    "colab": {},
    "colab_type": "code",
    "id": "XfYcRaOe4648"
   },
   "outputs": [
    {
     "data": {
      "image/png": "[encoded data removed]",
      "text/latex": [
       "$\\displaystyle -1.66666666666667$"
      ],
      "text/plain": [
       "-1.66666666666667"
      ]
     },
     "execution_count": 53,
     "metadata": {},
     "output_type": "execute_result"
    }
   ],
   "source": [
    "evaluation.n()"
   ]
  },
  {
   "cell_type": "markdown",
   "metadata": {
    "colab_type": "text",
    "id": "iKhm1Qll464-"
   },
   "source": [
    "`subs` can also be used to interchange two variables. However, we need to be careful. Compare the difference:"
   ]
  },
  {
   "cell_type": "code",
   "execution_count": 54,
   "metadata": {
    "colab": {},
    "colab_type": "code",
    "id": "at933_xY464-"
   },
   "outputs": [
    {
     "data": {
      "image/png": "[encoded data removed]",
      "text/latex": [
       "$\\displaystyle \\tilde{\\infty} x + \\frac{1}{2}$"
      ],
      "text/plain": [
       "zoo⋅x + 1/2"
      ]
     },
     "execution_count": 54,
     "metadata": {},
     "output_type": "execute_result"
    }
   ],
   "source": [
    "a.subs([(x,y),(y,x)])\n",
    "# a.subs([(y,x),(x,y)])"
   ]
  },
  {
   "cell_type": "code",
   "execution_count": 55,
   "metadata": {
    "colab": {},
    "colab_type": "code",
    "id": "glDE3LRB465A"
   },
   "outputs": [
    {
     "data": {
      "image/png": "[encoded data removed]",
      "text/latex": [
       "$\\displaystyle \\frac{x}{- x + y} + \\frac{y}{x + y}$"
      ],
      "text/plain": [
       "  x        y  \n",
       "────── + ─────\n",
       "-x + y   x + y"
      ]
     },
     "execution_count": 55,
     "metadata": {},
     "output_type": "execute_result"
    }
   ],
   "source": [
    "a.subs([(x,y),(y,x)],simultaneous=True)"
   ]
  },
  {
   "cell_type": "markdown",
   "metadata": {
    "colab_type": "text",
    "id": "PdL4Zbwt465F"
   },
   "source": [
    "<div class=\"alert alert-info\"><h4>Homework</h4><p>Read Section 4.4-4.6.</p></div>"
   ]
  },
  {
   "cell_type": "markdown",
   "metadata": {
    "colab_type": "text",
    "id": "HnkMz8Ol465F"
   },
   "source": [
    "## 4.4 Series"
   ]
  },
  {
   "cell_type": "markdown",
   "metadata": {
    "colab_type": "text",
    "id": "iP4jDW_C465F"
   },
   "source": [
    "### 4.4.1 Taylor Series"
   ]
  },
  {
   "cell_type": "markdown",
   "metadata": {
    "colab_type": "text",
    "id": "KipvmDqR465G"
   },
   "source": [
    "The Taylor series can be computed using the function `series`:"
   ]
  },
  {
   "cell_type": "code",
   "execution_count": 56,
   "metadata": {
    "colab": {},
    "colab_type": "code",
    "id": "_GoyKE6j465G"
   },
   "outputs": [
    {
     "data": {
      "image/png": "[encoded data removed]",
      "text/latex": [
       "$\\displaystyle 1 + x + \\frac{x^{2}}{2} + \\frac{x^{3}}{6} + \\frac{x^{4}}{24} + O\\left(x^{5}\\right)$"
      ],
      "text/plain": [
       "         2    3    4        \n",
       "        x    x    x     ⎛ 5⎞\n",
       "1 + x + ── + ── + ── + O⎝x ⎠\n",
       "        2    6    24        "
      ]
     },
     "execution_count": 56,
     "metadata": {},
     "output_type": "execute_result"
    }
   ],
   "source": [
    "exp(x).series(x,0,n=5)"
   ]
  },
  {
   "cell_type": "markdown",
   "metadata": {
    "colab_type": "text",
    "id": "9Na3EktS465H"
   },
   "source": [
    "Let's prepare 3 series."
   ]
  },
  {
   "cell_type": "code",
   "execution_count": 57,
   "metadata": {
    "colab": {},
    "colab_type": "code",
    "id": "sOHVNk31465I"
   },
   "outputs": [
    {
     "data": {
      "image/png": "[encoded data removed]",
      "text/latex": [
       "$\\displaystyle x - \\frac{x^{3}}{6} + \\frac{x^{5}}{120} - \\frac{x^{7}}{5040} + O\\left(x^{8}\\right)$"
      ],
      "text/plain": [
       "     3     5     7         \n",
       "    x     x     x      ⎛ 8⎞\n",
       "x - ── + ─── - ──── + O⎝x ⎠\n",
       "    6    120   5040        "
      ]
     },
     "execution_count": 57,
     "metadata": {},
     "output_type": "execute_result"
    }
   ],
   "source": [
    "sinx = series(sin(x),x,0,n=8)\n",
    "sinx"
   ]
  },
  {
   "cell_type": "code",
   "execution_count": 58,
   "metadata": {
    "colab": {},
    "colab_type": "code",
    "id": "ygEM8sYg465J"
   },
   "outputs": [
    {
     "data": {
      "image/png": "[encoded data removed]",
      "text/latex": [
       "$\\displaystyle 1 - \\frac{x^{2}}{2} + \\frac{x^{4}}{24} - \\frac{x^{6}}{720} + O\\left(x^{8}\\right)$"
      ],
      "text/plain": [
       "     2    4     6        \n",
       "    x    x     x     ⎛ 8⎞\n",
       "1 - ── + ── - ─── + O⎝x ⎠\n",
       "    2    24   720        "
      ]
     },
     "execution_count": 58,
     "metadata": {},
     "output_type": "execute_result"
    }
   ],
   "source": [
    "cosx = series(cos(x),x,n=8)\n",
    "cosx"
   ]
  },
  {
   "cell_type": "code",
   "execution_count": 59,
   "metadata": {
    "colab": {},
    "colab_type": "code",
    "id": "Od3PaZjO465L"
   },
   "outputs": [
    {
     "data": {
      "image/png": "[encoded data removed]",
      "text/latex": [
       "$\\displaystyle x + \\frac{x^{3}}{3} + \\frac{2 x^{5}}{15} + \\frac{17 x^{7}}{315} + O\\left(x^{8}\\right)$"
      ],
      "text/plain": [
       "     3      5       7        \n",
       "    x    2⋅x    17⋅x     ⎛ 8⎞\n",
       "x + ── + ──── + ───── + O⎝x ⎠\n",
       "    3     15     315         "
      ]
     },
     "execution_count": 59,
     "metadata": {},
     "output_type": "execute_result"
    }
   ],
   "source": [
    "tanx = series(tan(x),x,n=8)\n",
    "tanx"
   ]
  },
  {
   "cell_type": "markdown",
   "metadata": {
    "colab_type": "text",
    "id": "wGgnamvS465N"
   },
   "source": [
    "Products and ratios of series are not calculated automatically, the function `series` should be applied to them."
   ]
  },
  {
   "cell_type": "code",
   "execution_count": 60,
   "metadata": {
    "colab": {},
    "colab_type": "code",
    "id": "sGHDvGIK465O"
   },
   "outputs": [
    {
     "data": {
      "image/png": "[encoded data removed]",
      "text/latex": [
       "$\\displaystyle x + \\frac{x^{3}}{3} + \\frac{2 x^{5}}{15} + \\frac{17 x^{7}}{315} + O\\left(x^{8}\\right)$"
      ],
      "text/plain": [
       "     3      5       7        \n",
       "    x    2⋅x    17⋅x     ⎛ 8⎞\n",
       "x + ── + ──── + ───── + O⎝x ⎠\n",
       "    3     15     315         "
      ]
     },
     "execution_count": 60,
     "metadata": {},
     "output_type": "execute_result"
    }
   ],
   "source": [
    "series(sinx / cosx,n=8) # sinx / cosx"
   ]
  },
  {
   "cell_type": "markdown",
   "metadata": {
    "colab_type": "text",
    "id": "vTdZTauI465P"
   },
   "source": [
    "The following series should be equal to 1. But since `sinx` and `cosx` are known only with a limited accuracy, we obtain 1 with the same accuracy."
   ]
  },
  {
   "cell_type": "code",
   "execution_count": 61,
   "metadata": {
    "colab": {},
    "colab_type": "code",
    "id": "U1B-fYAD465Q"
   },
   "outputs": [
    {
     "data": {
      "image/png": "[encoded data removed]",
      "text/latex": [
       "$\\displaystyle 1 + O\\left(x^{8}\\right)$"
      ],
      "text/plain": [
       "     ⎛ 8⎞\n",
       "1 + O⎝x ⎠"
      ]
     },
     "execution_count": 61,
     "metadata": {},
     "output_type": "execute_result"
    }
   ],
   "source": [
    "series(sinx**2+cosx**2,n=8)"
   ]
  },
  {
   "cell_type": "markdown",
   "metadata": {
    "colab_type": "text",
    "id": "sxmfLrAu465S"
   },
   "source": [
    "Series can be differentiated and integrated using the functions `diff` and `integrate`, respectively."
   ]
  },
  {
   "cell_type": "code",
   "execution_count": 62,
   "metadata": {
    "colab": {},
    "colab_type": "code",
    "id": "-_gxyWCL465T"
   },
   "outputs": [
    {
     "data": {
      "image/png": "[encoded data removed]",
      "text/latex": [
       "$\\displaystyle - x + \\frac{x^{3}}{6} - \\frac{x^{5}}{120} + O\\left(x^{7}\\right)$"
      ],
      "text/plain": [
       "      3     5        \n",
       "     x     x     ⎛ 7⎞\n",
       "-x + ── - ─── + O⎝x ⎠\n",
       "     6    120        "
      ]
     },
     "execution_count": 62,
     "metadata": {},
     "output_type": "execute_result"
    }
   ],
   "source": [
    "diff(cosx,x)"
   ]
  },
  {
   "cell_type": "code",
   "execution_count": 63,
   "metadata": {
    "colab": {},
    "colab_type": "code",
    "id": "LlJol532465U"
   },
   "outputs": [
    {
     "data": {
      "image/png": "[encoded data removed]",
      "text/latex": [
       "$\\displaystyle x - \\frac{x^{3}}{6} + \\frac{x^{5}}{120} - \\frac{x^{7}}{5040} + O\\left(x^{9}\\right)$"
      ],
      "text/plain": [
       "     3     5     7         \n",
       "    x     x     x      ⎛ 9⎞\n",
       "x - ── + ─── - ──── + O⎝x ⎠\n",
       "    6    120   5040        "
      ]
     },
     "execution_count": 63,
     "metadata": {},
     "output_type": "execute_result"
    }
   ],
   "source": [
    "integrate(cosx,x)"
   ]
  },
  {
   "cell_type": "markdown",
   "metadata": {
    "colab_type": "text",
    "id": "97eYXBqH465V"
   },
   "source": [
    "It is not possible to substitute a numerical value for the expansion variable in a series (and hence to plot it). To this end one has to remove the $\\mathcal{O}$ term first, transforming a series into a polynomial."
   ]
  },
  {
   "cell_type": "code",
   "execution_count": 64,
   "metadata": {
    "colab": {},
    "colab_type": "code",
    "id": "Ea8B1jMv465W"
   },
   "outputs": [
    {
     "data": {
      "image/png": "[encoded data removed]",
      "text/latex": [
       "$\\displaystyle - \\frac{x^{7}}{5040} + \\frac{x^{5}}{120} - \\frac{x^{3}}{6} + x$"
      ],
      "text/plain": [
       "    7      5    3    \n",
       "   x      x    x     \n",
       "- ──── + ─── - ── + x\n",
       "  5040   120   6     "
      ]
     },
     "execution_count": 64,
     "metadata": {},
     "output_type": "execute_result"
    }
   ],
   "source": [
    "sinx.removeO()"
   ]
  },
  {
   "cell_type": "markdown",
   "metadata": {
    "colab_type": "text",
    "id": "goMltxlX465X"
   },
   "source": [
    "### 4.4.2 Summing Series"
   ]
  },
  {
   "cell_type": "markdown",
   "metadata": {
    "colab_type": "text",
    "id": "CmtrhzaC465X"
   },
   "source": [
    "In `scipy`, `oo` means $\\infty$."
   ]
  },
  {
   "cell_type": "code",
   "execution_count": 65,
   "metadata": {
    "colab": {},
    "colab_type": "code",
    "id": "s102_62O465Y"
   },
   "outputs": [
    {
     "data": {
      "image/png": "[encoded data removed]",
      "text/latex": [
       "$\\displaystyle \\frac{\\pi^{2}}{6}$"
      ],
      "text/plain": [
       " 2\n",
       "π \n",
       "──\n",
       "6 "
      ]
     },
     "execution_count": 65,
     "metadata": {},
     "output_type": "execute_result"
    }
   ],
   "source": [
    "n = Symbol('n')\n",
    "summation(1/n**2,(n,1,oo))"
   ]
  },
  {
   "cell_type": "code",
   "execution_count": 66,
   "metadata": {
    "colab": {},
    "colab_type": "code",
    "id": "xBi6ns_f465Z"
   },
   "outputs": [
    {
     "data": {
      "image/png": "[encoded data removed]",
      "text/latex": [
       "$\\displaystyle \\frac{\\pi^{4}}{90}$"
      ],
      "text/plain": [
       " 4\n",
       "π \n",
       "──\n",
       "90"
      ]
     },
     "execution_count": 66,
     "metadata": {},
     "output_type": "execute_result"
    }
   ],
   "source": [
    "summation(1/n**4,(n,1,oo))"
   ]
  },
  {
   "cell_type": "markdown",
   "metadata": {
    "colab_type": "text",
    "id": "DbPHxucU465a"
   },
   "source": [
    "An unevaluated sum is denoted as `Sum`."
   ]
  },
  {
   "cell_type": "code",
   "execution_count": 67,
   "metadata": {
    "colab": {},
    "colab_type": "code",
    "id": "X1EiCfT6465b"
   },
   "outputs": [
    {
     "data": {
      "image/png": "[encoded data removed]",
      "text/latex": [
       "$\\displaystyle \\sum_{n=0}^{\\infty} \\frac{x^{n}}{n!} = e^{x}$"
      ],
      "text/plain": [
       "  ∞          \n",
       " ____        \n",
       " ╲           \n",
       "  ╲    n     \n",
       "   ╲  x     x\n",
       "   ╱  ── = ℯ \n",
       "  ╱   n!     \n",
       " ╱           \n",
       " ‾‾‾‾        \n",
       "n = 0        "
      ]
     },
     "execution_count": 67,
     "metadata": {},
     "output_type": "execute_result"
    }
   ],
   "source": [
    "a = Sum(x**n/factorial(n),(n,0,oo))\n",
    "Eq(a,a.doit())"
   ]
  },
  {
   "cell_type": "markdown",
   "metadata": {
    "colab_type": "text",
    "id": "kkGkpMiJ465e"
   },
   "source": [
    "## 4.5 Linear Algebra"
   ]
  },
  {
   "cell_type": "code",
   "execution_count": 68,
   "metadata": {
    "colab": {},
    "colab_type": "code",
    "id": "gZyfbkq-465e"
   },
   "outputs": [],
   "source": [
    "a,b,c,d,e,f = symbols('a b c d e f')"
   ]
  },
  {
   "cell_type": "markdown",
   "metadata": {
    "colab_type": "text",
    "id": "5NgNCY1t465g"
   },
   "source": [
    "A matrix can be constructed from a list of lists."
   ]
  },
  {
   "cell_type": "code",
   "execution_count": 69,
   "metadata": {
    "colab": {},
    "colab_type": "code",
    "id": "vm1uTNfF465g"
   },
   "outputs": [
    {
     "data": {
      "text/latex": [
       "$\\displaystyle \\left[\\begin{matrix}a & b & c\\\\d & e & f\\end{matrix}\\right]$"
      ],
      "text/plain": [
       "⎡a  b  c⎤\n",
       "⎢       ⎥\n",
       "⎣d  e  f⎦"
      ]
     },
     "execution_count": 69,
     "metadata": {},
     "output_type": "execute_result"
    }
   ],
   "source": [
    "M=Matrix([[a,b,c],[d,e,f]])\n",
    "M"
   ]
  },
  {
   "cell_type": "code",
   "execution_count": 70,
   "metadata": {
    "colab": {},
    "colab_type": "code",
    "id": "2n9DeSaO465j"
   },
   "outputs": [
    {
     "data": {
      "image/png": "[encoded data removed]",
      "text/latex": [
       "$\\displaystyle \\left( 2, \\  3\\right)$"
      ],
      "text/plain": [
       "(2, 3)"
      ]
     },
     "execution_count": 70,
     "metadata": {},
     "output_type": "execute_result"
    }
   ],
   "source": [
    "M.shape"
   ]
  },
  {
   "cell_type": "markdown",
   "metadata": {
    "colab_type": "text",
    "id": "dCOMy4yw465k"
   },
   "source": [
    "A matrix can be constructed from a function."
   ]
  },
  {
   "cell_type": "code",
   "execution_count": 71,
   "metadata": {
    "colab": {},
    "colab_type": "code",
    "id": "F_jnbic0465k"
   },
   "outputs": [
    {
     "data": {
      "text/latex": [
       "$\\displaystyle \\left[\\begin{matrix}1 & \\frac{1}{2} & \\frac{1}{3}\\\\\\frac{1}{2} & \\frac{1}{3} & \\frac{1}{4}\\\\\\frac{1}{3} & \\frac{1}{4} & \\frac{1}{5}\\end{matrix}\\right]$"
      ],
      "text/plain": [
       "⎡ 1   1/2  1/3⎤\n",
       "⎢             ⎥\n",
       "⎢1/2  1/3  1/4⎥\n",
       "⎢             ⎥\n",
       "⎣1/3  1/4  1/5⎦"
      ]
     },
     "execution_count": 71,
     "metadata": {},
     "output_type": "execute_result"
    }
   ],
   "source": [
    "def g(i,j):\n",
    "    return Rational(1,i+j+1)\n",
    "Matrix(3,3,g)"
   ]
  },
  {
   "cell_type": "markdown",
   "metadata": {
    "colab_type": "text",
    "id": "AwjIV_1K465m"
   },
   "source": [
    "Or from an undefined function."
   ]
  },
  {
   "cell_type": "code",
   "execution_count": 72,
   "metadata": {
    "colab": {},
    "colab_type": "code",
    "id": "G3iTKkuo465m"
   },
   "outputs": [
    {
     "data": {
      "text/latex": [
       "$\\displaystyle \\left[\\begin{matrix}g{\\left(0,0 \\right)} & g{\\left(0,1 \\right)} & g{\\left(0,2 \\right)}\\\\g{\\left(1,0 \\right)} & g{\\left(1,1 \\right)} & g{\\left(1,2 \\right)}\\\\g{\\left(2,0 \\right)} & g{\\left(2,1 \\right)} & g{\\left(2,2 \\right)}\\end{matrix}\\right]$"
      ],
      "text/plain": [
       "⎡g(0, 0)  g(0, 1)  g(0, 2)⎤\n",
       "⎢                         ⎥\n",
       "⎢g(1, 0)  g(1, 1)  g(1, 2)⎥\n",
       "⎢                         ⎥\n",
       "⎣g(2, 0)  g(2, 1)  g(2, 2)⎦"
      ]
     },
     "execution_count": 72,
     "metadata": {},
     "output_type": "execute_result"
    }
   ],
   "source": [
    "g = Function('g')\n",
    "M = Matrix(3,3,g)\n",
    "M"
   ]
  },
  {
   "cell_type": "code",
   "execution_count": 73,
   "metadata": {
    "colab": {},
    "colab_type": "code",
    "id": "cqk4dXxi465p"
   },
   "outputs": [
    {
     "data": {
      "text/latex": [
       "$\\displaystyle \\left[\\begin{matrix}g{\\left(0,0 \\right)} & g{\\left(0,1 \\right)} & g{\\left(0,2 \\right)}\\\\g{\\left(1,0 \\right)} & g{\\left(1,1 \\right)} & 0\\\\g{\\left(2,0 \\right)} & g{\\left(2,1 \\right)} & g{\\left(2,2 \\right)}\\end{matrix}\\right]$"
      ],
      "text/plain": [
       "⎡g(0, 0)  g(0, 1)  g(0, 2)⎤\n",
       "⎢                         ⎥\n",
       "⎢g(1, 0)  g(1, 1)     0   ⎥\n",
       "⎢                         ⎥\n",
       "⎣g(2, 0)  g(2, 1)  g(2, 2)⎦"
      ]
     },
     "execution_count": 73,
     "metadata": {},
     "output_type": "execute_result"
    }
   ],
   "source": [
    "M[1,2] = 0\n",
    "M"
   ]
  },
  {
   "cell_type": "code",
   "execution_count": 74,
   "metadata": {
    "colab": {},
    "colab_type": "code",
    "id": "bljz0j1n465q"
   },
   "outputs": [
    {
     "data": {
      "text/latex": [
       "$\\displaystyle \\left[\\begin{matrix}g{\\left(2,0 \\right)} & g{\\left(2,1 \\right)} & g{\\left(2,2 \\right)}\\end{matrix}\\right]$"
      ],
      "text/plain": [
       "[g(2, 0)  g(2, 1)  g(2, 2)]"
      ]
     },
     "execution_count": 74,
     "metadata": {},
     "output_type": "execute_result"
    }
   ],
   "source": [
    "M[2,:]"
   ]
  },
  {
   "cell_type": "markdown",
   "metadata": {
    "colab_type": "text",
    "id": "jrKDHwW7465r"
   },
   "source": [
    "Diagonal matrices can be constructed using the function `diag`:"
   ]
  },
  {
   "cell_type": "code",
   "execution_count": 75,
   "metadata": {
    "colab": {},
    "colab_type": "code",
    "id": "KshPKRNn465s"
   },
   "outputs": [
    {
     "data": {
      "text/latex": [
       "$\\displaystyle \\left[\\begin{matrix}1 & 0 & 0 & 0\\\\0 & a & 1 & 0\\\\0 & 0 & a & 0\\\\0 & 0 & 0 & 2\\end{matrix}\\right]$"
      ],
      "text/plain": [
       "⎡1  0  0  0⎤\n",
       "⎢          ⎥\n",
       "⎢0  a  1  0⎥\n",
       "⎢          ⎥\n",
       "⎢0  0  a  0⎥\n",
       "⎢          ⎥\n",
       "⎣0  0  0  2⎦"
      ]
     },
     "execution_count": 75,
     "metadata": {},
     "output_type": "execute_result"
    }
   ],
   "source": [
    "M = Matrix([[a,1],[0,a]])\n",
    "diag(1,M,2)"
   ]
  },
  {
   "cell_type": "markdown",
   "metadata": {
    "colab_type": "text",
    "id": "oJhGOjko465u"
   },
   "source": [
    "With `sympy`, we can just use `*` for matrix multiplication:"
   ]
  },
  {
   "cell_type": "code",
   "execution_count": 76,
   "metadata": {
    "colab": {},
    "colab_type": "code",
    "id": "qAEl4rVj465u"
   },
   "outputs": [
    {
     "data": {
      "text/latex": [
       "$\\displaystyle \\left[\\begin{matrix}a + 3 b & 2 a + 4 b\\\\c + 3 d & 2 c + 4 d\\end{matrix}\\right]$"
      ],
      "text/plain": [
       "⎡a + 3⋅b  2⋅a + 4⋅b⎤\n",
       "⎢                  ⎥\n",
       "⎣c + 3⋅d  2⋅c + 4⋅d⎦"
      ]
     },
     "execution_count": 76,
     "metadata": {},
     "output_type": "execute_result"
    }
   ],
   "source": [
    "A = Matrix([[a,b],[c,d]])\n",
    "B = Matrix([[1,2],[3,4]])\n",
    "A*B"
   ]
  },
  {
   "cell_type": "code",
   "execution_count": 77,
   "metadata": {
    "colab": {},
    "colab_type": "code",
    "id": "f3l-YpWX465w"
   },
   "outputs": [
    {
     "data": {
      "text/latex": [
       "$\\displaystyle \\left[\\begin{matrix}a + 2 c & b + 2 d\\\\3 a + 4 c & 3 b + 4 d\\end{matrix}\\right]$"
      ],
      "text/plain": [
       "⎡ a + 2⋅c    b + 2⋅d ⎤\n",
       "⎢                    ⎥\n",
       "⎣3⋅a + 4⋅c  3⋅b + 4⋅d⎦"
      ]
     },
     "execution_count": 77,
     "metadata": {},
     "output_type": "execute_result"
    }
   ],
   "source": [
    "B*A"
   ]
  },
  {
   "cell_type": "code",
   "execution_count": 78,
   "metadata": {
    "colab": {},
    "colab_type": "code",
    "id": "jfIM2PsK465y"
   },
   "outputs": [
    {
     "data": {
      "text/latex": [
       "$\\displaystyle \\left[\\begin{matrix}\\frac{d}{a d - b c} & - \\frac{b}{a d - b c}\\\\- \\frac{c}{a d - b c} & \\frac{a}{a d - b c}\\end{matrix}\\right]$"
      ],
      "text/plain": [
       "⎡    d         -b    ⎤\n",
       "⎢─────────  ─────────⎥\n",
       "⎢a⋅d - b⋅c  a⋅d - b⋅c⎥\n",
       "⎢                    ⎥\n",
       "⎢   -c          a    ⎥\n",
       "⎢─────────  ─────────⎥\n",
       "⎣a⋅d - b⋅c  a⋅d - b⋅c⎦"
      ]
     },
     "execution_count": 78,
     "metadata": {},
     "output_type": "execute_result"
    }
   ],
   "source": [
    "simplify(A**(-1))"
   ]
  },
  {
   "cell_type": "markdown",
   "metadata": {
    "colab_type": "text",
    "id": "l8SGbEgX4651"
   },
   "source": [
    "Consider the following matrix:"
   ]
  },
  {
   "cell_type": "code",
   "execution_count": 79,
   "metadata": {
    "colab": {},
    "colab_type": "code",
    "id": "MS9Io0Xt4651"
   },
   "outputs": [
    {
     "data": {
      "text/latex": [
       "$\\displaystyle \\left[\\begin{matrix}\\left(1 - x\\right)^{3} \\left(x + 3\\right) & 4 x \\left(1 - x^{2}\\right) & \\left(3 - x\\right) \\left(2 x^{2} - 2\\right)\\\\4 x \\left(1 - x^{2}\\right) & - \\left(3 - x\\right) \\left(x + 1\\right)^{3} & \\left(2 - 2 x^{2}\\right) \\left(x + 3\\right)\\\\\\left(3 - x\\right) \\left(2 x^{2} - 2\\right) & \\left(2 - 2 x^{2}\\right) \\left(x + 3\\right) & 16 x\\end{matrix}\\right]$"
      ],
      "text/plain": [
       "⎡        3                  ⎛     2⎞             ⎛   2    ⎞⎤\n",
       "⎢ (1 - x) ⋅(x + 3)      4⋅x⋅⎝1 - x ⎠     (3 - x)⋅⎝2⋅x  - 2⎠⎥\n",
       "⎢                                                          ⎥\n",
       "⎢       ⎛     2⎞                     3   ⎛       2⎞        ⎥\n",
       "⎢   4⋅x⋅⎝1 - x ⎠     -(3 - x)⋅(x + 1)    ⎝2 - 2⋅x ⎠⋅(x + 3)⎥\n",
       "⎢                                                          ⎥\n",
       "⎢        ⎛   2    ⎞  ⎛       2⎞                            ⎥\n",
       "⎣(3 - x)⋅⎝2⋅x  - 2⎠  ⎝2 - 2⋅x ⎠⋅(x + 3)         16⋅x       ⎦"
      ]
     },
     "execution_count": 79,
     "metadata": {},
     "output_type": "execute_result"
    }
   ],
   "source": [
    "x = Symbol('x',real=True)\n",
    "M = Matrix([[(1-x)**3*(3+x),4*x*(1-x**2),-2*(1-x**2)*(3-x)],\n",
    "          [4*x*(1-x**2),-(1+x)**3*(3-x),2*(1-x**2)*(3+x)],\n",
    "          [-2*(1-x**2)*(3-x),2*(1-x**2)*(3+x),16*x]])\n",
    "M"
   ]
  },
  {
   "cell_type": "markdown",
   "metadata": {
    "colab_type": "text",
    "id": "-vyZrAO64652"
   },
   "source": [
    "The determinant."
   ]
  },
  {
   "cell_type": "code",
   "execution_count": 80,
   "metadata": {
    "colab": {},
    "colab_type": "code",
    "id": "TrHUD42g4653"
   },
   "outputs": [
    {
     "data": {
      "image/png": "[encoded data removed]",
      "text/latex": [
       "$\\displaystyle 0$"
      ],
      "text/plain": [
       "0"
      ]
     },
     "execution_count": 80,
     "metadata": {},
     "output_type": "execute_result"
    }
   ],
   "source": [
    "det(M)"
   ]
  },
  {
   "cell_type": "markdown",
   "metadata": {
    "colab_type": "text",
    "id": "PVarGdlP4656"
   },
   "source": [
    "The eigenvalues and their multiplicities."
   ]
  },
  {
   "cell_type": "code",
   "execution_count": 81,
   "metadata": {
    "colab": {},
    "colab_type": "code",
    "id": "RGxmxNC64656"
   },
   "outputs": [
    {
     "data": {
      "image/png": "[encoded data removed]",
      "text/latex": [
       "$\\displaystyle \\left\\{ 0 : 1, \\  - \\left(x^{2} + 3\\right)^{2} : 1, \\  \\left(x^{2} + 3\\right)^{2} : 1\\right\\}$"
      ],
      "text/plain": [
       "⎧               2             2   ⎫\n",
       "⎨       ⎛ 2    ⎞      ⎛ 2    ⎞    ⎬\n",
       "⎩0: 1, -⎝x  + 3⎠ : 1, ⎝x  + 3⎠ : 1⎭"
      ]
     },
     "execution_count": 81,
     "metadata": {},
     "output_type": "execute_result"
    }
   ],
   "source": [
    "M.eigenvals()"
   ]
  },
  {
   "cell_type": "markdown",
   "metadata": {
    "colab_type": "text",
    "id": "mmazGkQ54658"
   },
   "source": [
    "The eigenvector corresponding to the second eigenvalue."
   ]
  },
  {
   "cell_type": "code",
   "execution_count": 82,
   "metadata": {
    "colab": {},
    "colab_type": "code",
    "id": "0cydYMDA4658"
   },
   "outputs": [
    {
     "data": {
      "text/latex": [
       "$\\displaystyle \\left[\\begin{matrix}\\frac{x}{2} + \\frac{1}{2}\\\\\\frac{x + 1}{x - 1}\\\\1\\end{matrix}\\right]$"
      ],
      "text/plain": [
       "⎡x   1⎤\n",
       "⎢─ + ─⎥\n",
       "⎢2   2⎥\n",
       "⎢     ⎥\n",
       "⎢x + 1⎥\n",
       "⎢─────⎥\n",
       "⎢x - 1⎥\n",
       "⎢     ⎥\n",
       "⎣  1  ⎦"
      ]
     },
     "execution_count": 82,
     "metadata": {},
     "output_type": "execute_result"
    }
   ],
   "source": [
    "M.eigenvects()[1][2][0]"
   ]
  },
  {
   "cell_type": "markdown",
   "metadata": {
    "colab_type": "text",
    "id": "nEeXrNAh465-"
   },
   "source": [
    "## 4.6 Differential Equations"
   ]
  },
  {
   "cell_type": "code",
   "execution_count": 83,
   "metadata": {
    "colab": {},
    "colab_type": "code",
    "id": "NAat216t465-"
   },
   "outputs": [],
   "source": [
    "t = Symbol('t')\n",
    "x = Function('x')\n",
    "p = Function('p')"
   ]
  },
  {
   "cell_type": "markdown",
   "metadata": {
    "colab_type": "text",
    "id": "jx-1fD4g465_"
   },
   "source": [
    "First we solve the first-order ODE $\\frac{\\mathrm{d}}{\\mathrm{d}t}x(t) = -x(t)$."
   ]
  },
  {
   "cell_type": "code",
   "execution_count": 84,
   "metadata": {
    "colab": {},
    "colab_type": "code",
    "id": "-F_EaDOI465_"
   },
   "outputs": [
    {
     "data": {
      "image/png": "[encoded data removed]",
      "text/latex": [
       "$\\displaystyle x{\\left(t \\right)} = C_{1} e^{- t}$"
      ],
      "text/plain": [
       "           -t\n",
       "x(t) = C₁⋅ℯ  "
      ]
     },
     "execution_count": 84,
     "metadata": {},
     "output_type": "execute_result"
    }
   ],
   "source": [
    "dsolve(Eq(diff(x(t),t),-x(t)),x(t))"
   ]
  },
  {
   "cell_type": "markdown",
   "metadata": {
    "colab_type": "text",
    "id": "mrVOvgKu466B"
   },
   "source": [
    "Now the second-order ODE $\\frac{\\mathrm{d}^2}{\\mathrm{d}t^2}x(t) = -x(t)$."
   ]
  },
  {
   "cell_type": "code",
   "execution_count": 85,
   "metadata": {
    "colab": {},
    "colab_type": "code",
    "id": "zBln4p_F466B"
   },
   "outputs": [
    {
     "data": {
      "image/png": "[encoded data removed]",
      "text/latex": [
       "$\\displaystyle x{\\left(t \\right)} = C_{1} e^{- t} + C_{2} e^{t}$"
      ],
      "text/plain": [
       "           -t       t\n",
       "x(t) = C₁⋅ℯ   + C₂⋅ℯ "
      ]
     },
     "execution_count": 85,
     "metadata": {},
     "output_type": "execute_result"
    }
   ],
   "source": [
    "dsolve(Eq(diff(x(t),t,2),x(t)),x(t))"
   ]
  },
  {
   "cell_type": "markdown",
   "metadata": {
    "colab_type": "text",
    "id": "G2ZcHp4n466C"
   },
   "source": [
    "Finally a system of first-order equations:\n",
    "\\begin{align*}\n",
    "\\begin{cases}\n",
    "\\frac{\\mathrm{d}}{\\mathrm{d}t}x(t) = p(t), \\\\\n",
    "\\frac{\\mathrm{d}}{\\mathrm{d}t}p(t) = -x(t).\n",
    "\\end{cases}\n",
    "\\end{align*}"
   ]
  },
  {
   "cell_type": "code",
   "execution_count": 86,
   "metadata": {
    "colab": {},
    "colab_type": "code",
    "id": "thWStgLR466C"
   },
   "outputs": [
    {
     "data": {
      "image/png": "[encoded data removed]",
      "text/latex": [
       "$\\displaystyle \\left[ x{\\left(t \\right)} = C_{1} \\sin{\\left(t \\right)} + C_{2} \\cos{\\left(t \\right)}, \\  p{\\left(t \\right)} = C_{1} \\cos{\\left(t \\right)} - C_{2} \\sin{\\left(t \\right)}\\right]$"
      ],
      "text/plain": [
       "[x(t) = C₁⋅sin(t) + C₂⋅cos(t), p(t) = C₁⋅cos(t) - C₂⋅sin(t)]"
      ]
     },
     "execution_count": 86,
     "metadata": {},
     "output_type": "execute_result"
    }
   ],
   "source": [
    "dsolve((diff(x(t),t)-p(t),diff(p(t),t)+x(t)))"
   ]
  },
  {
   "cell_type": "markdown",
   "metadata": {
    "colab_type": "text",
    "id": "FulkES24466D"
   },
   "source": [
    "<div class=\"alert alert-success\"><h4>Done reading?</h4><p>Then read the final section:</p></div>"
   ]
  },
  {
   "cell_type": "markdown",
   "metadata": {
    "colab_type": "text",
    "id": "-Bgi7Frf466D"
   },
   "source": [
    "## 4.7 Limits, Derivatives, Integrals"
   ]
  },
  {
   "cell_type": "markdown",
   "metadata": {
    "colab_type": "text",
    "id": "DY_p_Cz4466D"
   },
   "source": [
    "### 4.7.1 Limits"
   ]
  },
  {
   "cell_type": "markdown",
   "metadata": {
    "colab_type": "text",
    "id": "hKzhpsHI466E"
   },
   "source": [
    "Limits can be computed by using the function `limit`. We will do this for the function\n",
    "\n",
    "\\begin{align*}\n",
    "f(x) = \\frac{\\tan(\\sin x)-\\sin(\\tan x)}{x^7}.\n",
    "\\end{align*}"
   ]
  },
  {
   "cell_type": "code",
   "execution_count": 87,
   "metadata": {
    "colab": {},
    "colab_type": "code",
    "id": "N3fcMAC9466E"
   },
   "outputs": [
    {
     "data": {
      "image/png": "[encoded data removed]",
      "text/plain": [
       "<Figure size 432x288 with 1 Axes>"
      ]
     },
     "metadata": {
      "needs_background": "light"
     },
     "output_type": "display_data"
    },
    {
     "data": {
      "text/plain": [
       "<sympy.plotting.plot.Plot at 0x20cf85ed7c8>"
      ]
     },
     "execution_count": 87,
     "metadata": {},
     "output_type": "execute_result"
    }
   ],
   "source": [
    "%matplotlib inline\n",
    "x = Symbol('x')\n",
    "f = (tan(sin(x))-sin(tan(x)))/x**7\n",
    "plot(f, (x,-2,2))"
   ]
  },
  {
   "cell_type": "code",
   "execution_count": 88,
   "metadata": {
    "colab": {},
    "colab_type": "code",
    "id": "IMcEzt3j466F"
   },
   "outputs": [
    {
     "data": {
      "image/png": "[encoded data removed]",
      "text/latex": [
       "$\\displaystyle \\frac{1}{30}$"
      ],
      "text/plain": [
       "1/30"
      ]
     },
     "execution_count": 88,
     "metadata": {},
     "output_type": "execute_result"
    }
   ],
   "source": [
    "limit(f,x,0)"
   ]
  },
  {
   "cell_type": "markdown",
   "metadata": {
    "colab_type": "text",
    "id": "vaJTKIoc466H"
   },
   "source": [
    "This limit is easy to compute as it is a two-sided limit. Now let's calculate one-sided limits for the function\n",
    "\n",
    "\\begin{align*}\n",
    "f(x) = \\frac{\\tan(\\sin x)-\\sin(\\tan x)}{x^7 + \\exp\\left(-\\frac{1}{x}\\right)}.\n",
    "\\end{align*}"
   ]
  },
  {
   "cell_type": "code",
   "execution_count": 91,
   "metadata": {
    "colab": {},
    "colab_type": "code",
    "id": "fHBJs5V9466H"
   },
   "outputs": [
    {
     "data": {
      "image/png": "[encoded data removed]",
      "text/plain": [
       "<Figure size 432x288 with 1 Axes>"
      ]
     },
     "metadata": {
      "needs_background": "light"
     },
     "output_type": "display_data"
    },
    {
     "data": {
      "text/plain": [
       "<sympy.plotting.plot.Plot at 0x20cf6101308>"
      ]
     },
     "execution_count": 91,
     "metadata": {},
     "output_type": "execute_result"
    }
   ],
   "source": [
    "a = (tan(sin(x))-sin(tan(x)))/(x**7 + exp(-1/x))\n",
    "plot(a, xlim=[-.25,.25], ylim=[-0.5,0.5]) # does not always work"
   ]
  },
  {
   "cell_type": "code",
   "execution_count": 90,
   "metadata": {
    "colab": {},
    "colab_type": "code",
    "id": "uIy2IR7b466I"
   },
   "outputs": [
    {
     "data": {
      "image/png": "[encoded data removed]",
      "text/latex": [
       "$\\displaystyle \\frac{1}{30}$"
      ],
      "text/plain": [
       "1/30"
      ]
     },
     "execution_count": 90,
     "metadata": {},
     "output_type": "execute_result"
    }
   ],
   "source": [
    "limit(a,x,0,'+')"
   ]
  },
  {
   "cell_type": "code",
   "execution_count": 92,
   "metadata": {
    "colab": {},
    "colab_type": "code",
    "id": "HNy5KXW4466O"
   },
   "outputs": [
    {
     "data": {
      "image/png": "[encoded data removed]",
      "text/latex": [
       "$\\displaystyle 0$"
      ],
      "text/plain": [
       "0"
      ]
     },
     "execution_count": 92,
     "metadata": {},
     "output_type": "execute_result"
    }
   ],
   "source": [
    "limit(a,x,0,'-')"
   ]
  },
  {
   "cell_type": "markdown",
   "metadata": {
    "colab_type": "text",
    "id": "rChXfPcj466P"
   },
   "source": [
    "### 4.7.2 Derivatives"
   ]
  },
  {
   "cell_type": "markdown",
   "metadata": {
    "colab_type": "text",
    "id": "RnSx1jhb466P"
   },
   "source": [
    "We compute derivatives using the function `diff`."
   ]
  },
  {
   "cell_type": "code",
   "execution_count": 93,
   "metadata": {
    "colab": {},
    "colab_type": "code",
    "id": "OJTuIEIA466Q"
   },
   "outputs": [
    {
     "data": {
      "image/png": "[encoded data removed]",
      "text/latex": [
       "$\\displaystyle x \\cos{\\left(x + y \\right)} + \\sin{\\left(x + y \\right)}$"
      ],
      "text/plain": [
       "x⋅cos(x + y) + sin(x + y)"
      ]
     },
     "execution_count": 93,
     "metadata": {},
     "output_type": "execute_result"
    }
   ],
   "source": [
    "a = x*sin(x+y)\n",
    "diff(a,x,1)"
   ]
  },
  {
   "cell_type": "code",
   "execution_count": 94,
   "metadata": {
    "colab": {},
    "colab_type": "code",
    "id": "WH4f_J7X466U"
   },
   "outputs": [
    {
     "data": {
      "image/png": "[encoded data removed]",
      "text/latex": [
       "$\\displaystyle x \\cos{\\left(x + y \\right)}$"
      ],
      "text/plain": [
       "x⋅cos(x + y)"
      ]
     },
     "execution_count": 94,
     "metadata": {},
     "output_type": "execute_result"
    }
   ],
   "source": [
    "diff(a,y)"
   ]
  },
  {
   "cell_type": "markdown",
   "metadata": {
    "colab_type": "text",
    "id": "QwKI0E3w466V"
   },
   "source": [
    "Let's take the second derivative in $x$ and the first one in $y$."
   ]
  },
  {
   "cell_type": "code",
   "execution_count": 95,
   "metadata": {
    "colab": {},
    "colab_type": "code",
    "id": "ynwBqoNi466V"
   },
   "outputs": [
    {
     "data": {
      "image/png": "[encoded data removed]",
      "text/latex": [
       "$\\displaystyle - (x \\cos{\\left(x + y \\right)} + 2 \\sin{\\left(x + y \\right)})$"
      ],
      "text/plain": [
       "-(x⋅cos(x + y) + 2⋅sin(x + y))"
      ]
     },
     "execution_count": 95,
     "metadata": {},
     "output_type": "execute_result"
    }
   ],
   "source": [
    "diff(a,x,2,y)"
   ]
  },
  {
   "cell_type": "markdown",
   "metadata": {
    "colab_type": "text",
    "id": "zxSYJTR7466W"
   },
   "source": [
    "Expressions with undefined functions can also be differentiated."
   ]
  },
  {
   "cell_type": "code",
   "execution_count": 96,
   "metadata": {
    "colab": {},
    "colab_type": "code",
    "id": "xzBHDniV466X"
   },
   "outputs": [],
   "source": [
    "f = Function('f')\n",
    "b = diff(x*f(x**2),x)"
   ]
  },
  {
   "cell_type": "markdown",
   "metadata": {
    "colab_type": "text",
    "id": "1asb3s5k466Y"
   },
   "source": [
    "What's this?"
   ]
  },
  {
   "cell_type": "code",
   "execution_count": 97,
   "metadata": {
    "colab": {},
    "colab_type": "code",
    "id": "maOlhzcx466Y"
   },
   "outputs": [
    {
     "data": {
      "text/latex": [
       "$\\displaystyle 2 x^{2} \\left. \\frac{d}{d \\xi_{1}} f{\\left(\\xi_{1} \\right)} \\right|_{\\substack{ \\xi_{1}=x^{2} }} + f{\\left(x^{2} \\right)}$"
      ],
      "text/plain": [
       "   2 ⎛ d        ⎞│         ⎛ 2⎞\n",
       "2⋅x ⋅⎜───(f(ξ₁))⎟│    2 + f⎝x ⎠\n",
       "     ⎝dξ₁       ⎠│ξ₁=x         "
      ]
     },
     "execution_count": 97,
     "metadata": {},
     "output_type": "execute_result"
    }
   ],
   "source": [
    "b"
   ]
  },
  {
   "cell_type": "markdown",
   "metadata": {
    "colab_type": "text",
    "id": "k028GJ0b466Z"
   },
   "source": [
    "The function `Derivative` represents an unevaluated derivative. It can be evaluated by the method `doit`."
   ]
  },
  {
   "cell_type": "code",
   "execution_count": 98,
   "metadata": {
    "colab": {},
    "colab_type": "code",
    "id": "iAMnGGyv466Z"
   },
   "outputs": [
    {
     "data": {
      "image/png": "[encoded data removed]",
      "text/latex": [
       "$\\displaystyle \\frac{d}{d x} \\sin{\\left(x \\right)} = \\cos{\\left(x \\right)}$"
      ],
      "text/plain": [
       "d                  \n",
       "──(sin(x)) = cos(x)\n",
       "dx                 "
      ]
     },
     "execution_count": 98,
     "metadata": {},
     "output_type": "execute_result"
    }
   ],
   "source": [
    "a = Derivative(sin(x),x)\n",
    "Eq(a,a.doit())\n",
    "# diff(sin(x),x)"
   ]
  },
  {
   "cell_type": "markdown",
   "metadata": {
    "colab_type": "text",
    "id": "q3cWHuXa466a"
   },
   "source": [
    "### 4.7.3 Integrals"
   ]
  },
  {
   "cell_type": "markdown",
   "metadata": {
    "colab_type": "text",
    "id": "xsdl1HJt466b"
   },
   "source": [
    "Integrals can be computed using the function `integrate`."
   ]
  },
  {
   "cell_type": "code",
   "execution_count": 99,
   "metadata": {
    "colab": {},
    "colab_type": "code",
    "id": "o1wsdmlX466b"
   },
   "outputs": [
    {
     "data": {
      "image/png": "[encoded data removed]",
      "text/latex": [
       "$\\displaystyle \\frac{\\log{\\left(x \\right)}}{4} - \\frac{\\log{\\left(x^{2} - 2 \\right)}}{8} - \\frac{1}{4 x^{2} - 8}$"
      ],
      "text/plain": [
       "            ⎛ 2    ⎞           \n",
       "log(x)   log⎝x  - 2⎠      1    \n",
       "────── - ─────────── - ────────\n",
       "  4           8           2    \n",
       "                       4⋅x  - 8"
      ]
     },
     "execution_count": 99,
     "metadata": {},
     "output_type": "execute_result"
    }
   ],
   "source": [
    "a = 1/(x*(x**2-2)**2)\n",
    "integrate(a,x)"
   ]
  },
  {
   "cell_type": "code",
   "execution_count": 100,
   "metadata": {
    "colab": {},
    "colab_type": "code",
    "id": "-Sk5dETu466c"
   },
   "outputs": [
    {
     "data": {
      "image/png": "[encoded data removed]",
      "text/latex": [
       "$\\displaystyle x - \\log{\\left(e^{x} + 1 \\right)}$"
      ],
      "text/plain": [
       "       ⎛ x    ⎞\n",
       "x - log⎝ℯ  + 1⎠"
      ]
     },
     "execution_count": 100,
     "metadata": {},
     "output_type": "execute_result"
    }
   ],
   "source": [
    "integrate(1/(exp(x)+1),x)"
   ]
  },
  {
   "cell_type": "code",
   "execution_count": 101,
   "metadata": {
    "colab": {},
    "colab_type": "code",
    "id": "yfxSi19l466d"
   },
   "outputs": [
    {
     "data": {
      "image/png": "[encoded data removed]",
      "text/latex": [
       "$\\displaystyle - x \\cos{\\left(x \\right)} + \\sin{\\left(x \\right)}$"
      ],
      "text/plain": [
       "-x⋅cos(x) + sin(x)"
      ]
     },
     "execution_count": 101,
     "metadata": {},
     "output_type": "execute_result"
    }
   ],
   "source": [
    "integrate(x*sin(x),x)"
   ]
  },
  {
   "cell_type": "code",
   "execution_count": 102,
   "metadata": {
    "colab": {},
    "colab_type": "code",
    "id": "40jZYv7A466f"
   },
   "outputs": [
    {
     "data": {
      "image/png": "[encoded data removed]",
      "text/latex": [
       "$\\displaystyle \\int x^{x}\\, dx$"
      ],
      "text/plain": [
       "⌠      \n",
       "⎮  x   \n",
       "⎮ x  dx\n",
       "⌡      "
      ]
     },
     "execution_count": 102,
     "metadata": {},
     "output_type": "execute_result"
    }
   ],
   "source": [
    "a = integrate(x**x,x)\n",
    "a.doit()"
   ]
  },
  {
   "cell_type": "markdown",
   "metadata": {
    "colab_type": "text",
    "id": "j4THz8Vl466g"
   },
   "source": [
    "This is an unevaluated integral (so it is written as `Integral`)."
   ]
  },
  {
   "cell_type": "code",
   "execution_count": 103,
   "metadata": {
    "colab": {},
    "colab_type": "code",
    "id": "Z8_Cb50C466g"
   },
   "outputs": [
    {
     "name": "stdout",
     "output_type": "stream",
     "text": [
      "Integral(x**x, x)\n"
     ]
    }
   ],
   "source": [
    "print(a)"
   ]
  },
  {
   "cell_type": "code",
   "execution_count": 104,
   "metadata": {
    "colab": {},
    "colab_type": "code",
    "id": "14f7Yhey466i"
   },
   "outputs": [
    {
     "data": {
      "image/png": "[encoded data removed]",
      "text/latex": [
       "$\\displaystyle \\int \\sin{\\left(x \\right)}\\, dx = - \\cos{\\left(x \\right)}$"
      ],
      "text/plain": [
       "⌠                    \n",
       "⎮ sin(x) dx = -cos(x)\n",
       "⌡                    "
      ]
     },
     "execution_count": 104,
     "metadata": {},
     "output_type": "execute_result"
    }
   ],
   "source": [
    "a = Integral(sin(x),x)\n",
    "Eq(a,a.doit())"
   ]
  },
  {
   "cell_type": "markdown",
   "metadata": {
    "colab_type": "text",
    "id": "WPh_6kcW466l"
   },
   "source": [
    "### What's next? SAGE."
   ]
  },
  {
   "cell_type": "markdown",
   "metadata": {
    "colab_type": "text",
    "id": "X41opoCt466l"
   },
   "source": [
    "### 🔴 *Next Week:*"
   ]
  },
  {
   "cell_type": "code",
   "execution_count": 106,
   "metadata": {
    "colab": {},
    "colab_type": "code",
    "id": "F8_h3Oqh466l"
   },
   "outputs": [
    {
     "data": {
      "text/plain": [
       "'Statistics'"
      ]
     },
     "execution_count": 106,
     "metadata": {},
     "output_type": "execute_result"
    }
   ],
   "source": [
    "import numpy as np\n",
    "np.random.choice(['Statistics','Something else'], p=[0.99,0.01])"
   ]
  }
 ],
 "metadata": {
  "colab": {
   "collapsed_sections": [
    "etA0OXdV464O",
    "HnkMz8Ol465F",
    "iP4jDW_C465F",
    "goMltxlX465X",
    "kkGkpMiJ465e",
    "nEeXrNAh465-",
    "-Bgi7Frf466D",
    "DY_p_Cz4466D",
    "rChXfPcj466P",
    "q3cWHuXa466a",
    "WPh_6kcW466l",
    "X41opoCt466l"
   ],
   "name": "Sympy for Mathematicians.ipynb",
   "provenance": []
  },
  "kernelspec": {
   "display_name": "Python 3",
   "language": "python",
   "name": "python3"
  },
  "language_info": {
   "codemirror_mode": {
    "name": "ipython",
    "version": 3
   },
   "file_extension": ".py",
   "mimetype": "text/x-python",
   "name": "python",
   "nbconvert_exporter": "python",
   "pygments_lexer": "ipython3",
   "version": "3.7.7"
  },
  "latex_envs": {
   "LaTeX_envs_menu_present": true,
   "autoclose": false,
   "autocomplete": true,
   "bibliofile": "biblio.bib",
   "cite_by": "apalike",
   "current_citInitial": 1,
   "eqLabelWithNumbers": true,
   "eqNumInitial": 1,
   "hotkeys": {
    "equation": "Ctrl-E",
    "itemize": "Ctrl-I"
   },
   "labels_anchors": false,
   "latex_user_defs": false,
   "report_style_numbering": false,
   "user_envs_cfg": false
  },
  "toc": {
   "base_numbering": 1,
   "nav_menu": {},
   "number_sections": true,
   "sideBar": true,
   "skip_h1_title": false,
   "title_cell": "Table of Contents",
   "title_sidebar": "Contents",
   "toc_cell": false,
   "toc_position": {},
   "toc_section_display": true,
   "toc_window_display": false
  },
  "varInspector": {
   "cols": {
    "lenName": 16,
    "lenType": 16,
    "lenVar": 40
   },
   "kernels_config": {
    "python": {
     "delete_cmd_postfix": "",
     "delete_cmd_prefix": "del ",
     "library": "var_list.py",
     "varRefreshCmd": "print(var_dic_list())"
    },
    "r": {
     "delete_cmd_postfix": ") ",
     "delete_cmd_prefix": "rm(",
     "library": "var_list.r",
     "varRefreshCmd": "cat(var_dic_list()) "
    }
   },
   "types_to_exclude": [
    "module",
    "function",
    "builtin_function_or_method",
    "instance",
    "_Feature"
   ],
   "window_display": false
  }
 },
 "nbformat": 4,
 "nbformat_minor": 1
}
