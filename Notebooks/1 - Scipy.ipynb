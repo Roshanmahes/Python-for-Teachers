{
 "cells": [
  {
   "cell_type": "markdown",
   "metadata": {},
   "source": [
    "# 1. Introduction to SciPy for Mathematicians"
   ]
  },
  {
   "cell_type": "markdown",
   "metadata": {},
   "source": [
    "## Table of Contents\n",
    "- Introduction to SciPy\n",
    "- Linear Algebra\n",
    "- Optimization\n",
    "- Finding Roots\n",
    "- Integration\n",
    "- ODE's\n",
    "\n",
    "Next week? Choose among:\n",
    "\n",
    "- Basic Computations: `numpy` & Python\n",
    "- Symbolic Mathematics: `sympy`\n",
    "- Data Science: `pandas`\n",
    "- Plotting/Data Visualization: (`matplotlib` vs. `plotly`)\n",
    "- Machine Learning: `keras`, `tensorflow`, `scikit-learn`\n",
    "- Stochastics/statistics: `random`, `scipy.statistics` , `statsmodels`\n",
    "- Other: ___________?\n",
    "\n"
   ]
  },
  {
   "cell_type": "markdown",
   "metadata": {},
   "source": [
    "### 1.1 Introduction to SciPy\n",
    "\n",
    "The `SciPy` library is one of the core packages that make up the SciPy stack. The other core packages are `NumPy`, `Matplotlib`, `iPython`, `SymPy` and `pandas`. It provides many user-friendly and efficient numerical routines, such as routines for numerical integration, interpolation, optimization, linear algebra, and statistics."
   ]
  },
  {
   "cell_type": "code",
   "execution_count": 39,
   "metadata": {},
   "outputs": [],
   "source": [
    "import scipy"
   ]
  },
  {
   "cell_type": "markdown",
   "metadata": {},
   "source": [
    "The full documentation of this package can be found by typing `help(scipy)`. The most important info can be found by using `scipy.source(scipy)`, or the following code:"
   ]
  },
  {
   "cell_type": "code",
   "execution_count": 40,
   "metadata": {},
   "outputs": [
    {
     "name": "stdout",
     "output_type": "stream",
     "text": [
      "SciPy: A scientific computing package for Python\n",
      "================================================\n",
      "\n",
      "Documentation is available in the docstrings and\n",
      "online at https://docs.scipy.org.\n",
      "\n",
      "Contents\n",
      "--------\n",
      "SciPy imports all the functions from the NumPy namespace, and in\n",
      "addition provides:\n",
      "\n",
      "Subpackages\n",
      "-----------\n",
      "Using any of these subpackages requires an explicit import.  For example,\n",
      "``import scipy.cluster``.\n",
      "\n",
      "::\n",
      "\n",
      " cluster                      --- Vector Quantization / Kmeans\n",
      " fftpack                      --- Discrete Fourier Transform algorithms\n",
      " integrate                    --- Integration routines\n",
      " interpolate                  --- Interpolation Tools\n",
      " io                           --- Data input and output\n",
      " linalg                       --- Linear algebra routines\n",
      " linalg.blas                  --- Wrappers to BLAS library\n",
      " linalg.lapack                --- Wrappers to LAPACK library\n",
      " misc                         --- Various utilities that don't have\n",
      "                                  another home.\n",
      " ndimage                      --- n-dimensional image package\n",
      " odr                          --- Orthogonal Distance Regression\n",
      " optimize                     --- Optimization Tools\n",
      " signal                       --- Signal Processing Tools\n",
      " signal.windows               --- Window functions\n",
      " sparse                       --- Sparse Matrices\n",
      " sparse.linalg                --- Sparse Linear Algebra\n",
      " sparse.linalg.dsolve         --- Linear Solvers\n",
      " sparse.linalg.dsolve.umfpack --- :Interface to the UMFPACK library:\n",
      "                                  Conjugate Gradient Method (LOBPCG)\n",
      " sparse.linalg.eigen          --- Sparse Eigenvalue Solvers\n",
      " sparse.linalg.eigen.lobpcg   --- Locally Optimal Block Preconditioned\n",
      "                                  Conjugate Gradient Method (LOBPCG)\n",
      " spatial                      --- Spatial data structures and algorithms\n",
      " special                      --- Special functions\n",
      " stats                        --- Statistical Functions\n",
      "\n",
      "Utility tools\n",
      "-------------\n",
      "::\n",
      "\n",
      " test              --- Run scipy unittests\n",
      " show_config       --- Show scipy build configuration\n",
      " show_numpy_config --- Show numpy build configuration\n",
      " __version__       --- SciPy version string\n",
      " __numpy_version__ --- Numpy version string\n"
     ]
    }
   ],
   "source": [
    "scipy.info(scipy)"
   ]
  },
  {
   "cell_type": "markdown",
   "metadata": {},
   "source": [
    "Sometimes it is more convenient to read the documentation online: https://scipy.org/scipylib/index.html."
   ]
  },
  {
   "cell_type": "code",
   "execution_count": 41,
   "metadata": {},
   "outputs": [
    {
     "data": {
      "image/jpeg": "[encoded data removed]",
      "text/html": [
       "\n",
       "        <iframe\n",
       "            width=\"400\"\n",
       "            height=\"300\"\n",
       "            src=\"https://www.youtube.com/embed/MtdLd2lrvag\"\n",
       "            frameborder=\"0\"\n",
       "            allowfullscreen\n",
       "        ></iframe>\n",
       "        "
      ],
      "text/plain": [
       "<IPython.lib.display.YouTubeVideo at 0x23ea4865088>"
      ]
     },
     "execution_count": 41,
     "metadata": {},
     "output_type": "execute_result"
    }
   ],
   "source": [
    "from IPython.display import YouTubeVideo\n",
    "YouTubeVideo('MtdLd2lrvag')"
   ]
  },
  {
   "cell_type": "code",
   "execution_count": 42,
   "metadata": {},
   "outputs": [],
   "source": [
    "# print all output\n",
    "from IPython.core.interactiveshell import InteractiveShell\n",
    "InteractiveShell.ast_node_interactivity = 'all' # 'last_expr'"
   ]
  },
  {
   "cell_type": "markdown",
   "metadata": {},
   "source": [
    "### 1.2 Linear Algebra\n",
    "\n",
    "When `SciPy` is built using the optimized ATLAS LAPACK and BLAS libraries, it has very fast linear algebra capabilities. `scipy.linalg` contains all the functions in `numpy.linalg` plus some other more advanced ones not contained in `numpy.linalg`. Another advantage of using `scipy.linalg` over `numpy.linalg` is that scipy might be faster depending on how numpy was installed. Therefore, unless you don’t want to add scipy as a dependency to your numpy program, always use `scipy.linalg` instead of `numpy.linalg`."
   ]
  },
  {
   "cell_type": "code",
   "execution_count": 43,
   "metadata": {},
   "outputs": [
    {
     "name": "stdout",
     "output_type": "stream",
     "text": [
      "====================================\n",
      "Linear algebra (:mod:`scipy.linalg`)\n",
      "====================================\n",
      "\n",
      ".. currentmodule:: scipy.linalg\n",
      "\n",
      "Linear algebra functions.\n",
      "\n",
      ".. eventually we should replace the numpy.linalg HTML link with just `numpy.linalg`\n",
      "\n",
      ".. seealso::\n",
      "\n",
      "   `numpy.linalg <https://www.numpy.org/devdocs/reference/routines.linalg.html>`__\n",
      "   for more linear algebra functions.  Note that\n",
      "   although `scipy.linalg` imports most of them, identically named\n",
      "   functions from `scipy.linalg` may offer more or slightly differing\n",
      "   functionality.\n",
      "\n",
      "\n",
      "Basics\n",
      "======\n",
      "\n",
      ".. autosummary::\n",
      "   :toctree: generated/\n",
      "\n",
      "   inv - Find the inverse of a square matrix\n",
      "   solve - Solve a linear system of equations\n",
      "   solve_banded - Solve a banded linear system\n",
      "   solveh_banded - Solve a Hermitian or symmetric banded system\n",
      "   solve_circulant - Solve a circulant system\n",
      "   solve_triangular - Solve a triangular matrix\n",
      "   solve_toeplitz - Solve a toeplitz matrix\n",
      "   det - Find the determinant of a square matrix\n",
      "   norm - Matrix and vector norm\n",
      "   lstsq - Solve a linear least-squares problem\n",
      "   pinv - Pseudo-inverse (Moore-Penrose) using lstsq\n",
      "   pinv2 - Pseudo-inverse using svd\n",
      "   pinvh - Pseudo-inverse of hermitian matrix\n",
      "   kron - Kronecker product of two arrays\n",
      "   tril - Construct a lower-triangular matrix from a given matrix\n",
      "   triu - Construct an upper-triangular matrix from a given matrix\n",
      "   orthogonal_procrustes - Solve an orthogonal Procrustes problem\n",
      "   matrix_balance - Balance matrix entries with a similarity transformation\n",
      "   subspace_angles - Compute the subspace angles between two matrices\n",
      "   LinAlgError\n",
      "   LinAlgWarning\n",
      "\n",
      "Eigenvalue Problems\n",
      "===================\n",
      "\n",
      ".. autosummary::\n",
      "   :toctree: generated/\n",
      "\n",
      "   eig - Find the eigenvalues and eigenvectors of a square matrix\n",
      "   eigvals - Find just the eigenvalues of a square matrix\n",
      "   eigh - Find the e-vals and e-vectors of a Hermitian or symmetric matrix\n",
      "   eigvalsh - Find just the eigenvalues of a Hermitian or symmetric matrix\n",
      "   eig_banded - Find the eigenvalues and eigenvectors of a banded matrix\n",
      "   eigvals_banded - Find just the eigenvalues of a banded matrix\n",
      "   eigh_tridiagonal - Find the eigenvalues and eigenvectors of a tridiagonal matrix\n",
      "   eigvalsh_tridiagonal - Find just the eigenvalues of a tridiagonal matrix\n",
      "\n",
      "Decompositions\n",
      "==============\n",
      "\n",
      ".. autosummary::\n",
      "   :toctree: generated/\n",
      "\n",
      "   lu - LU decomposition of a matrix\n",
      "   lu_factor - LU decomposition returning unordered matrix and pivots\n",
      "   lu_solve - Solve Ax=b using back substitution with output of lu_factor\n",
      "   svd - Singular value decomposition of a matrix\n",
      "   svdvals - Singular values of a matrix\n",
      "   diagsvd - Construct matrix of singular values from output of svd\n",
      "   orth - Construct orthonormal basis for the range of A using svd\n",
      "   null_space - Construct orthonormal basis for the null space of A using svd\n",
      "   ldl - LDL.T decomposition of a Hermitian or a symmetric matrix.\n",
      "   cholesky - Cholesky decomposition of a matrix\n",
      "   cholesky_banded - Cholesky decomp. of a sym. or Hermitian banded matrix\n",
      "   cho_factor - Cholesky decomposition for use in solving a linear system\n",
      "   cho_solve - Solve previously factored linear system\n",
      "   cho_solve_banded - Solve previously factored banded linear system\n",
      "   polar - Compute the polar decomposition.\n",
      "   qr - QR decomposition of a matrix\n",
      "   qr_multiply - QR decomposition and multiplication by Q\n",
      "   qr_update - Rank k QR update\n",
      "   qr_delete - QR downdate on row or column deletion\n",
      "   qr_insert - QR update on row or column insertion\n",
      "   rq - RQ decomposition of a matrix\n",
      "   qz - QZ decomposition of a pair of matrices\n",
      "   ordqz - QZ decomposition of a pair of matrices with reordering\n",
      "   schur - Schur decomposition of a matrix\n",
      "   rsf2csf - Real to complex Schur form\n",
      "   hessenberg - Hessenberg form of a matrix\n",
      "   cdf2rdf - Complex diagonal form to real diagonal block form\n",
      "\n",
      ".. seealso::\n",
      "\n",
      "   `scipy.linalg.interpolative` -- Interpolative matrix decompositions\n",
      "\n",
      "\n",
      "Matrix Functions\n",
      "================\n",
      "\n",
      ".. autosummary::\n",
      "   :toctree: generated/\n",
      "\n",
      "   expm - Matrix exponential\n",
      "   logm - Matrix logarithm\n",
      "   cosm - Matrix cosine\n",
      "   sinm - Matrix sine\n",
      "   tanm - Matrix tangent\n",
      "   coshm - Matrix hyperbolic cosine\n",
      "   sinhm - Matrix hyperbolic sine\n",
      "   tanhm - Matrix hyperbolic tangent\n",
      "   signm - Matrix sign\n",
      "   sqrtm - Matrix square root\n",
      "   funm - Evaluating an arbitrary matrix function\n",
      "   expm_frechet - Frechet derivative of the matrix exponential\n",
      "   expm_cond - Relative condition number of expm in the Frobenius norm\n",
      "   fractional_matrix_power - Fractional matrix power\n",
      "\n",
      "\n",
      "Matrix Equation Solvers\n",
      "=======================\n",
      "\n",
      ".. autosummary::\n",
      "   :toctree: generated/\n",
      "\n",
      "   solve_sylvester - Solve the Sylvester matrix equation\n",
      "   solve_continuous_are - Solve the continuous-time algebraic Riccati equation\n",
      "   solve_discrete_are - Solve the discrete-time algebraic Riccati equation\n",
      "   solve_continuous_lyapunov - Solve the continous-time Lyapunov equation\n",
      "   solve_discrete_lyapunov - Solve the discrete-time Lyapunov equation\n",
      "\n",
      "\n",
      "Sketches and Random Projections\n",
      "===============================\n",
      "\n",
      ".. autosummary::\n",
      "   :toctree: generated/\n",
      "\n",
      "   clarkson_woodruff_transform - Applies the Clarkson Woodruff Sketch (a.k.a CountMin Sketch)\n",
      "\n",
      "Special Matrices\n",
      "================\n",
      "\n",
      ".. autosummary::\n",
      "   :toctree: generated/\n",
      "\n",
      "   block_diag - Construct a block diagonal matrix from submatrices\n",
      "   circulant - Circulant matrix\n",
      "   companion - Companion matrix\n",
      "   dft - Discrete Fourier transform matrix\n",
      "   fiedler - Fiedler matrix\n",
      "   fiedler_companion - Fiedler companion matrix\n",
      "   hadamard - Hadamard matrix of order 2**n\n",
      "   hankel - Hankel matrix\n",
      "   helmert - Helmert matrix\n",
      "   hilbert - Hilbert matrix\n",
      "   invhilbert - Inverse Hilbert matrix\n",
      "   leslie - Leslie matrix\n",
      "   pascal - Pascal matrix\n",
      "   invpascal - Inverse Pascal matrix\n",
      "   toeplitz - Toeplitz matrix\n",
      "   tri - Construct a matrix filled with ones at and below a given diagonal\n",
      "\n",
      "Low-level routines\n",
      "==================\n",
      "\n",
      ".. autosummary::\n",
      "   :toctree: generated/\n",
      "\n",
      "   get_blas_funcs\n",
      "   get_lapack_funcs\n",
      "   find_best_blas_type\n",
      "\n",
      ".. seealso::\n",
      "\n",
      "   `scipy.linalg.blas` -- Low-level BLAS functions\n",
      "\n",
      "   `scipy.linalg.lapack` -- Low-level LAPACK functions\n",
      "\n",
      "   `scipy.linalg.cython_blas` -- Low-level BLAS functions for Cython\n",
      "\n",
      "   `scipy.linalg.cython_lapack` -- Low-level LAPACK functions for Cython\n"
     ]
    }
   ],
   "source": [
    "from scipy import linalg\n",
    "# from scipy.linalg import *\n",
    "scipy.info(scipy.linalg)"
   ]
  },
  {
   "cell_type": "markdown",
   "metadata": {},
   "source": [
    "Let's do some basic linear algebra using `scipy.linalg`:"
   ]
  },
  {
   "cell_type": "code",
   "execution_count": 44,
   "metadata": {},
   "outputs": [
    {
     "name": "stdout",
     "output_type": "stream",
     "text": [
      "A = [[1 2]\n",
      " [3 4]]\n"
     ]
    },
    {
     "data": {
      "text/plain": [
       "array([[-2. ,  1. ],\n",
       "       [ 1.5, -0.5]])"
      ]
     },
     "execution_count": 44,
     "metadata": {},
     "output_type": "execute_result"
    },
    {
     "data": {
      "text/plain": [
       "-2.0"
      ]
     },
     "execution_count": 44,
     "metadata": {},
     "output_type": "execute_result"
    },
    {
     "data": {
      "text/plain": [
       "array([[ 51.9689562 ,  74.73656457],\n",
       "       [112.10484685, 164.07380305]])"
      ]
     },
     "execution_count": 44,
     "metadata": {},
     "output_type": "execute_result"
    },
    {
     "data": {
      "text/plain": [
       "7.0"
      ]
     },
     "execution_count": 44,
     "metadata": {},
     "output_type": "execute_result"
    },
    {
     "name": "stdout",
     "output_type": "stream",
     "text": [
      "b = [[5 6]]\n"
     ]
    },
    {
     "data": {
      "text/plain": [
       "(1, 2)"
      ]
     },
     "execution_count": 44,
     "metadata": {},
     "output_type": "execute_result"
    },
    {
     "data": {
      "text/plain": [
       "array([[5],\n",
       "       [6]])"
      ]
     },
     "execution_count": 44,
     "metadata": {},
     "output_type": "execute_result"
    },
    {
     "data": {
      "text/plain": [
       "array([[ 5, 12],\n",
       "       [15, 24]])"
      ]
     },
     "execution_count": 44,
     "metadata": {},
     "output_type": "execute_result"
    },
    {
     "data": {
      "text/plain": [
       "array([[17],\n",
       "       [39]])"
      ]
     },
     "execution_count": 44,
     "metadata": {},
     "output_type": "execute_result"
    },
    {
     "data": {
      "text/plain": [
       "array([[-4. ],\n",
       "       [ 4.5]])"
      ]
     },
     "execution_count": 44,
     "metadata": {},
     "output_type": "execute_result"
    },
    {
     "name": "stdout",
     "output_type": "stream",
     "text": [
      "[5 6] \n",
      " [5 6]\n",
      "[17 39] \n",
      " [17 39]\n"
     ]
    },
    {
     "data": {
      "text/plain": [
       "array([[ 1,  1,  1,  1],\n",
       "       [ 1, -1,  1, -1],\n",
       "       [ 1,  1, -1, -1],\n",
       "       [ 1, -1, -1,  1]])"
      ]
     },
     "execution_count": 44,
     "metadata": {},
     "output_type": "execute_result"
    }
   ],
   "source": [
    "import numpy as np\n",
    "\n",
    "A = np.array([[1,2],[3,4]]) # np.mat('[1 2 ; 3 4]')\n",
    "print(\"A =\", A)\n",
    "linalg.inv(A) # inverse\n",
    "linalg.det(A) # determinant\n",
    "linalg.expm(A) # e^A\n",
    "linalg.norm(A,np.inf) # infinity norm (max row sum)\n",
    "\n",
    "b = np.array([[5,6]]) # 2D array\n",
    "print(\"b =\", b)\n",
    "b.shape\n",
    "b.T\n",
    "\n",
    "A*b # not matrix multiplication!\n",
    "A.dot(b.T) # matrix multiplication (easier: @)\n",
    "linalg.solve(A,b.T)\n",
    "\n",
    "b = np.array([5,6]) # 1D array\n",
    "print(b,\"\\n\",b.T)\n",
    "print(A.dot(b),\"\\n\",A.dot(b.T))\n",
    "\n",
    "U,S,V = linalg.svd(A)\n",
    "linalg.hadamard(4)"
   ]
  },
  {
   "cell_type": "markdown",
   "metadata": {},
   "source": [
    "We can also do some more interesting stuff, like computing eigenvalues and eigenvectors for large matrices:"
   ]
  },
  {
   "cell_type": "markdown",
   "metadata": {},
   "source": [
    "### 1.3 Optimization\n",
    "\n",
    "The `scipy.optimize` package provides several commonly used optimization algorithms. A detailed listing is available:"
   ]
  },
  {
   "cell_type": "code",
   "execution_count": 45,
   "metadata": {},
   "outputs": [
    {
     "name": "stdout",
     "output_type": "stream",
     "text": [
      "=====================================================\n",
      "Optimization and Root Finding (:mod:`scipy.optimize`)\n",
      "=====================================================\n",
      "\n",
      ".. currentmodule:: scipy.optimize\n",
      "\n",
      "SciPy ``optimize`` provides functions for minimizing (or maximizing)\n",
      "objective functions, possibly subject to constraints. It includes\n",
      "solvers for nonlinear problems (with support for both local and global\n",
      "optimization algorithms), linear programing,  constrained\n",
      "and nonlinear least-squares, root finding and curve fitting.\n",
      "\n",
      "Common functions and objects, shared across different solvers, are:\n",
      "\n",
      ".. autosummary::\n",
      "   :toctree: generated/\n",
      "\n",
      "   show_options - Show specific options optimization solvers.\n",
      "   OptimizeResult - The optimization result returned by some optimizers.\n",
      "   OptimizeWarning - The optimization encountered problems.\n",
      "\n",
      "\n",
      "Optimization\n",
      "============\n",
      "\n",
      "Scalar Functions Optimization\n",
      "-----------------------------\n",
      "\n",
      ".. autosummary::\n",
      "   :toctree: generated/\n",
      "\n",
      "   minimize_scalar - Interface for minimizers of univariate functions\n",
      "\n",
      "The `minimize_scalar` function supports the following methods:\n",
      "\n",
      ".. toctree::\n",
      "\n",
      "   optimize.minimize_scalar-brent\n",
      "   optimize.minimize_scalar-bounded\n",
      "   optimize.minimize_scalar-golden\n",
      "\n",
      "Local (Multivariate) Optimization\n",
      "---------------------------------\n",
      "\n",
      ".. autosummary::\n",
      "   :toctree: generated/\n",
      "\n",
      "   minimize - Interface for minimizers of multivariate functions.\n",
      "\n",
      "The `minimize` function supports the following methods:\n",
      "\n",
      ".. toctree::\n",
      "\n",
      "   optimize.minimize-neldermead\n",
      "   optimize.minimize-powell\n",
      "   optimize.minimize-cg\n",
      "   optimize.minimize-bfgs\n",
      "   optimize.minimize-newtoncg\n",
      "   optimize.minimize-lbfgsb\n",
      "   optimize.minimize-tnc\n",
      "   optimize.minimize-cobyla\n",
      "   optimize.minimize-slsqp\n",
      "   optimize.minimize-trustconstr\n",
      "   optimize.minimize-dogleg\n",
      "   optimize.minimize-trustncg\n",
      "   optimize.minimize-trustkrylov\n",
      "   optimize.minimize-trustexact\n",
      "\n",
      "Constraints are passed to `minimize` function as a single object or\n",
      "as a list of objects from the following classes:\n",
      "\n",
      ".. autosummary::\n",
      "   :toctree: generated/\n",
      "\n",
      "   NonlinearConstraint - Class defining general nonlinear constraints.\n",
      "   LinearConstraint - Class defining general linear constraints.\n",
      "\n",
      "Simple bound constraints are handled separately and there is a special class\n",
      "for them:\n",
      "\n",
      ".. autosummary::\n",
      "   :toctree: generated/\n",
      "\n",
      "   Bounds - Bound constraints.\n",
      "\n",
      "Quasi-Newton strategies implementing `HessianUpdateStrategy`\n",
      "interface can be used to approximate the Hessian in `minimize`\n",
      "function (available only for the 'trust-constr' method). Available\n",
      "quasi-Newton methods implementing this interface are:\n",
      "\n",
      ".. autosummary::\n",
      "   :toctree: generated/\n",
      "\n",
      "   BFGS - Broyden-Fletcher-Goldfarb-Shanno (BFGS) Hessian update strategy.\n",
      "   SR1 - Symmetric-rank-1 Hessian update strategy.\n",
      "\n",
      "Global Optimization\n",
      "-------------------\n",
      "\n",
      ".. autosummary::\n",
      "   :toctree: generated/\n",
      "\n",
      "   basinhopping - Basinhopping stochastic optimizer.\n",
      "   brute - Brute force searching optimizer.\n",
      "   differential_evolution - stochastic minimization using differential evolution.\n",
      "\n",
      "   shgo - simplicial homology global optimisation\n",
      "   dual_annealing - Dual annealing stochastic optimizer.\n",
      "\n",
      "\n",
      "Least-squares and Curve Fitting\n",
      "===============================\n",
      "\n",
      "Nonlinear Least-Squares\n",
      "-----------------------\n",
      "\n",
      ".. autosummary::\n",
      "   :toctree: generated/\n",
      "\n",
      "   least_squares - Solve a nonlinear least-squares problem with bounds on the variables.\n",
      "\n",
      "Linear Least-Squares\n",
      "--------------------\n",
      "\n",
      ".. autosummary::\n",
      "   :toctree: generated/\n",
      "\n",
      "   nnls - Linear least-squares problem with non-negativity constraint.\n",
      "   lsq_linear - Linear least-squares problem with bound constraints.\n",
      "\n",
      "Curve Fitting\n",
      "-------------\n",
      "\n",
      ".. autosummary::\n",
      "   :toctree: generated/\n",
      "\n",
      "   curve_fit -- Fit curve to a set of points.\n",
      "\n",
      "Root finding\n",
      "============\n",
      "\n",
      "Scalar functions\n",
      "----------------\n",
      ".. autosummary::\n",
      "   :toctree: generated/\n",
      "\n",
      "   root_scalar - Unified interface for nonlinear solvers of scalar functions.\n",
      "   brentq - quadratic interpolation Brent method.\n",
      "   brenth - Brent method, modified by Harris with hyperbolic extrapolation.\n",
      "   ridder - Ridder's method.\n",
      "   bisect - Bisection method.\n",
      "   newton - Newton's method (also Secant and Halley's methods).\n",
      "   toms748 - Alefeld, Potra & Shi Algorithm 748\n",
      "   RootResults - The root finding result returned by some root finders.\n",
      "\n",
      "The `root_scalar` function supports the following methods:\n",
      "\n",
      ".. toctree::\n",
      "\n",
      "   optimize.root_scalar-brentq\n",
      "   optimize.root_scalar-brenth\n",
      "   optimize.root_scalar-bisect\n",
      "   optimize.root_scalar-ridder\n",
      "   optimize.root_scalar-newton\n",
      "   optimize.root_scalar-toms748\n",
      "   optimize.root_scalar-secant\n",
      "   optimize.root_scalar-halley\n",
      "\n",
      "\n",
      "\n",
      "The table below lists situations and appropriate methods, along with\n",
      "*asymptotic* convergence rates per iteration (and per function evaluation)\n",
      "for successful convergence to a simple root(*).\n",
      "Bisection is the slowest of them all, adding one bit of accuracy for each\n",
      "function evaluation, but is guaranteed to converge.\n",
      "The other bracketing methods all (eventually) increase the number of accurate\n",
      "bits by about 50% for every function evaluation.\n",
      "The derivative-based methods, all built on `newton`, can converge quite quickly\n",
      "if the initial value is close to the root.  They can also be applied to\n",
      "functions defined on (a subset of) the complex plane.\n",
      "\n",
      "+-------------+----------+----------+-----------+-------------+-------------+----------------+\n",
      "| Domain of f | Bracket? |    Derivatives?      | Solvers     |        Convergence           |\n",
      "+             +          +----------+-----------+             +-------------+----------------+\n",
      "|             |          | `fprime` | `fprime2` |             | Guaranteed? |  Rate(s)(*)    |\n",
      "+=============+==========+==========+===========+=============+=============+================+\n",
      "| `R`         | Yes      | N/A      | N/A       | - bisection | - Yes       | - 1 \"Linear\"   |\n",
      "|             |          |          |           | - brentq    | - Yes       | - >=1, <= 1.62 |\n",
      "|             |          |          |           | - brenth    | - Yes       | - >=1, <= 1.62 |\n",
      "|             |          |          |           | - ridder    | - Yes       | - 2.0 (1.41)   |\n",
      "|             |          |          |           | - toms748   | - Yes       | - 2.7 (1.65)   |\n",
      "+-------------+----------+----------+-----------+-------------+-------------+----------------+\n",
      "| `R` or `C`  | No       | No       | No        | secant      | No          | 1.62 (1.62)    |\n",
      "+-------------+----------+----------+-----------+-------------+-------------+----------------+\n",
      "| `R` or `C`  | No       | Yes      | No        | newton      | No          | 2.00 (1.41)    |\n",
      "+-------------+----------+----------+-----------+-------------+-------------+----------------+\n",
      "| `R` or `C`  | No       | Yes      | Yes       | halley      | No          | 3.00 (1.44)    |\n",
      "+-------------+----------+----------+-----------+-------------+-------------+----------------+\n",
      "\n",
      ".. seealso::\n",
      "\n",
      "   `scipy.optimize.cython_optimize` -- Typed Cython versions of zeros functions\n",
      "\n",
      "Fixed point finding:\n",
      "\n",
      ".. autosummary::\n",
      "   :toctree: generated/\n",
      "\n",
      "   fixed_point - Single-variable fixed-point solver.\n",
      "\n",
      "Multidimensional\n",
      "----------------\n",
      "\n",
      ".. autosummary::\n",
      "   :toctree: generated/\n",
      "\n",
      "   root - Unified interface for nonlinear solvers of multivariate functions.\n",
      "\n",
      "The `root` function supports the following methods:\n",
      "\n",
      ".. toctree::\n",
      "\n",
      "   optimize.root-hybr\n",
      "   optimize.root-lm\n",
      "   optimize.root-broyden1\n",
      "   optimize.root-broyden2\n",
      "   optimize.root-anderson\n",
      "   optimize.root-linearmixing\n",
      "   optimize.root-diagbroyden\n",
      "   optimize.root-excitingmixing\n",
      "   optimize.root-krylov\n",
      "   optimize.root-dfsane\n",
      "\n",
      "Linear Programming\n",
      "==================\n",
      "\n",
      ".. autosummary::\n",
      "   :toctree: generated/\n",
      "\n",
      "   linprog -- Unified interface for minimizers of linear programming problems.\n",
      "\n",
      "The `linprog` function supports the following methods:\n",
      "\n",
      ".. toctree::\n",
      "\n",
      "   optimize.linprog-simplex\n",
      "   optimize.linprog-interior-point\n",
      "   optimize.linprog-revised_simplex\n",
      "\n",
      "The simplex method supports callback functions, such as:\n",
      "\n",
      ".. autosummary::\n",
      "   :toctree: generated/\n",
      "\n",
      "   linprog_verbose_callback -- Sample callback function for linprog (simplex).\n",
      "\n",
      "Assignment problems:\n",
      "\n",
      ".. autosummary::\n",
      "   :toctree: generated/\n",
      "\n",
      "   linear_sum_assignment -- Solves the linear-sum assignment problem.\n",
      "\n",
      "Utilities\n",
      "=========\n",
      "\n",
      "Finite-Difference Approximation\n",
      "-------------------------------\n",
      "\n",
      ".. autosummary::\n",
      "   :toctree: generated/\n",
      "\n",
      "   approx_fprime - Approximate the gradient of a scalar function.\n",
      "   check_grad - Check the supplied derivative using finite differences.\n",
      "\n",
      "\n",
      "Line Search\n",
      "-----------\n",
      "\n",
      ".. autosummary::\n",
      "   :toctree: generated/\n",
      "\n",
      "   bracket - Bracket a minimum, given two starting points.\n",
      "   line_search - Return a step that satisfies the strong Wolfe conditions.\n",
      "\n",
      "Hessian Approximation\n",
      "---------------------\n",
      "\n",
      ".. autosummary::\n",
      "   :toctree: generated/\n",
      "\n",
      "   LbfgsInvHessProduct - Linear operator for L-BFGS approximate inverse Hessian.\n",
      "   HessianUpdateStrategy - Interface for implementing Hessian update strategies\n",
      "\n",
      "Benchmark Problems\n",
      "------------------\n",
      "\n",
      ".. autosummary::\n",
      "   :toctree: generated/\n",
      "\n",
      "   rosen - The Rosenbrock function.\n",
      "   rosen_der - The derivative of the Rosenbrock function.\n",
      "   rosen_hess - The Hessian matrix of the Rosenbrock function.\n",
      "   rosen_hess_prod - Product of the Rosenbrock Hessian with a vector.\n",
      "\n",
      "Legacy Functions\n",
      "================\n",
      "\n",
      "The functions below are not recommended for use in new scripts;\n",
      "all of these methods are accessible via a newer, more consistent\n",
      "interfaces, provided by the interfaces above.\n",
      "\n",
      "Optimization\n",
      "------------\n",
      "\n",
      "General-purpose multivariate methods:\n",
      "\n",
      ".. autosummary::\n",
      "   :toctree: generated/\n",
      "\n",
      "   fmin - Nelder-Mead Simplex algorithm.\n",
      "   fmin_powell - Powell's (modified) level set method.\n",
      "   fmin_cg - Non-linear (Polak-Ribiere) conjugate gradient algorithm.\n",
      "   fmin_bfgs - Quasi-Newton method (Broydon-Fletcher-Goldfarb-Shanno).\n",
      "   fmin_ncg - Line-search Newton Conjugate Gradient.\n",
      "\n",
      "Constrained multivariate methods:\n",
      "\n",
      ".. autosummary::\n",
      "   :toctree: generated/\n",
      "\n",
      "   fmin_l_bfgs_b - Zhu, Byrd, and Nocedal's constrained optimizer.\n",
      "   fmin_tnc - Truncated Newton code.\n",
      "   fmin_cobyla - Constrained optimization by linear approximation.\n",
      "   fmin_slsqp - Minimization using sequential least-squares programming.\n",
      "   differential_evolution - stochastic minimization using differential evolution.\n",
      "\n",
      "Univariate (scalar) minimization methods:\n",
      "\n",
      ".. autosummary::\n",
      "   :toctree: generated/\n",
      "\n",
      "   fminbound - Bounded minimization of a scalar function.\n",
      "   brent - 1-D function minimization using Brent method.\n",
      "   golden - 1-D function minimization using Golden Section method.\n",
      "\n",
      "Least-Squares\n",
      "-------------\n",
      "\n",
      ".. autosummary::\n",
      "   :toctree: generated/\n",
      "\n",
      "   leastsq - Minimize the sum of squares of M equations in N unknowns.\n",
      "\n",
      "Root Finding\n",
      "------------\n",
      "\n",
      "General nonlinear solvers:\n",
      "\n",
      ".. autosummary::\n",
      "   :toctree: generated/\n",
      "\n",
      "   fsolve - Non-linear multi-variable equation solver.\n",
      "   broyden1 - Broyden's first method.\n",
      "   broyden2 - Broyden's second method.\n",
      "\n",
      "Large-scale nonlinear solvers:\n",
      "\n",
      ".. autosummary::\n",
      "   :toctree: generated/\n",
      "\n",
      "   newton_krylov\n",
      "   anderson\n",
      "\n",
      "Simple iteration solvers:\n",
      "\n",
      ".. autosummary::\n",
      "   :toctree: generated/\n",
      "\n",
      "   excitingmixing\n",
      "   linearmixing\n",
      "   diagbroyden\n",
      "\n",
      ":mod:`Additional information on the nonlinear solvers <scipy.optimize.nonlin>`\n"
     ]
    }
   ],
   "source": [
    "from scipy import optimize\n",
    "scipy.info(scipy.optimize)"
   ]
  },
  {
   "cell_type": "markdown",
   "metadata": {},
   "source": [
    "The module contains:\n",
    "1. Unconstrained and constrained minimization of multivariate scalar functions (`minimize`) using a variety of algorithms (e.g. BFGS, Nelder-Mead simplex, Newton Conjugate Gradient, COBYLA or SLSQP)\n",
    "2. Global (brute-force) optimization routines (e.g., `anneal`, `basinhopping`)\n",
    "3. Least-squares minimization (`leastsq`) and curve fitting (`curve_fit`) algorithms\n",
    "4. Scalar univariate functions minimizers (`minimize_scalar`) and root finders (`newton`)\n",
    "5. Multivariate equation system solvers (`root`) using a variety of algorithms (e.g. hybrid Powell, LevenbergMarquardt or large-scale methods such as Newton-Krylov)."
   ]
  },
  {
   "cell_type": "markdown",
   "metadata": {},
   "source": [
    "#### Example 1: A Simple Function\n",
    "Consider the following function:\n",
    "\\begin{align*}\n",
    "f(x) = x^2 + 0.2x + 4\\text{cos}(x).\n",
    "\\end{align*}"
   ]
  },
  {
   "cell_type": "code",
   "execution_count": 46,
   "metadata": {},
   "outputs": [
    {
     "data": {
      "text/plain": [
       "[<matplotlib.lines.Line2D at 0x23ea48f6c88>]"
      ]
     },
     "execution_count": 46,
     "metadata": {},
     "output_type": "execute_result"
    },
    {
     "data": {
      "text/plain": [
       "3"
      ]
     },
     "execution_count": 46,
     "metadata": {},
     "output_type": "execute_result"
    },
    {
     "data": {
      "image/png": "[encoded data removed]",
      "text/plain": [
       "<Figure size 600x450 with 1 Axes>"
      ]
     },
     "metadata": {},
     "output_type": "display_data"
    }
   ],
   "source": [
    "import matplotlib.pyplot as plt\n",
    "\n",
    "def f(x):\n",
    "    return x ** 2 + 0.2 * x + 4 * np.cos(x)\n",
    "\n",
    "def g(x):\n",
    "    return x**2\n",
    "\n",
    "x = np.linspace(-3, 3, 200)\n",
    "plt.plot(x, f(x), 'r-')\n",
    "\n",
    "\n",
    "# plot2 = plt.plot(x, g(x), 'b-')\n",
    "# plt2.xlim((-3, 3))\n",
    "# plot2\n",
    "\n",
    "a = 3\n",
    "a"
   ]
  },
  {
   "cell_type": "markdown",
   "metadata": {},
   "source": [
    "Let's consider the 'BFGS' algorithm:"
   ]
  },
  {
   "cell_type": "code",
   "execution_count": 47,
   "metadata": {},
   "outputs": [
    {
     "name": "stdout",
     "output_type": "stream",
     "text": [
      " fmin_bfgs(f, x0, fprime=None, args=(), gtol=1e-05, norm=inf,\n",
      "           epsilon=1.4901161193847656e-08, maxiter=None, full_output=0,\n",
      "           disp=1, retall=0, callback=None)\n",
      "\n",
      "Minimize a function using the BFGS algorithm.\n",
      "\n",
      "Parameters\n",
      "----------\n",
      "f : callable f(x,*args)\n",
      "    Objective function to be minimized.\n",
      "x0 : ndarray\n",
      "    Initial guess.\n",
      "fprime : callable f'(x,*args), optional\n",
      "    Gradient of f.\n",
      "args : tuple, optional\n",
      "    Extra arguments passed to f and fprime.\n",
      "gtol : float, optional\n",
      "    Gradient norm must be less than gtol before successful termination.\n",
      "norm : float, optional\n",
      "    Order of norm (Inf is max, -Inf is min)\n",
      "epsilon : int or ndarray, optional\n",
      "    If fprime is approximated, use this value for the step size.\n",
      "callback : callable, optional\n",
      "    An optional user-supplied function to call after each\n",
      "    iteration.  Called as callback(xk), where xk is the\n",
      "    current parameter vector.\n",
      "maxiter : int, optional\n",
      "    Maximum number of iterations to perform.\n",
      "full_output : bool, optional\n",
      "    If True,return fopt, func_calls, grad_calls, and warnflag\n",
      "    in addition to xopt.\n",
      "disp : bool, optional\n",
      "    Print convergence message if True.\n",
      "retall : bool, optional\n",
      "    Return a list of results at each iteration if True.\n",
      "\n",
      "Returns\n",
      "-------\n",
      "xopt : ndarray\n",
      "    Parameters which minimize f, i.e. f(xopt) == fopt.\n",
      "fopt : float\n",
      "    Minimum value.\n",
      "gopt : ndarray\n",
      "    Value of gradient at minimum, f'(xopt), which should be near 0.\n",
      "Bopt : ndarray\n",
      "    Value of 1/f''(xopt), i.e. the inverse hessian matrix.\n",
      "func_calls : int\n",
      "    Number of function_calls made.\n",
      "grad_calls : int\n",
      "    Number of gradient calls made.\n",
      "warnflag : integer\n",
      "    1 : Maximum number of iterations exceeded.\n",
      "    2 : Gradient and/or function calls not changing.\n",
      "allvecs  :  list\n",
      "    The value of xopt at each iteration.  Only returned if retall is True.\n",
      "\n",
      "See also\n",
      "--------\n",
      "minimize: Interface to minimization algorithms for multivariate\n",
      "    functions. See the 'BFGS' `method` in particular.\n",
      "\n",
      "Notes\n",
      "-----\n",
      "Optimize the function, f, whose gradient is given by fprime\n",
      "using the quasi-Newton method of Broyden, Fletcher, Goldfarb,\n",
      "and Shanno (BFGS)\n",
      "\n",
      "References\n",
      "----------\n",
      "Wright, and Nocedal 'Numerical Optimization', 1999, pg. 198.\n"
     ]
    }
   ],
   "source": [
    "scipy.info(scipy.optimize.fmin_bfgs)"
   ]
  },
  {
   "cell_type": "code",
   "execution_count": 48,
   "metadata": {},
   "outputs": [
    {
     "name": "stdout",
     "output_type": "stream",
     "text": [
      "Optimization terminated successfully.\n",
      "         Current function value: 1.931741\n",
      "         Iterations: 3\n",
      "         Function evaluations: 27\n",
      "         Gradient evaluations: 9\n"
     ]
    },
    {
     "data": {
      "image/png": "[encoded data removed]",
      "text/plain": [
       "<Figure size 600x450 with 1 Axes>"
      ]
     },
     "metadata": {},
     "output_type": "display_data"
    }
   ],
   "source": [
    "from scipy.optimize import fmin_bfgs\n",
    "\n",
    "xmin = fmin_bfgs(f, 0)\n",
    "\n",
    "def show_opt_result(x, f, xmin, opt_title=None):\n",
    "\n",
    "    plt.plot(x, f(x), 'r-')\n",
    "    plt.xlim((-3,3))\n",
    "    plt.scatter([xmin],[f(xmin)], 10, color='red')\n",
    "    plt.annotate('%f' % xmin, \n",
    "            xy=(xmin, f(xmin)), fontsize=12, xycoords='data',\n",
    "            xytext=(-90, -50), textcoords='offset points',\n",
    "            arrowprops=dict(arrowstyle=\"->\", connectionstyle=\"arc3,rad=.2\"))\n",
    "    if opt_title != None:\n",
    "        plt.title(opt_title)\n",
    "    \n",
    "show_opt_result(x, f, xmin, 'Quasi-Newton BFGS Method')"
   ]
  },
  {
   "cell_type": "markdown",
   "metadata": {},
   "source": [
    "One problem of this method is that it only finds *local minima*. In our example, we took $x=0$ as initial guess. Look what happens when we start at $x = 1$:"
   ]
  },
  {
   "cell_type": "code",
   "execution_count": 49,
   "metadata": {},
   "outputs": [
    {
     "data": {
      "image/png": "[encoded data removed]",
      "text/plain": [
       "<Figure size 600x450 with 1 Axes>"
      ]
     },
     "metadata": {},
     "output_type": "display_data"
    }
   ],
   "source": [
    "xmin = fmin_bfgs(f, 1, disp=0)\n",
    "show_opt_result(x, f, xmin, 'Quasi-Newton BFGS Method')"
   ]
  },
  {
   "cell_type": "markdown",
   "metadata": {},
   "source": [
    "An alternative is using the *brute force* method, that computes the minimum within any given grid:"
   ]
  },
  {
   "cell_type": "code",
   "execution_count": 50,
   "metadata": {},
   "outputs": [
    {
     "data": {
      "image/png": "[encoded data removed]",
      "text/plain": [
       "<Figure size 600x450 with 1 Axes>"
      ]
     },
     "metadata": {},
     "output_type": "display_data"
    }
   ],
   "source": [
    "from scipy.optimize import brute\n",
    "\n",
    "grid = (-3, 3, 0.1)\n",
    "xmin = brute(f, (grid,))\n",
    "show_opt_result(x, f, xmin, 'Brute Force Method')"
   ]
  },
  {
   "cell_type": "markdown",
   "metadata": {},
   "source": [
    "#### Example 2: Rosenbrock Function\n",
    "We can also optimize multidimensional functions, e.g. the Rosenbrock function:\n",
    "\n",
    "<img src=\"https://upload.wikimedia.org/wikipedia/commons/thumb/3/32/Rosenbrock_function.svg/1920px-Rosenbrock_function.svg.png\" align=\"center\" width=\"250\">"
   ]
  },
  {
   "cell_type": "code",
   "execution_count": 51,
   "metadata": {},
   "outputs": [
    {
     "name": "stdout",
     "output_type": "stream",
     "text": [
      "Optimization terminated successfully.\n",
      "         Current function value: 0.000000\n",
      "         Iterations: 339\n",
      "         Function evaluations: 571\n",
      "\n",
      "Optimization:\n",
      "  final_simplex: (array([[1.        , 1.        , 1.        , 1.        , 1.        ],\n",
      "       [1.        , 1.        , 1.        , 1.        , 1.        ],\n",
      "       [1.        , 1.        , 1.        , 1.00000001, 1.00000001],\n",
      "       [1.        , 1.        , 1.        , 1.        , 1.        ],\n",
      "       [1.        , 1.        , 1.        , 1.        , 1.        ],\n",
      "       [1.        , 1.        , 1.        , 1.        , 0.99999999]]), array([4.86115343e-17, 7.65182843e-17, 8.11395684e-17, 8.63263255e-17,\n",
      "       8.64080682e-17, 2.17927418e-16]))\n",
      "           fun: 4.861153433422115e-17\n",
      "       message: 'Optimization terminated successfully.'\n",
      "          nfev: 571\n",
      "           nit: 339\n",
      "        status: 0\n",
      "       success: True\n",
      "             x: array([1., 1., 1., 1., 1.])\n"
     ]
    }
   ],
   "source": [
    "from scipy.optimize import minimize\n",
    "\n",
    "def rosen(x):\n",
    "    \"\"\"The Rosenbrock function.\"\"\"\n",
    "    return sum(100 * (x[1:] - x[:-1] ** 2) ** 2 + (1 - x[:-1]) ** 2)\n",
    "\n",
    "x0 = np.array([1.3, 0.7, 0.8, 1.9, 1.2])\n",
    "res = minimize(rosen, x0, method='nelder-mead', options={'xtol': 1e-8, 'disp': True})\n",
    "\n",
    "print(\"\\nOptimization:\\n\",res)"
   ]
  },
  {
   "cell_type": "code",
   "execution_count": 52,
   "metadata": {},
   "outputs": [
    {
     "name": "stdout",
     "output_type": "stream",
     "text": [
      " minimize(fun, x0, args=(), method=None, jac=None, hess=None, hessp=None,\n",
      "          bounds=None, constraints=(), tol=None, callback=None, options=None)\n",
      "\n",
      "Minimization of scalar function of one or more variables.\n",
      "\n",
      "Parameters\n",
      "----------\n",
      "fun : callable\n",
      "    The objective function to be minimized.\n",
      "\n",
      "        ``fun(x, *args) -> float``\n",
      "\n",
      "    where x is an 1-D array with shape (n,) and `args`\n",
      "    is a tuple of the fixed parameters needed to completely\n",
      "    specify the function.\n",
      "x0 : ndarray, shape (n,)\n",
      "    Initial guess. Array of real elements of size (n,),\n",
      "    where 'n' is the number of independent variables.\n",
      "args : tuple, optional\n",
      "    Extra arguments passed to the objective function and its\n",
      "    derivatives (`fun`, `jac` and `hess` functions).\n",
      "method : str or callable, optional\n",
      "    Type of solver.  Should be one of\n",
      "\n",
      "        - 'Nelder-Mead' :ref:`(see here) <optimize.minimize-neldermead>`\n",
      "        - 'Powell'      :ref:`(see here) <optimize.minimize-powell>`\n",
      "        - 'CG'          :ref:`(see here) <optimize.minimize-cg>`\n",
      "        - 'BFGS'        :ref:`(see here) <optimize.minimize-bfgs>`\n",
      "        - 'Newton-CG'   :ref:`(see here) <optimize.minimize-newtoncg>`\n",
      "        - 'L-BFGS-B'    :ref:`(see here) <optimize.minimize-lbfgsb>`\n",
      "        - 'TNC'         :ref:`(see here) <optimize.minimize-tnc>`\n",
      "        - 'COBYLA'      :ref:`(see here) <optimize.minimize-cobyla>`\n",
      "        - 'SLSQP'       :ref:`(see here) <optimize.minimize-slsqp>`\n",
      "        - 'trust-constr':ref:`(see here) <optimize.minimize-trustconstr>`\n",
      "        - 'dogleg'      :ref:`(see here) <optimize.minimize-dogleg>`\n",
      "        - 'trust-ncg'   :ref:`(see here) <optimize.minimize-trustncg>`\n",
      "        - 'trust-exact' :ref:`(see here) <optimize.minimize-trustexact>`\n",
      "        - 'trust-krylov' :ref:`(see here) <optimize.minimize-trustkrylov>`\n",
      "        - custom - a callable object (added in version 0.14.0),\n",
      "          see below for description.\n",
      "\n",
      "    If not given, chosen to be one of ``BFGS``, ``L-BFGS-B``, ``SLSQP``,\n",
      "    depending if the problem has constraints or bounds.\n",
      "jac : {callable,  '2-point', '3-point', 'cs', bool}, optional\n",
      "    Method for computing the gradient vector. Only for CG, BFGS,\n",
      "    Newton-CG, L-BFGS-B, TNC, SLSQP, dogleg, trust-ncg, trust-krylov,\n",
      "    trust-exact and trust-constr. If it is a callable, it should be a\n",
      "    function that returns the gradient vector:\n",
      "\n",
      "        ``jac(x, *args) -> array_like, shape (n,)``\n",
      "\n",
      "    where x is an array with shape (n,) and `args` is a tuple with\n",
      "    the fixed parameters. Alternatively, the keywords\n",
      "    {'2-point', '3-point', 'cs'} select a finite\n",
      "    difference scheme for numerical estimation of the gradient. Options\n",
      "    '3-point' and 'cs' are available only to 'trust-constr'.\n",
      "    If `jac` is a Boolean and is True, `fun` is assumed to return the\n",
      "    gradient along with the objective function. If False, the gradient\n",
      "    will be estimated using '2-point' finite difference estimation.\n",
      "hess : {callable, '2-point', '3-point', 'cs', HessianUpdateStrategy},  optional\n",
      "    Method for computing the Hessian matrix. Only for Newton-CG, dogleg,\n",
      "    trust-ncg,  trust-krylov, trust-exact and trust-constr. If it is\n",
      "    callable, it should return the  Hessian matrix:\n",
      "\n",
      "        ``hess(x, *args) -> {LinearOperator, spmatrix, array}, (n, n)``\n",
      "\n",
      "    where x is a (n,) ndarray and `args` is a tuple with the fixed\n",
      "    parameters. LinearOperator and sparse matrix returns are\n",
      "    allowed only for 'trust-constr' method. Alternatively, the keywords\n",
      "    {'2-point', '3-point', 'cs'} select a finite difference scheme\n",
      "    for numerical estimation. Or, objects implementing\n",
      "    `HessianUpdateStrategy` interface can be used to approximate\n",
      "    the Hessian. Available quasi-Newton methods implementing\n",
      "    this interface are:\n",
      "\n",
      "        - `BFGS`;\n",
      "        - `SR1`.\n",
      "\n",
      "    Whenever the gradient is estimated via finite-differences,\n",
      "    the Hessian cannot be estimated with options\n",
      "    {'2-point', '3-point', 'cs'} and needs to be\n",
      "    estimated using one of the quasi-Newton strategies.\n",
      "    Finite-difference options {'2-point', '3-point', 'cs'} and\n",
      "    `HessianUpdateStrategy` are available only for 'trust-constr' method.\n",
      "hessp : callable, optional\n",
      "    Hessian of objective function times an arbitrary vector p. Only for\n",
      "    Newton-CG, trust-ncg, trust-krylov, trust-constr.\n",
      "    Only one of `hessp` or `hess` needs to be given.  If `hess` is\n",
      "    provided, then `hessp` will be ignored.  `hessp` must compute the\n",
      "    Hessian times an arbitrary vector:\n",
      "\n",
      "        ``hessp(x, p, *args) ->  ndarray shape (n,)``\n",
      "\n",
      "    where x is a (n,) ndarray, p is an arbitrary vector with\n",
      "    dimension (n,) and `args` is a tuple with the fixed\n",
      "    parameters.\n",
      "bounds : sequence or `Bounds`, optional\n",
      "    Bounds on variables for L-BFGS-B, TNC, SLSQP and\n",
      "    trust-constr methods. There are two ways to specify the bounds:\n",
      "\n",
      "        1. Instance of `Bounds` class.\n",
      "        2. Sequence of ``(min, max)`` pairs for each element in `x`. None\n",
      "           is used to specify no bound.\n",
      "\n",
      "constraints : {Constraint, dict} or List of {Constraint, dict}, optional\n",
      "    Constraints definition (only for COBYLA, SLSQP and trust-constr).\n",
      "    Constraints for 'trust-constr' are defined as a single object or a\n",
      "    list of objects specifying constraints to the optimization problem.\n",
      "    Available constraints are:\n",
      "\n",
      "        - `LinearConstraint`\n",
      "        - `NonlinearConstraint`\n",
      "\n",
      "    Constraints for COBYLA, SLSQP are defined as a list of dictionaries.\n",
      "    Each dictionary with fields:\n",
      "\n",
      "        type : str\n",
      "            Constraint type: 'eq' for equality, 'ineq' for inequality.\n",
      "        fun : callable\n",
      "            The function defining the constraint.\n",
      "        jac : callable, optional\n",
      "            The Jacobian of `fun` (only for SLSQP).\n",
      "        args : sequence, optional\n",
      "            Extra arguments to be passed to the function and Jacobian.\n",
      "\n",
      "    Equality constraint means that the constraint function result is to\n",
      "    be zero whereas inequality means that it is to be non-negative.\n",
      "    Note that COBYLA only supports inequality constraints.\n",
      "tol : float, optional\n",
      "    Tolerance for termination. For detailed control, use solver-specific\n",
      "    options.\n",
      "options : dict, optional\n",
      "    A dictionary of solver options. All methods accept the following\n",
      "    generic options:\n",
      "\n",
      "        maxiter : int\n",
      "            Maximum number of iterations to perform.\n",
      "        disp : bool\n",
      "            Set to True to print convergence messages.\n",
      "\n",
      "    For method-specific options, see :func:`show_options()`.\n",
      "callback : callable, optional\n",
      "    Called after each iteration. For 'trust-constr' it is a callable with\n",
      "    the signature:\n",
      "\n",
      "        ``callback(xk, OptimizeResult state) -> bool``\n",
      "\n",
      "    where ``xk`` is the current parameter vector. and ``state``\n",
      "    is an `OptimizeResult` object, with the same fields\n",
      "    as the ones from the return.  If callback returns True\n",
      "    the algorithm execution is terminated.\n",
      "    For all the other methods, the signature is:\n",
      "\n",
      "        ``callback(xk)``\n",
      "\n",
      "    where ``xk`` is the current parameter vector.\n",
      "\n",
      "Returns\n",
      "-------\n",
      "res : OptimizeResult\n",
      "    The optimization result represented as a ``OptimizeResult`` object.\n",
      "    Important attributes are: ``x`` the solution array, ``success`` a\n",
      "    Boolean flag indicating if the optimizer exited successfully and\n",
      "    ``message`` which describes the cause of the termination. See\n",
      "    `OptimizeResult` for a description of other attributes.\n",
      "\n",
      "See also\n",
      "--------\n",
      "minimize_scalar : Interface to minimization algorithms for scalar\n",
      "    univariate functions\n",
      "show_options : Additional options accepted by the solvers\n",
      "\n",
      "Notes\n",
      "-----\n",
      "This section describes the available solvers that can be selected by the\n",
      "'method' parameter. The default method is *BFGS*.\n",
      "\n",
      "**Unconstrained minimization**\n",
      "\n",
      "Method :ref:`Nelder-Mead <optimize.minimize-neldermead>` uses the\n",
      "Simplex algorithm [1]_, [2]_. This algorithm is robust in many\n",
      "applications. However, if numerical computation of derivative can be\n",
      "trusted, other algorithms using the first and/or second derivatives\n",
      "information might be preferred for their better performance in\n",
      "general.\n",
      "\n",
      "Method :ref:`Powell <optimize.minimize-powell>` is a modification\n",
      "of Powell's method [3]_, [4]_ which is a conjugate direction\n",
      "method. It performs sequential one-dimensional minimizations along\n",
      "each vector of the directions set (`direc` field in `options` and\n",
      "`info`), which is updated at each iteration of the main\n",
      "minimization loop. The function need not be differentiable, and no\n",
      "derivatives are taken.\n",
      "\n",
      "Method :ref:`CG <optimize.minimize-cg>` uses a nonlinear conjugate\n",
      "gradient algorithm by Polak and Ribiere, a variant of the\n",
      "Fletcher-Reeves method described in [5]_ pp.  120-122. Only the\n",
      "first derivatives are used.\n",
      "\n",
      "Method :ref:`BFGS <optimize.minimize-bfgs>` uses the quasi-Newton\n",
      "method of Broyden, Fletcher, Goldfarb, and Shanno (BFGS) [5]_\n",
      "pp. 136. It uses the first derivatives only. BFGS has proven good\n",
      "performance even for non-smooth optimizations. This method also\n",
      "returns an approximation of the Hessian inverse, stored as\n",
      "`hess_inv` in the OptimizeResult object.\n",
      "\n",
      "Method :ref:`Newton-CG <optimize.minimize-newtoncg>` uses a\n",
      "Newton-CG algorithm [5]_ pp. 168 (also known as the truncated\n",
      "Newton method). It uses a CG method to the compute the search\n",
      "direction. See also *TNC* method for a box-constrained\n",
      "minimization with a similar algorithm. Suitable for large-scale\n",
      "problems.\n",
      "\n",
      "Method :ref:`dogleg <optimize.minimize-dogleg>` uses the dog-leg\n",
      "trust-region algorithm [5]_ for unconstrained minimization. This\n",
      "algorithm requires the gradient and Hessian; furthermore the\n",
      "Hessian is required to be positive definite.\n",
      "\n",
      "Method :ref:`trust-ncg <optimize.minimize-trustncg>` uses the\n",
      "Newton conjugate gradient trust-region algorithm [5]_ for\n",
      "unconstrained minimization. This algorithm requires the gradient\n",
      "and either the Hessian or a function that computes the product of\n",
      "the Hessian with a given vector. Suitable for large-scale problems.\n",
      "\n",
      "Method :ref:`trust-krylov <optimize.minimize-trustkrylov>` uses\n",
      "the Newton GLTR trust-region algorithm [14]_, [15]_ for unconstrained\n",
      "minimization. This algorithm requires the gradient\n",
      "and either the Hessian or a function that computes the product of\n",
      "the Hessian with a given vector. Suitable for large-scale problems.\n",
      "On indefinite problems it requires usually less iterations than the\n",
      "`trust-ncg` method and is recommended for medium and large-scale problems.\n",
      "\n",
      "Method :ref:`trust-exact <optimize.minimize-trustexact>`\n",
      "is a trust-region method for unconstrained minimization in which\n",
      "quadratic subproblems are solved almost exactly [13]_. This\n",
      "algorithm requires the gradient and the Hessian (which is\n",
      "*not* required to be positive definite). It is, in many\n",
      "situations, the Newton method to converge in fewer iteraction\n",
      "and the most recommended for small and medium-size problems.\n",
      "\n",
      "**Bound-Constrained minimization**\n",
      "\n",
      "Method :ref:`L-BFGS-B <optimize.minimize-lbfgsb>` uses the L-BFGS-B\n",
      "algorithm [6]_, [7]_ for bound constrained minimization.\n",
      "\n",
      "Method :ref:`TNC <optimize.minimize-tnc>` uses a truncated Newton\n",
      "algorithm [5]_, [8]_ to minimize a function with variables subject\n",
      "to bounds. This algorithm uses gradient information; it is also\n",
      "called Newton Conjugate-Gradient. It differs from the *Newton-CG*\n",
      "method described above as it wraps a C implementation and allows\n",
      "each variable to be given upper and lower bounds.\n",
      "\n",
      "**Constrained Minimization**\n",
      "\n",
      "Method :ref:`COBYLA <optimize.minimize-cobyla>` uses the\n",
      "Constrained Optimization BY Linear Approximation (COBYLA) method\n",
      "[9]_, [10]_, [11]_. The algorithm is based on linear\n",
      "approximations to the objective function and each constraint. The\n",
      "method wraps a FORTRAN implementation of the algorithm. The\n",
      "constraints functions 'fun' may return either a single number\n",
      "or an array or list of numbers.\n",
      "\n",
      "Method :ref:`SLSQP <optimize.minimize-slsqp>` uses Sequential\n",
      "Least SQuares Programming to minimize a function of several\n",
      "variables with any combination of bounds, equality and inequality\n",
      "constraints. The method wraps the SLSQP Optimization subroutine\n",
      "originally implemented by Dieter Kraft [12]_. Note that the\n",
      "wrapper handles infinite values in bounds by converting them into\n",
      "large floating values.\n",
      "\n",
      "Method :ref:`trust-constr <optimize.minimize-trustconstr>` is a\n",
      "trust-region algorithm for constrained optimization. It swiches\n",
      "between two implementations depending on the problem definition.\n",
      "It is the most versatile constrained minimization algorithm\n",
      "implemented in SciPy and the most appropriate for large-scale problems.\n",
      "For equality constrained problems it is an implementation of Byrd-Omojokun\n",
      "Trust-Region SQP method described in [17]_ and in [5]_, p. 549. When\n",
      "inequality constraints  are imposed as well, it swiches to the trust-region\n",
      "interior point  method described in [16]_. This interior point algorithm,\n",
      "in turn, solves inequality constraints by introducing slack variables\n",
      "and solving a sequence of equality-constrained barrier problems\n",
      "for progressively smaller values of the barrier parameter.\n",
      "The previously described equality constrained SQP method is\n",
      "used to solve the subproblems with increasing levels of accuracy\n",
      "as the iterate gets closer to a solution.\n",
      "\n",
      "**Finite-Difference Options**\n",
      "\n",
      "For Method :ref:`trust-constr <optimize.minimize-trustconstr>`\n",
      "the gradient and the Hessian may be approximated using\n",
      "three finite-difference schemes: {'2-point', '3-point', 'cs'}.\n",
      "The scheme 'cs' is, potentially, the most accurate but it\n",
      "requires the function to correctly handles complex inputs and to\n",
      "be differentiable in the complex plane. The scheme '3-point' is more\n",
      "accurate than '2-point' but requires twice as much operations.\n",
      "\n",
      "**Custom minimizers**\n",
      "\n",
      "It may be useful to pass a custom minimization method, for example\n",
      "when using a frontend to this method such as `scipy.optimize.basinhopping`\n",
      "or a different library.  You can simply pass a callable as the ``method``\n",
      "parameter.\n",
      "\n",
      "The callable is called as ``method(fun, x0, args, **kwargs, **options)``\n",
      "where ``kwargs`` corresponds to any other parameters passed to `minimize`\n",
      "(such as `callback`, `hess`, etc.), except the `options` dict, which has\n",
      "its contents also passed as `method` parameters pair by pair.  Also, if\n",
      "`jac` has been passed as a bool type, `jac` and `fun` are mangled so that\n",
      "`fun` returns just the function values and `jac` is converted to a function\n",
      "returning the Jacobian.  The method shall return an `OptimizeResult`\n",
      "object.\n",
      "\n",
      "The provided `method` callable must be able to accept (and possibly ignore)\n",
      "arbitrary parameters; the set of parameters accepted by `minimize` may\n",
      "expand in future versions and then these parameters will be passed to\n",
      "the method.  You can find an example in the scipy.optimize tutorial.\n",
      "\n",
      ".. versionadded:: 0.11.0\n",
      "\n",
      "References\n",
      "----------\n",
      ".. [1] Nelder, J A, and R Mead. 1965. A Simplex Method for Function\n",
      "    Minimization. The Computer Journal 7: 308-13.\n",
      ".. [2] Wright M H. 1996. Direct search methods: Once scorned, now\n",
      "    respectable, in Numerical Analysis 1995: Proceedings of the 1995\n",
      "    Dundee Biennial Conference in Numerical Analysis (Eds. D F\n",
      "    Griffiths and G A Watson). Addison Wesley Longman, Harlow, UK.\n",
      "    191-208.\n",
      ".. [3] Powell, M J D. 1964. An efficient method for finding the minimum of\n",
      "   a function of several variables without calculating derivatives. The\n",
      "   Computer Journal 7: 155-162.\n",
      ".. [4] Press W, S A Teukolsky, W T Vetterling and B P Flannery.\n",
      "   Numerical Recipes (any edition), Cambridge University Press.\n",
      ".. [5] Nocedal, J, and S J Wright. 2006. Numerical Optimization.\n",
      "   Springer New York.\n",
      ".. [6] Byrd, R H and P Lu and J. Nocedal. 1995. A Limited Memory\n",
      "   Algorithm for Bound Constrained Optimization. SIAM Journal on\n",
      "   Scientific and Statistical Computing 16 (5): 1190-1208.\n",
      ".. [7] Zhu, C and R H Byrd and J Nocedal. 1997. L-BFGS-B: Algorithm\n",
      "   778: L-BFGS-B, FORTRAN routines for large scale bound constrained\n",
      "   optimization. ACM Transactions on Mathematical Software 23 (4):\n",
      "   550-560.\n",
      ".. [8] Nash, S G. Newton-Type Minimization Via the Lanczos Method.\n",
      "   1984. SIAM Journal of Numerical Analysis 21: 770-778.\n",
      ".. [9] Powell, M J D. A direct search optimization method that models\n",
      "   the objective and constraint functions by linear interpolation.\n",
      "   1994. Advances in Optimization and Numerical Analysis, eds. S. Gomez\n",
      "   and J-P Hennart, Kluwer Academic (Dordrecht), 51-67.\n",
      ".. [10] Powell M J D. Direct search algorithms for optimization\n",
      "   calculations. 1998. Acta Numerica 7: 287-336.\n",
      ".. [11] Powell M J D. A view of algorithms for optimization without\n",
      "   derivatives. 2007.Cambridge University Technical Report DAMTP\n",
      "   2007/NA03\n",
      ".. [12] Kraft, D. A software package for sequential quadratic\n",
      "   programming. 1988. Tech. Rep. DFVLR-FB 88-28, DLR German Aerospace\n",
      "   Center -- Institute for Flight Mechanics, Koln, Germany.\n",
      ".. [13] Conn, A. R., Gould, N. I., and Toint, P. L.\n",
      "   Trust region methods. 2000. Siam. pp. 169-200.\n",
      ".. [14] F. Lenders, C. Kirches, A. Potschka: \"trlib: A vector-free\n",
      "   implementation of the GLTR method for iterative solution of\n",
      "   the trust region problem\", https://arxiv.org/abs/1611.04718\n",
      ".. [15] N. Gould, S. Lucidi, M. Roma, P. Toint: \"Solving the\n",
      "   Trust-Region Subproblem using the Lanczos Method\",\n",
      "   SIAM J. Optim., 9(2), 504--525, (1999).\n",
      ".. [16] Byrd, Richard H., Mary E. Hribar, and Jorge Nocedal. 1999.\n",
      "    An interior point algorithm for large-scale nonlinear  programming.\n",
      "    SIAM Journal on Optimization 9.4: 877-900.\n",
      ".. [17] Lalee, Marucha, Jorge Nocedal, and Todd Plantega. 1998. On the\n",
      "    implementation of an algorithm for large-scale equality constrained\n",
      "    optimization. SIAM Journal on Optimization 8.3: 682-706.\n",
      "\n",
      "Examples\n",
      "--------\n",
      "Let us consider the problem of minimizing the Rosenbrock function. This\n",
      "function (and its respective derivatives) is implemented in `rosen`\n",
      "(resp. `rosen_der`, `rosen_hess`) in the `scipy.optimize`.\n",
      "\n",
      ">>> from scipy.optimize import minimize, rosen, rosen_der\n",
      "\n",
      "A simple application of the *Nelder-Mead* method is:\n",
      "\n",
      ">>> x0 = [1.3, 0.7, 0.8, 1.9, 1.2]\n",
      ">>> res = minimize(rosen, x0, method='Nelder-Mead', tol=1e-6)\n",
      ">>> res.x\n",
      "array([ 1.,  1.,  1.,  1.,  1.])\n",
      "\n",
      "Now using the *BFGS* algorithm, using the first derivative and a few\n",
      "options:\n",
      "\n",
      ">>> res = minimize(rosen, x0, method='BFGS', jac=rosen_der,\n",
      "...                options={'gtol': 1e-6, 'disp': True})\n",
      "Optimization terminated successfully.\n",
      "         Current function value: 0.000000\n",
      "         Iterations: 26\n",
      "         Function evaluations: 31\n",
      "         Gradient evaluations: 31\n",
      ">>> res.x\n",
      "array([ 1.,  1.,  1.,  1.,  1.])\n",
      ">>> print(res.message)\n",
      "Optimization terminated successfully.\n",
      ">>> res.hess_inv\n",
      "array([[ 0.00749589,  0.01255155,  0.02396251,  0.04750988,  0.09495377],  # may vary\n",
      "       [ 0.01255155,  0.02510441,  0.04794055,  0.09502834,  0.18996269],\n",
      "       [ 0.02396251,  0.04794055,  0.09631614,  0.19092151,  0.38165151],\n",
      "       [ 0.04750988,  0.09502834,  0.19092151,  0.38341252,  0.7664427 ],\n",
      "       [ 0.09495377,  0.18996269,  0.38165151,  0.7664427,   1.53713523]])\n",
      "\n",
      "\n",
      "Next, consider a minimization problem with several constraints (namely\n",
      "Example 16.4 from [5]_). The objective function is:\n",
      "\n",
      ">>> fun = lambda x: (x[0] - 1)**2 + (x[1] - 2.5)**2\n",
      "\n",
      "There are three constraints defined as:\n",
      "\n",
      ">>> cons = ({'type': 'ineq', 'fun': lambda x:  x[0] - 2 * x[1] + 2},\n",
      "...         {'type': 'ineq', 'fun': lambda x: -x[0] - 2 * x[1] + 6},\n",
      "...         {'type': 'ineq', 'fun': lambda x: -x[0] + 2 * x[1] + 2})\n",
      "\n",
      "And variables must be positive, hence the following bounds:\n",
      "\n",
      ">>> bnds = ((0, None), (0, None))\n",
      "\n",
      "The optimization problem is solved using the SLSQP method as:\n",
      "\n",
      ">>> res = minimize(fun, (2, 0), method='SLSQP', bounds=bnds,\n",
      "...                constraints=cons)\n",
      "\n",
      "It should converge to the theoretical solution (1.4 ,1.7).\n"
     ]
    }
   ],
   "source": [
    "scipy.info(scipy.optimize.minimize)"
   ]
  },
  {
   "cell_type": "markdown",
   "metadata": {},
   "source": [
    "#### Example 3: Computing the Optimal Image Shift\n",
    "\n",
    "The following example is adapted from *Elegant SciPy* (Chapter 7):\n",
    "<img src=\"https://covers.oreillystatic.com/images/0636920038481/lrg.jpg\" align=\"center\" width=\"250\">\n",
    "\n",
    "Let's start with the simplest version of the problem: we have two\n",
    "images, one shifted relative to the other.  We wish to recover the\n",
    "shift that will best align our images. Our optimization function will \"jiggle\" one of the images, and see\n",
    "whether jiggling it in one direction or another reduces their\n",
    "dissimilarity.  By doing this repeatedly, we can try to find the\n",
    "correct alignment.\n",
    "\n",
    "We will shift an image of the astronaut Eileen Collins by `83` pixels to the right then comparing it back to the original until we find the shift that best matches. Obviously this is a silly thing to do, as we know the original position, but this way we know the truth, and we can check how our algorithm is doing. Here's the original and shifted image."
   ]
  },
  {
   "cell_type": "code",
   "execution_count": 55,
   "metadata": {},
   "outputs": [
    {
     "data": {
      "image/png": "[encoded data removed]",
      "text/plain": [
       "<Figure size 600x450 with 2 Axes>"
      ]
     },
     "metadata": {},
     "output_type": "display_data"
    }
   ],
   "source": [
    "import matplotlib.pyplot as plt\n",
    "plt.style.use('resources/elegant.mplstyle')\n",
    "\n",
    "from skimage import data, color\n",
    "from scipy import ndimage as ndi\n",
    "import matplotlib.pyplot as plt\n",
    "\n",
    "astronaut = color.rgb2gray(data.astronaut())\n",
    "shifted = ndi.shift(astronaut, (0, 83))\n",
    "\n",
    "fig, axes = plt.subplots(nrows=1, ncols=2)\n",
    "axes[0].imshow(astronaut)\n",
    "axes[0].set_title('Original')\n",
    "axes[1].imshow(shifted)\n",
    "axes[1].set_title('Shifted');"
   ]
  },
  {
   "cell_type": "markdown",
   "metadata": {},
   "source": [
    "<!-- caption text=\"Horizontally shifting an image\" -->\n",
    "\n",
    "For the optimization algorithm to do its work, we need some way of defining \"dissimilarity\"—i.e., the cost function.  The easiest way to do this is to simply calculate the average of the squared differences, i.e., the *mean squared error*, or MSE."
   ]
  },
  {
   "cell_type": "code",
   "execution_count": 56,
   "metadata": {},
   "outputs": [],
   "source": [
    "def mse(x,y):\n",
    "    \"\"\"Computes the mean squared error between two arrays.\"\"\"\n",
    "    return np.mean((x - y) ** 2)"
   ]
  },
  {
   "cell_type": "markdown",
   "metadata": {},
   "source": [
    "This will return `0` when the images are perfectly aligned, and a higher\n",
    "value otherwise. With this cost function, we can check whether two images are aligned:"
   ]
  },
  {
   "cell_type": "code",
   "execution_count": 57,
   "metadata": {},
   "outputs": [
    {
     "data": {
      "image/png": "[encoded data removed]",
      "text/plain": [
       "<Figure size 600x450 with 1 Axes>"
      ]
     },
     "metadata": {},
     "output_type": "display_data"
    }
   ],
   "source": [
    "ncol = astronaut.shape[1]\n",
    "\n",
    "# Cover a distance of 90% of the length in columns,\n",
    "# with one value per percentage point\n",
    "shifts = np.linspace(-0.9 * ncol, 0.9 * ncol, 181)\n",
    "mse_costs = []\n",
    "\n",
    "for shift in shifts:\n",
    "    shifted1 = ndi.shift(astronaut, (0, shift))\n",
    "    mse_costs.append(mse(astronaut, shifted1))\n",
    "\n",
    "fig, ax = plt.subplots()\n",
    "ax.plot(shifts, mse_costs)\n",
    "ax.set_xlabel('Shift')\n",
    "ax.set_ylabel('MSE');"
   ]
  },
  {
   "cell_type": "markdown",
   "metadata": {},
   "source": [
    "<!-- caption text=\"Mean squared error as a function of horizontal shift of the\n",
    "transformed image\" -->\n",
    "\n",
    "With the cost function defined, we can ask `scipy.optimize.minimize`\n",
    "to search for optimal parameters:"
   ]
  },
  {
   "cell_type": "code",
   "execution_count": 58,
   "metadata": {},
   "outputs": [
    {
     "name": "stdout",
     "output_type": "stream",
     "text": [
      "The optimal shift for correction is: -82.99999981933608\n"
     ]
    }
   ],
   "source": [
    "from scipy import optimize\n",
    "\n",
    "def astronaut_shift_error(shift, image):\n",
    "    corrected = ndi.shift(image, (0, shift))\n",
    "    return mse(astronaut, corrected)\n",
    "\n",
    "res = optimize.minimize(astronaut_shift_error, 0, args=(shifted,),method='Powell')\n",
    "\n",
    "print(f'The optimal shift for correction is: {res.x}')"
   ]
  },
  {
   "cell_type": "markdown",
   "metadata": {},
   "source": [
    "It worked! We shifted it by `+83` pixels, and, thanks to our MSE measure, SciPy's\n",
    "`optimize.minimize` function has given us the correct amount of shift (`-83`) to\n",
    "get it back to its original state."
   ]
  },
  {
   "cell_type": "markdown",
   "metadata": {},
   "source": [
    "<!-- caption text=\"Mean squared error as a function of shift from the original\n",
    "image\" -->\n",
    "\n",
    "Starting at zero shift, have a look at the MSE value as the shift becomes\n",
    "increasingly negative: it increases consistently until around -300\n",
    "pixels of shift, where it starts to decrease again! Only slightly, but it\n",
    "decreases nonetheless. The MSE bottoms out at around -400, before it\n",
    "increases again. This is called a *local minimum*.\n",
    "Because optimization methods only have access to \"nearby\"\n",
    "values of the cost function, if the function improves by moving in the \"wrong\"\n",
    "direction, the `minimize` process will move that way regardless. So, if we\n",
    "start by an image shifted by -340 pixels:"
   ]
  },
  {
   "cell_type": "code",
   "execution_count": 59,
   "metadata": {},
   "outputs": [],
   "source": [
    "shifted2 = ndi.shift(astronaut, (0, -340))"
   ]
  },
  {
   "cell_type": "markdown",
   "metadata": {},
   "source": [
    "Instead of recovering the original image, `minimize` will shift it by a further `40` pixels or so:"
   ]
  },
  {
   "cell_type": "code",
   "execution_count": 60,
   "metadata": {},
   "outputs": [
    {
     "name": "stdout",
     "output_type": "stream",
     "text": [
      "The optimal shift for correction is -38.51778619396494\n"
     ]
    }
   ],
   "source": [
    "res = optimize.minimize(astronaut_shift_error, 0, args=(shifted2,), method='Powell')\n",
    "print(f'The optimal shift for correction is {res.x}')"
   ]
  },
  {
   "cell_type": "markdown",
   "metadata": {},
   "source": [
    "However, shifting by `340` pixels would indeed give the least MSE:"
   ]
  },
  {
   "cell_type": "code",
   "execution_count": 61,
   "metadata": {},
   "outputs": [
    {
     "name": "stdout",
     "output_type": "stream",
     "text": [
      "0 0.25458834639388056\n",
      "10 0.25650207062907715\n",
      "20 0.25313118331564544\n",
      "30 0.24847905737087253\n",
      "40 0.24448717467951436\n",
      "50 0.2402304424963223\n",
      "60 0.2369077502669345\n",
      "70 0.2359696238467892\n",
      "80 0.2360557092785759\n",
      "90 0.23684647625054997\n",
      "100 0.24144776884791824\n",
      "110 0.24639612694207957\n",
      "120 0.250462091364242\n",
      "130 0.25265073342568906\n",
      "140 0.25120035973532157\n",
      "150 0.24849663599763855\n",
      "160 0.24552383460773866\n",
      "170 0.2416429479050463\n",
      "180 0.23644257583104378\n",
      "190 0.23237387952342595\n",
      "200 0.22819574805990345\n",
      "210 0.22551843175970743\n",
      "220 0.2250673769672724\n",
      "230 0.22552633534837574\n",
      "240 0.22733577852555956\n",
      "250 0.22905980748620297\n",
      "260 0.22905349504781403\n",
      "270 0.2270485409605741\n",
      "280 0.22466936255842973\n",
      "290 0.22289540960711196\n",
      "300 0.22078492915866257\n",
      "310 0.21772664632915825\n",
      "320 0.21127566242933293\n",
      "330 0.2004227497143783\n",
      "340 0.18541323814319766\n",
      "350 0.2103278111916292\n",
      "360 0.23096741692510078\n",
      "370 0.24591839466109022\n",
      "380 0.2553130990389651\n",
      "390 0.26158232338808673\n",
      "400 0.2651635646315796\n"
     ]
    }
   ],
   "source": [
    "space = np.linspace(0,400,41)\n",
    "\n",
    "for point in space:\n",
    "    print(int(point), astronaut_shift_error(point, shifted2))"
   ]
  },
  {
   "cell_type": "markdown",
   "metadata": {},
   "source": [
    "The common solution to this problem is to smooth or downscale the images, which\n",
    "has the dual result of smoothing the objective function. Have a look at the\n",
    "same plot, after having smoothed the images with a Gaussian filter:"
   ]
  },
  {
   "cell_type": "code",
   "execution_count": 62,
   "metadata": {},
   "outputs": [
    {
     "data": {
      "image/png": "[encoded data removed]",
      "text/plain": [
       "<Figure size 600x450 with 1 Axes>"
      ]
     },
     "metadata": {},
     "output_type": "display_data"
    }
   ],
   "source": [
    "from skimage import filters\n",
    "\n",
    "astronaut_smooth = filters.gaussian(astronaut, sigma=20)\n",
    "\n",
    "mse_costs_smooth = []\n",
    "shifts = np.linspace(-0.9 * ncol, 0.9 * ncol, 181)\n",
    "for shift in shifts:\n",
    "    shifted3 = ndi.shift(astronaut_smooth, (0, shift))\n",
    "    mse_costs_smooth.append(mse(astronaut_smooth, shifted3))\n",
    "\n",
    "fig, ax = plt.subplots()\n",
    "ax.plot(shifts, mse_costs, label='original')\n",
    "ax.plot(shifts, mse_costs_smooth, label='smoothed')\n",
    "ax.legend(loc='lower right')\n",
    "ax.set_xlabel('Shift')\n",
    "ax.set_ylabel('MSE');"
   ]
  },
  {
   "cell_type": "markdown",
   "metadata": {},
   "source": [
    "### 1.4 Finding Roots"
   ]
  },
  {
   "cell_type": "code",
   "execution_count": 63,
   "metadata": {},
   "outputs": [
    {
     "name": "stdout",
     "output_type": "stream",
     "text": [
      "Help on function root in module scipy.optimize._root:\n",
      "\n",
      "root(fun, x0, args=(), method='hybr', jac=None, tol=None, callback=None, options=None)\n",
      "    Find a root of a vector function.\n",
      "    \n",
      "    Parameters\n",
      "    ----------\n",
      "    fun : callable\n",
      "        A vector function to find a root of.\n",
      "    x0 : ndarray\n",
      "        Initial guess.\n",
      "    args : tuple, optional\n",
      "        Extra arguments passed to the objective function and its Jacobian.\n",
      "    method : str, optional\n",
      "        Type of solver.  Should be one of\n",
      "    \n",
      "            - 'hybr'             :ref:`(see here) <optimize.root-hybr>`\n",
      "            - 'lm'               :ref:`(see here) <optimize.root-lm>`\n",
      "            - 'broyden1'         :ref:`(see here) <optimize.root-broyden1>`\n",
      "            - 'broyden2'         :ref:`(see here) <optimize.root-broyden2>`\n",
      "            - 'anderson'         :ref:`(see here) <optimize.root-anderson>`\n",
      "            - 'linearmixing'     :ref:`(see here) <optimize.root-linearmixing>`\n",
      "            - 'diagbroyden'      :ref:`(see here) <optimize.root-diagbroyden>`\n",
      "            - 'excitingmixing'   :ref:`(see here) <optimize.root-excitingmixing>`\n",
      "            - 'krylov'           :ref:`(see here) <optimize.root-krylov>`\n",
      "            - 'df-sane'          :ref:`(see here) <optimize.root-dfsane>`\n",
      "    \n",
      "    jac : bool or callable, optional\n",
      "        If `jac` is a Boolean and is True, `fun` is assumed to return the\n",
      "        value of Jacobian along with the objective function. If False, the\n",
      "        Jacobian will be estimated numerically.\n",
      "        `jac` can also be a callable returning the Jacobian of `fun`. In\n",
      "        this case, it must accept the same arguments as `fun`.\n",
      "    tol : float, optional\n",
      "        Tolerance for termination. For detailed control, use solver-specific\n",
      "        options.\n",
      "    callback : function, optional\n",
      "        Optional callback function. It is called on every iteration as\n",
      "        ``callback(x, f)`` where `x` is the current solution and `f`\n",
      "        the corresponding residual. For all methods but 'hybr' and 'lm'.\n",
      "    options : dict, optional\n",
      "        A dictionary of solver options. E.g. `xtol` or `maxiter`, see\n",
      "        :obj:`show_options()` for details.\n",
      "    \n",
      "    Returns\n",
      "    -------\n",
      "    sol : OptimizeResult\n",
      "        The solution represented as a ``OptimizeResult`` object.\n",
      "        Important attributes are: ``x`` the solution array, ``success`` a\n",
      "        Boolean flag indicating if the algorithm exited successfully and\n",
      "        ``message`` which describes the cause of the termination. See\n",
      "        `OptimizeResult` for a description of other attributes.\n",
      "    \n",
      "    See also\n",
      "    --------\n",
      "    show_options : Additional options accepted by the solvers\n",
      "    \n",
      "    Notes\n",
      "    -----\n",
      "    This section describes the available solvers that can be selected by the\n",
      "    'method' parameter. The default method is *hybr*.\n",
      "    \n",
      "    Method *hybr* uses a modification of the Powell hybrid method as\n",
      "    implemented in MINPACK [1]_.\n",
      "    \n",
      "    Method *lm* solves the system of nonlinear equations in a least squares\n",
      "    sense using a modification of the Levenberg-Marquardt algorithm as\n",
      "    implemented in MINPACK [1]_.\n",
      "    \n",
      "    Method *df-sane* is a derivative-free spectral method. [3]_\n",
      "    \n",
      "    Methods *broyden1*, *broyden2*, *anderson*, *linearmixing*,\n",
      "    *diagbroyden*, *excitingmixing*, *krylov* are inexact Newton methods,\n",
      "    with backtracking or full line searches [2]_. Each method corresponds\n",
      "    to a particular Jacobian approximations. See `nonlin` for details.\n",
      "    \n",
      "    - Method *broyden1* uses Broyden's first Jacobian approximation, it is\n",
      "      known as Broyden's good method.\n",
      "    - Method *broyden2* uses Broyden's second Jacobian approximation, it\n",
      "      is known as Broyden's bad method.\n",
      "    - Method *anderson* uses (extended) Anderson mixing.\n",
      "    - Method *Krylov* uses Krylov approximation for inverse Jacobian. It\n",
      "      is suitable for large-scale problem.\n",
      "    - Method *diagbroyden* uses diagonal Broyden Jacobian approximation.\n",
      "    - Method *linearmixing* uses a scalar Jacobian approximation.\n",
      "    - Method *excitingmixing* uses a tuned diagonal Jacobian\n",
      "      approximation.\n",
      "    \n",
      "    .. warning::\n",
      "    \n",
      "        The algorithms implemented for methods *diagbroyden*,\n",
      "        *linearmixing* and *excitingmixing* may be useful for specific\n",
      "        problems, but whether they will work may depend strongly on the\n",
      "        problem.\n",
      "    \n",
      "    .. versionadded:: 0.11.0\n",
      "    \n",
      "    References\n",
      "    ----------\n",
      "    .. [1] More, Jorge J., Burton S. Garbow, and Kenneth E. Hillstrom.\n",
      "       1980. User Guide for MINPACK-1.\n",
      "    .. [2] C. T. Kelley. 1995. Iterative Methods for Linear and Nonlinear\n",
      "       Equations. Society for Industrial and Applied Mathematics.\n",
      "       <https://archive.siam.org/books/kelley/fr16/>\n",
      "    .. [3] W. La Cruz, J.M. Martinez, M. Raydan. Math. Comp. 75, 1429 (2006).\n",
      "    \n",
      "    Examples\n",
      "    --------\n",
      "    The following functions define a system of nonlinear equations and its\n",
      "    jacobian.\n",
      "    \n",
      "    >>> def fun(x):\n",
      "    ...     return [x[0]  + 0.5 * (x[0] - x[1])**3 - 1.0,\n",
      "    ...             0.5 * (x[1] - x[0])**3 + x[1]]\n",
      "    \n",
      "    >>> def jac(x):\n",
      "    ...     return np.array([[1 + 1.5 * (x[0] - x[1])**2,\n",
      "    ...                       -1.5 * (x[0] - x[1])**2],\n",
      "    ...                      [-1.5 * (x[1] - x[0])**2,\n",
      "    ...                       1 + 1.5 * (x[1] - x[0])**2]])\n",
      "    \n",
      "    A solution can be obtained as follows.\n",
      "    \n",
      "    >>> from scipy import optimize\n",
      "    >>> sol = optimize.root(fun, [0, 0], jac=jac, method='hybr')\n",
      "    >>> sol.x\n",
      "    array([ 0.8411639,  0.1588361])\n",
      "\n"
     ]
    }
   ],
   "source": [
    "help(scipy.optimize.root)"
   ]
  },
  {
   "cell_type": "markdown",
   "metadata": {},
   "source": [
    "#### Example 1: One-Dimensional Root Finding\n",
    "Consider the following equation:\n",
    "\\begin{align*}\n",
    "x^2 + 0.2x + 4\\text{cos}(x) - 3 = 0.\n",
    "\\end{align*}"
   ]
  },
  {
   "cell_type": "code",
   "execution_count": 64,
   "metadata": {},
   "outputs": [
    {
     "data": {
      "text/plain": [
       "[<matplotlib.lines.Line2D at 0x23ea49b5188>]"
      ]
     },
     "execution_count": 64,
     "metadata": {},
     "output_type": "execute_result"
    },
    {
     "data": {
      "text/plain": [
       "[<matplotlib.lines.Line2D at 0x23ea4963248>]"
      ]
     },
     "execution_count": 64,
     "metadata": {},
     "output_type": "execute_result"
    },
    {
     "data": {
      "text/plain": [
       "(-3, 3)"
      ]
     },
     "execution_count": 64,
     "metadata": {},
     "output_type": "execute_result"
    },
    {
     "data": {
      "image/png": "[encoded data removed]",
      "text/plain": [
       "<Figure size 600x450 with 1 Axes>"
      ]
     },
     "metadata": {},
     "output_type": "display_data"
    }
   ],
   "source": [
    "def f(x):\n",
    "    return x ** 2 + 0.2 * x + 4 * np.cos(x) - 3\n",
    "\n",
    "x = np.linspace(-3, 3, 200)\n",
    "plt.plot(x, f(x), 'r-')\n",
    "plt.plot(x,np.zeros(200))\n",
    "plt.xlim((-3, 3))\n",
    "plt.show()"
   ]
  },
  {
   "cell_type": "markdown",
   "metadata": {},
   "source": [
    "A root can be found as follows:"
   ]
  },
  {
   "cell_type": "code",
   "execution_count": 65,
   "metadata": {},
   "outputs": [
    {
     "data": {
      "text/plain": [
       "    fjac: array([[-1.]])\n",
       "     fun: array([8.8817842e-16])\n",
       " message: 'The solution converged.'\n",
       "    nfev: 14\n",
       "     qtf: array([7.73776154e-10])\n",
       "       r: array([1.03573143])\n",
       "  status: 1\n",
       " success: True\n",
       "       x: array([1.31913243])"
      ]
     },
     "execution_count": 65,
     "metadata": {},
     "output_type": "execute_result"
    }
   ],
   "source": [
    "optimize.root(f,0)"
   ]
  },
  {
   "cell_type": "code",
   "execution_count": 66,
   "metadata": {},
   "outputs": [
    {
     "data": {
      "text/plain": [
       "2.2501224766393197"
      ]
     },
     "execution_count": 66,
     "metadata": {},
     "output_type": "execute_result"
    }
   ],
   "source": [
    "optimize.newton(f,0)"
   ]
  },
  {
   "cell_type": "code",
   "execution_count": 67,
   "metadata": {},
   "outputs": [
    {
     "data": {
      "text/plain": [
       "1.3191324291411353"
      ]
     },
     "execution_count": 67,
     "metadata": {},
     "output_type": "execute_result"
    }
   ],
   "source": [
    "optimize.brentq(f,0,2)"
   ]
  },
  {
   "cell_type": "code",
   "execution_count": 68,
   "metadata": {},
   "outputs": [
    {
     "data": {
      "text/plain": [
       "array([1.31913243])"
      ]
     },
     "execution_count": 68,
     "metadata": {},
     "output_type": "execute_result"
    }
   ],
   "source": [
    "optimize.fsolve(f,0)"
   ]
  },
  {
   "cell_type": "markdown",
   "metadata": {},
   "source": [
    "### 🔴 *Homework: Find all roots.*"
   ]
  },
  {
   "cell_type": "markdown",
   "metadata": {},
   "source": [
    "#### Example 2: Multidimensional Root Finding\n",
    "Using the last method (`fsolve`), we can also solve a set of equations, e.g.\n",
    "\\begin{align*}\n",
    "\\begin{cases}\n",
    "x_0 \\text{cos}(x_1) &= 4, \\\\\n",
    "x_0 x_1 - x_1 &= 5.\n",
    "\\end{cases}\n",
    "\\end{align*}"
   ]
  },
  {
   "cell_type": "code",
   "execution_count": 69,
   "metadata": {},
   "outputs": [
    {
     "data": {
      "text/plain": [
       "    fjac: array([[-0.56248005, -0.82681085],\n",
       "       [ 0.82681085, -0.56248005]])\n",
       "     fun: array([3.73212572e-12, 1.61710645e-11])\n",
       " message: 'The solution converged.'\n",
       "    nfev: 17\n",
       "     qtf: array([6.25677420e-08, 2.40104774e-08])\n",
       "       r: array([-1.0907073 , -1.7621827 , -7.37420598])\n",
       "  status: 1\n",
       " success: True\n",
       "       x: array([6.50409711, 0.90841421])"
      ]
     },
     "execution_count": 69,
     "metadata": {},
     "output_type": "execute_result"
    }
   ],
   "source": [
    "def g(x):\n",
    "    return [x[0] * np.cos(x[1]) - 4, x[0] * x[1] - x[1] - 5]\n",
    "\n",
    "optimize.root(g,(1,1), method='hybr')"
   ]
  },
  {
   "cell_type": "markdown",
   "metadata": {},
   "source": [
    "### 1.5 Integration"
   ]
  },
  {
   "cell_type": "code",
   "execution_count": 70,
   "metadata": {},
   "outputs": [
    {
     "name": "stdout",
     "output_type": "stream",
     "text": [
      "=============================================\n",
      "Integration and ODEs (:mod:`scipy.integrate`)\n",
      "=============================================\n",
      "\n",
      ".. currentmodule:: scipy.integrate\n",
      "\n",
      "Integrating functions, given function object\n",
      "============================================\n",
      "\n",
      ".. autosummary::\n",
      "   :toctree: generated/\n",
      "\n",
      "   quad          -- General purpose integration\n",
      "   dblquad       -- General purpose double integration\n",
      "   tplquad       -- General purpose triple integration\n",
      "   nquad         -- General purpose n-dimensional integration\n",
      "   fixed_quad    -- Integrate func(x) using Gaussian quadrature of order n\n",
      "   quadrature    -- Integrate with given tolerance using Gaussian quadrature\n",
      "   romberg       -- Integrate func using Romberg integration\n",
      "   quad_explain  -- Print information for use of quad\n",
      "   newton_cotes  -- Weights and error coefficient for Newton-Cotes integration\n",
      "   IntegrationWarning -- Warning on issues during integration\n",
      "\n",
      "Integrating functions, given fixed samples\n",
      "==========================================\n",
      "\n",
      ".. autosummary::\n",
      "   :toctree: generated/\n",
      "\n",
      "   trapz         -- Use trapezoidal rule to compute integral.\n",
      "   cumtrapz      -- Use trapezoidal rule to cumulatively compute integral.\n",
      "   simps         -- Use Simpson's rule to compute integral from samples.\n",
      "   romb          -- Use Romberg Integration to compute integral from\n",
      "                 -- (2**k + 1) evenly-spaced samples.\n",
      "\n",
      ".. seealso::\n",
      "\n",
      "   :mod:`scipy.special` for orthogonal polynomials (special) for Gaussian\n",
      "   quadrature roots and weights for other weighting factors and regions.\n",
      "\n",
      "Solving initial value problems for ODE systems\n",
      "==============================================\n",
      "\n",
      "The solvers are implemented as individual classes which can be used directly\n",
      "(low-level usage) or through a convenience function.\n",
      "\n",
      ".. autosummary::\n",
      "   :toctree: generated/\n",
      "\n",
      "   solve_ivp     -- Convenient function for ODE integration.\n",
      "   RK23          -- Explicit Runge-Kutta solver of order 3(2).\n",
      "   RK45          -- Explicit Runge-Kutta solver of order 5(4).\n",
      "   Radau         -- Implicit Runge-Kutta solver of order 5.\n",
      "   BDF           -- Implicit multi-step variable order (1 to 5) solver.\n",
      "   LSODA         -- LSODA solver from ODEPACK Fortran package.\n",
      "   OdeSolver     -- Base class for ODE solvers.\n",
      "   DenseOutput   -- Local interpolant for computing a dense output.\n",
      "   OdeSolution   -- Class which represents a continuous ODE solution.\n",
      "\n",
      "\n",
      "Old API\n",
      "-------\n",
      "\n",
      "These are the routines developed earlier for scipy. They wrap older solvers\n",
      "implemented in Fortran (mostly ODEPACK). While the interface to them is not\n",
      "particularly convenient and certain features are missing compared to the new\n",
      "API, the solvers themselves are of good quality and work fast as compiled\n",
      "Fortran code. In some cases it might be worth using this old API.\n",
      "\n",
      ".. autosummary::\n",
      "   :toctree: generated/\n",
      "\n",
      "   odeint        -- General integration of ordinary differential equations.\n",
      "   ode           -- Integrate ODE using VODE and ZVODE routines.\n",
      "   complex_ode   -- Convert a complex-valued ODE to real-valued and integrate.\n",
      "\n",
      "\n",
      "Solving boundary value problems for ODE systems\n",
      "===============================================\n",
      "\n",
      ".. autosummary::\n",
      "   :toctree: generated/\n",
      "\n",
      "   solve_bvp     -- Solve a boundary value problem for a system of ODEs.\n"
     ]
    }
   ],
   "source": [
    "from scipy import integrate\n",
    "scipy.info(scipy.integrate)"
   ]
  },
  {
   "cell_type": "markdown",
   "metadata": {},
   "source": [
    "#### Example 1: One-Dimensional Integration\n",
    "\n",
    "Suppose that we want to compute a numerical value for the integral\n",
    "\\begin{align*}\n",
    "E_n(x) = \\int_{1}^{\\infty}\\frac{e^{-xt}}{t^n}\\mathrm{d}t.\n",
    "\\end{align*}\n",
    "We can do this as follows:"
   ]
  },
  {
   "cell_type": "code",
   "execution_count": 71,
   "metadata": {},
   "outputs": [
    {
     "data": {
      "text/plain": [
       "array([0.10969197, 0.05673949, 0.03013338, 0.01629537, 0.00893065,\n",
       "       0.00494538])"
      ]
     },
     "execution_count": 71,
     "metadata": {},
     "output_type": "execute_result"
    }
   ],
   "source": [
    "def integrand(t,n,x):\n",
    "    return np.exp(-x * t) / t ** n\n",
    "\n",
    "def E(n,x):\n",
    "    return integrate.quad(integrand, 1, np.Inf, args=(n,x))[0]\n",
    "\n",
    "n = 3\n",
    "vec_E = np.vectorize(E)\n",
    "vec_E(n,np.arange(1.0,4.0,0.5))"
   ]
  },
  {
   "cell_type": "markdown",
   "metadata": {},
   "source": [
    "#### Example 2: Two-Dimensional Integration\n",
    "\n",
    "Consider the integral\n",
    "\\begin{align*}\n",
    "I =\n",
    "\\int_{0}^{1/2}\\int_{0}^{1-2x}xy\\mathrm{d}y\\mathrm{d}x = \\frac{1}{96} \\approx 0.0104.\n",
    "\\end{align*}\n",
    "To compute this, we use the function `dblquad`:"
   ]
  },
  {
   "cell_type": "code",
   "execution_count": 72,
   "metadata": {},
   "outputs": [
    {
     "data": {
      "text/plain": [
       "(0.010416666666666668, 4.101620128472366e-16)"
      ]
     },
     "execution_count": 72,
     "metadata": {},
     "output_type": "execute_result"
    }
   ],
   "source": [
    "def f(x,y):\n",
    "    return x * y\n",
    "\n",
    "integrate.dblquad(f, 0, 0.5, 0, lambda x: 1 - 2 * x)"
   ]
  },
  {
   "cell_type": "markdown",
   "metadata": {},
   "source": [
    "For $n$-fold integration, scipy provides the function `nquad`."
   ]
  },
  {
   "cell_type": "markdown",
   "metadata": {},
   "source": [
    "### 1.6 ODE's\n",
    "\n",
    "Ordinary differential equations (ODEs) can also be solved in Python with the `scipy.integrate` package, namely using the function `odeint`. The function requires three inputs (`y = odeint(model, y0, t)`):"
   ]
  },
  {
   "cell_type": "code",
   "execution_count": 73,
   "metadata": {},
   "outputs": [
    {
     "name": "stdout",
     "output_type": "stream",
     "text": [
      "Help on function odeint in module scipy.integrate.odepack:\n",
      "\n",
      "odeint(func, y0, t, args=(), Dfun=None, col_deriv=0, full_output=0, ml=None, mu=None, rtol=None, atol=None, tcrit=None, h0=0.0, hmax=0.0, hmin=0.0, ixpr=0, mxstep=0, mxhnil=0, mxordn=12, mxords=5, printmessg=0, tfirst=False)\n",
      "    Integrate a system of ordinary differential equations.\n",
      "    \n",
      "    .. note:: For new code, use `scipy.integrate.solve_ivp` to solve a\n",
      "              differential equation.\n",
      "    \n",
      "    Solve a system of ordinary differential equations using lsoda from the\n",
      "    FORTRAN library odepack.\n",
      "    \n",
      "    Solves the initial value problem for stiff or non-stiff systems\n",
      "    of first order ode-s::\n",
      "    \n",
      "        dy/dt = func(y, t, ...)  [or func(t, y, ...)]\n",
      "    \n",
      "    where y can be a vector.\n",
      "    \n",
      "    .. note:: By default, the required order of the first two arguments of\n",
      "              `func` are in the opposite order of the arguments in the system\n",
      "              definition function used by the `scipy.integrate.ode` class and\n",
      "              the function `scipy.integrate.solve_ivp`.  To use a function with\n",
      "              the signature ``func(t, y, ...)``, the argument `tfirst` must be\n",
      "              set to ``True``.\n",
      "    \n",
      "    Parameters\n",
      "    ----------\n",
      "    func : callable(y, t, ...) or callable(t, y, ...)\n",
      "        Computes the derivative of y at t.\n",
      "        If the signature is ``callable(t, y, ...)``, then the argument\n",
      "        `tfirst` must be set ``True``.\n",
      "    y0 : array\n",
      "        Initial condition on y (can be a vector).\n",
      "    t : array\n",
      "        A sequence of time points for which to solve for y.  The initial\n",
      "        value point should be the first element of this sequence.\n",
      "        This sequence must be monotonically increasing or monotonically\n",
      "        decreasing; repeated values are allowed.\n",
      "    args : tuple, optional\n",
      "        Extra arguments to pass to function.\n",
      "    Dfun : callable(y, t, ...) or callable(t, y, ...)\n",
      "        Gradient (Jacobian) of `func`.\n",
      "        If the signature is ``callable(t, y, ...)``, then the argument\n",
      "        `tfirst` must be set ``True``.\n",
      "    col_deriv : bool, optional\n",
      "        True if `Dfun` defines derivatives down columns (faster),\n",
      "        otherwise `Dfun` should define derivatives across rows.\n",
      "    full_output : bool, optional\n",
      "        True if to return a dictionary of optional outputs as the second output\n",
      "    printmessg : bool, optional\n",
      "        Whether to print the convergence message\n",
      "    tfirst: bool, optional\n",
      "        If True, the first two arguments of `func` (and `Dfun`, if given)\n",
      "        must ``t, y`` instead of the default ``y, t``.\n",
      "    \n",
      "        .. versionadded:: 1.1.0\n",
      "    \n",
      "    Returns\n",
      "    -------\n",
      "    y : array, shape (len(t), len(y0))\n",
      "        Array containing the value of y for each desired time in t,\n",
      "        with the initial value `y0` in the first row.\n",
      "    infodict : dict, only returned if full_output == True\n",
      "        Dictionary containing additional output information\n",
      "    \n",
      "        =======  ============================================================\n",
      "        key      meaning\n",
      "        =======  ============================================================\n",
      "        'hu'     vector of step sizes successfully used for each time step.\n",
      "        'tcur'   vector with the value of t reached for each time step.\n",
      "                 (will always be at least as large as the input times).\n",
      "        'tolsf'  vector of tolerance scale factors, greater than 1.0,\n",
      "                 computed when a request for too much accuracy was detected.\n",
      "        'tsw'    value of t at the time of the last method switch\n",
      "                 (given for each time step)\n",
      "        'nst'    cumulative number of time steps\n",
      "        'nfe'    cumulative number of function evaluations for each time step\n",
      "        'nje'    cumulative number of jacobian evaluations for each time step\n",
      "        'nqu'    a vector of method orders for each successful step.\n",
      "        'imxer'  index of the component of largest magnitude in the\n",
      "                 weighted local error vector (e / ewt) on an error return, -1\n",
      "                 otherwise.\n",
      "        'lenrw'  the length of the double work array required.\n",
      "        'leniw'  the length of integer work array required.\n",
      "        'mused'  a vector of method indicators for each successful time step:\n",
      "                 1: adams (nonstiff), 2: bdf (stiff)\n",
      "        =======  ============================================================\n",
      "    \n",
      "    Other Parameters\n",
      "    ----------------\n",
      "    ml, mu : int, optional\n",
      "        If either of these are not None or non-negative, then the\n",
      "        Jacobian is assumed to be banded.  These give the number of\n",
      "        lower and upper non-zero diagonals in this banded matrix.\n",
      "        For the banded case, `Dfun` should return a matrix whose\n",
      "        rows contain the non-zero bands (starting with the lowest diagonal).\n",
      "        Thus, the return matrix `jac` from `Dfun` should have shape\n",
      "        ``(ml + mu + 1, len(y0))`` when ``ml >=0`` or ``mu >=0``.\n",
      "        The data in `jac` must be stored such that ``jac[i - j + mu, j]``\n",
      "        holds the derivative of the `i`th equation with respect to the `j`th\n",
      "        state variable.  If `col_deriv` is True, the transpose of this\n",
      "        `jac` must be returned.\n",
      "    rtol, atol : float, optional\n",
      "        The input parameters `rtol` and `atol` determine the error\n",
      "        control performed by the solver.  The solver will control the\n",
      "        vector, e, of estimated local errors in y, according to an\n",
      "        inequality of the form ``max-norm of (e / ewt) <= 1``,\n",
      "        where ewt is a vector of positive error weights computed as\n",
      "        ``ewt = rtol * abs(y) + atol``.\n",
      "        rtol and atol can be either vectors the same length as y or scalars.\n",
      "        Defaults to 1.49012e-8.\n",
      "    tcrit : ndarray, optional\n",
      "        Vector of critical points (e.g. singularities) where integration\n",
      "        care should be taken.\n",
      "    h0 : float, (0: solver-determined), optional\n",
      "        The step size to be attempted on the first step.\n",
      "    hmax : float, (0: solver-determined), optional\n",
      "        The maximum absolute step size allowed.\n",
      "    hmin : float, (0: solver-determined), optional\n",
      "        The minimum absolute step size allowed.\n",
      "    ixpr : bool, optional\n",
      "        Whether to generate extra printing at method switches.\n",
      "    mxstep : int, (0: solver-determined), optional\n",
      "        Maximum number of (internally defined) steps allowed for each\n",
      "        integration point in t.\n",
      "    mxhnil : int, (0: solver-determined), optional\n",
      "        Maximum number of messages printed.\n",
      "    mxordn : int, (0: solver-determined), optional\n",
      "        Maximum order to be allowed for the non-stiff (Adams) method.\n",
      "    mxords : int, (0: solver-determined), optional\n",
      "        Maximum order to be allowed for the stiff (BDF) method.\n",
      "    \n",
      "    See Also\n",
      "    --------\n",
      "    solve_ivp : Solve an initial value problem for a system of ODEs.\n",
      "    ode : a more object-oriented integrator based on VODE.\n",
      "    quad : for finding the area under a curve.\n",
      "    \n",
      "    Examples\n",
      "    --------\n",
      "    The second order differential equation for the angle `theta` of a\n",
      "    pendulum acted on by gravity with friction can be written::\n",
      "    \n",
      "        theta''(t) + b*theta'(t) + c*sin(theta(t)) = 0\n",
      "    \n",
      "    where `b` and `c` are positive constants, and a prime (') denotes a\n",
      "    derivative.  To solve this equation with `odeint`, we must first convert\n",
      "    it to a system of first order equations.  By defining the angular\n",
      "    velocity ``omega(t) = theta'(t)``, we obtain the system::\n",
      "    \n",
      "        theta'(t) = omega(t)\n",
      "        omega'(t) = -b*omega(t) - c*sin(theta(t))\n",
      "    \n",
      "    Let `y` be the vector [`theta`, `omega`].  We implement this system\n",
      "    in python as:\n",
      "    \n",
      "    >>> def pend(y, t, b, c):\n",
      "    ...     theta, omega = y\n",
      "    ...     dydt = [omega, -b*omega - c*np.sin(theta)]\n",
      "    ...     return dydt\n",
      "    ...\n",
      "    \n",
      "    We assume the constants are `b` = 0.25 and `c` = 5.0:\n",
      "    \n",
      "    >>> b = 0.25\n",
      "    >>> c = 5.0\n",
      "    \n",
      "    For initial conditions, we assume the pendulum is nearly vertical\n",
      "    with `theta(0)` = `pi` - 0.1, and is initially at rest, so\n",
      "    `omega(0)` = 0.  Then the vector of initial conditions is\n",
      "    \n",
      "    >>> y0 = [np.pi - 0.1, 0.0]\n",
      "    \n",
      "    We will generate a solution at 101 evenly spaced samples in the interval\n",
      "    0 <= `t` <= 10.  So our array of times is:\n",
      "    \n",
      "    >>> t = np.linspace(0, 10, 101)\n",
      "    \n",
      "    Call `odeint` to generate the solution.  To pass the parameters\n",
      "    `b` and `c` to `pend`, we give them to `odeint` using the `args`\n",
      "    argument.\n",
      "    \n",
      "    >>> from scipy.integrate import odeint\n",
      "    >>> sol = odeint(pend, y0, t, args=(b, c))\n",
      "    \n",
      "    The solution is an array with shape (101, 2).  The first column\n",
      "    is `theta(t)`, and the second is `omega(t)`.  The following code\n",
      "    plots both components.\n",
      "    \n",
      "    >>> import matplotlib.pyplot as plt\n",
      "    >>> plt.plot(t, sol[:, 0], 'b', label='theta(t)')\n",
      "    >>> plt.plot(t, sol[:, 1], 'g', label='omega(t)')\n",
      "    >>> plt.legend(loc='best')\n",
      "    >>> plt.xlabel('t')\n",
      "    >>> plt.grid()\n",
      "    >>> plt.show()\n",
      "\n"
     ]
    }
   ],
   "source": [
    "help(integrate.odeint)"
   ]
  },
  {
   "cell_type": "markdown",
   "metadata": {},
   "source": [
    "#### Example: A Simple ODE\n",
    "\n",
    "Consider the differential equation\n",
    "\\begin{align*}\n",
    "\\frac{\\mathrm{d}y}{\\mathrm{d}t} = -k y(t),\n",
    "\\end{align*}\n",
    "with parameter $k\\in (0,1)$ and initial condition $y_0=5$."
   ]
  },
  {
   "cell_type": "code",
   "execution_count": 74,
   "metadata": {},
   "outputs": [
    {
     "data": {
      "text/plain": [
       "[<matplotlib.lines.Line2D at 0x23ea4a1cd88>]"
      ]
     },
     "execution_count": 74,
     "metadata": {},
     "output_type": "execute_result"
    },
    {
     "data": {
      "text/plain": [
       "[<matplotlib.lines.Line2D at 0x23ea4989788>]"
      ]
     },
     "execution_count": 74,
     "metadata": {},
     "output_type": "execute_result"
    },
    {
     "data": {
      "text/plain": [
       "[<matplotlib.lines.Line2D at 0x23ea417ee08>]"
      ]
     },
     "execution_count": 74,
     "metadata": {},
     "output_type": "execute_result"
    },
    {
     "data": {
      "text/plain": [
       "[<matplotlib.lines.Line2D at 0x23ea49c97c8>]"
      ]
     },
     "execution_count": 74,
     "metadata": {},
     "output_type": "execute_result"
    },
    {
     "data": {
      "text/plain": [
       "Text(0.5, 0, 'time')"
      ]
     },
     "execution_count": 74,
     "metadata": {},
     "output_type": "execute_result"
    },
    {
     "data": {
      "text/plain": [
       "Text(0, 0.5, 'y(t)')"
      ]
     },
     "execution_count": 74,
     "metadata": {},
     "output_type": "execute_result"
    },
    {
     "data": {
      "text/plain": [
       "<matplotlib.legend.Legend at 0x23ea4a37c08>"
      ]
     },
     "execution_count": 74,
     "metadata": {},
     "output_type": "execute_result"
    },
    {
     "data": {
      "image/png": "[encoded data removed]",
      "text/plain": [
       "<Figure size 600x450 with 1 Axes>"
      ]
     },
     "metadata": {},
     "output_type": "display_data"
    }
   ],
   "source": [
    "from scipy.integrate import odeint\n",
    "\n",
    "y0 = 5\n",
    "t = np.linspace(0,20,50)\n",
    "\n",
    "def model(y,t,k):\n",
    "    \"\"\"Returns dy/dt.\"\"\"\n",
    "    return -k * y\n",
    "\n",
    "for k in [0.1,0.2,0.5,0.8]:\n",
    "    y = odeint(model,y0,t,args=(k,))\n",
    "    plt.plot(t,y)\n",
    "\n",
    "plt.xlabel('time')\n",
    "plt.ylabel('y(t)')\n",
    "plt.legend(['k=0.1','k=0.2','k=0.5','k=0.8'])\n",
    "plt.show()"
   ]
  },
  {
   "cell_type": "markdown",
   "metadata": {},
   "source": [
    "### Want to know more about SciPy? Check out 'Google Drive'."
   ]
  },
  {
   "cell_type": "markdown",
   "metadata": {},
   "source": [
    "### 🔴 *Next Week:*"
   ]
  },
  {
   "cell_type": "markdown",
   "metadata": {},
   "source": [
    "`pandas` and `scikit-learn`"
   ]
  }
 ],
 "metadata": {
  "kernelspec": {
   "display_name": "Python 3",
   "language": "python",
   "name": "python3"
  },
  "language_info": {
   "codemirror_mode": {
    "name": "ipython",
    "version": 3
   },
   "file_extension": ".py",
   "mimetype": "text/x-python",
   "name": "python",
   "nbconvert_exporter": "python",
   "pygments_lexer": "ipython3",
   "version": "3.7.7"
  }
 },
 "nbformat": 4,
 "nbformat_minor": 4
}
